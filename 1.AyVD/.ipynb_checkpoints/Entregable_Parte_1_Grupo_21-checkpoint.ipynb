{
 "cells": [
  {
   "cell_type": "markdown",
   "metadata": {
    "id": "view-in-github"
   },
   "source": [
    "<a href=\"https://colab.research.google.com/github/DiploDatos/AnalisisyVisualizacion/blob/master/Entregable_Parte_1.ipynb\" target=\"_parent\"><img src=\"https://colab.research.google.com/assets/colab-badge.svg\" alt=\"Open In Colab\"/></a>"
   ]
  },
  {
   "cell_type": "markdown",
   "metadata": {
    "id": "LYvAOR2VzHmW"
   },
   "source": [
    "\n",
    "**Diplomatura en Ciencia de Datos, Aprendizaje Automático y sus Aplicaciones**\n",
    "\n",
    "**Edición 2022**\n",
    "\n",
    "**Grupo 21**\n",
    "\n",
    "---\n",
    "## Trabajo práctico entregable - Parte 1"
   ]
  },
  {
   "cell_type": "code",
   "execution_count": 1,
   "metadata": {
    "executionInfo": {
     "elapsed": 811,
     "status": "ok",
     "timestamp": 1651337297188,
     "user": {
      "displayName": "TEO ARGAÑARAZ SARMIENTO",
      "userId": "02531750171444335604"
     },
     "user_tz": 180
    },
    "id": "Xwdfo7z20TUK"
   },
   "outputs": [],
   "source": [
    "import io\n",
    "import matplotlib\n",
    "import matplotlib.pyplot as plt\n",
    "import numpy as np\n",
    "import pandas as pd\n",
    "import seaborn\n",
    "import scipy as sc\n",
    "\n",
    "seaborn.set_context('talk')\n",
    "seaborn.set_theme(style = 'white')"
   ]
  },
  {
   "cell_type": "markdown",
   "metadata": {
    "id": "XY2Hl-Ma07Nn"
   },
   "source": [
    "## Lectura y curación del dataset"
   ]
  },
  {
   "cell_type": "code",
   "execution_count": 2,
   "metadata": {
    "executionInfo": {
     "elapsed": 2178,
     "status": "ok",
     "timestamp": 1651337299352,
     "user": {
      "displayName": "TEO ARGAÑARAZ SARMIENTO",
      "userId": "02531750171444335604"
     },
     "user_tz": 180
    },
    "id": "Vviv_sqXdR5W"
   },
   "outputs": [],
   "source": [
    "url = 'https://cs.famaf.unc.edu.ar/~mteruel/datasets/diplodatos/sysarmy_survey_2020_processed.csv'\n",
    "df = pd.read_csv(url)"
   ]
  },
  {
   "cell_type": "code",
   "execution_count": 3,
   "metadata": {
    "colab": {
     "base_uri": "https://localhost:8080/",
     "height": 324
    },
    "executionInfo": {
     "elapsed": 81,
     "status": "ok",
     "timestamp": 1651337299355,
     "user": {
      "displayName": "TEO ARGAÑARAZ SARMIENTO",
      "userId": "02531750171444335604"
     },
     "user_tz": 180
    },
    "id": "gckNHXXLktJ4",
    "outputId": "ec53cc7f-d718-43bb-91df-4b04934dc538"
   },
   "outputs": [
    {
     "data": {
      "text/html": [
       "\n",
       "  <div id=\"df-ad027f33-9439-47e9-93a5-9a9bc204398e\">\n",
       "    <div class=\"colab-df-container\">\n",
       "      <div>\n",
       "<style scoped>\n",
       "    .dataframe tbody tr th:only-of-type {\n",
       "        vertical-align: middle;\n",
       "    }\n",
       "\n",
       "    .dataframe tbody tr th {\n",
       "        vertical-align: top;\n",
       "    }\n",
       "\n",
       "    .dataframe thead th {\n",
       "        text-align: right;\n",
       "    }\n",
       "</style>\n",
       "<table border=\"1\" class=\"dataframe\">\n",
       "  <thead>\n",
       "    <tr style=\"text-align: right;\">\n",
       "      <th></th>\n",
       "      <th>profile_gender</th>\n",
       "      <th>profile_age</th>\n",
       "      <th>work_country</th>\n",
       "      <th>work_province</th>\n",
       "      <th>profile_years_experience</th>\n",
       "      <th>work_years_in_company</th>\n",
       "      <th>work_years_in_current_position</th>\n",
       "      <th>work_people_in_charge_of</th>\n",
       "      <th>profile_studies_level</th>\n",
       "      <th>profile_studies_level_state</th>\n",
       "      <th>...</th>\n",
       "      <th>work_has_violence_situations</th>\n",
       "      <th>profile_sexual_orientation</th>\n",
       "      <th>profile_has_disabilities</th>\n",
       "      <th>profile_has_disabilities_hiring_difficulties</th>\n",
       "      <th>company_employee_number</th>\n",
       "      <th>company_main_activity</th>\n",
       "      <th>company_recommended</th>\n",
       "      <th>company_diversity_policies</th>\n",
       "      <th>company_extra_benefits</th>\n",
       "      <th>company_best_companies_city</th>\n",
       "    </tr>\n",
       "  </thead>\n",
       "  <tbody>\n",
       "    <tr>\n",
       "      <th>0</th>\n",
       "      <td>Mujer</td>\n",
       "      <td>26</td>\n",
       "      <td>Argentina</td>\n",
       "      <td>Ciudad Autónoma de Buenos Aires</td>\n",
       "      <td>3.0</td>\n",
       "      <td>3.0</td>\n",
       "      <td>3.0</td>\n",
       "      <td>0</td>\n",
       "      <td>Universitario</td>\n",
       "      <td>En curso</td>\n",
       "      <td>...</td>\n",
       "      <td>En mi trabajo actual</td>\n",
       "      <td>Homosexual</td>\n",
       "      <td>NaN</td>\n",
       "      <td>NaN</td>\n",
       "      <td>501-1000</td>\n",
       "      <td>Servicios / Consultoría de Software / Digital</td>\n",
       "      <td>7</td>\n",
       "      <td>2</td>\n",
       "      <td>Capacitaciones y/o cursos, Comidas pagas / sub...</td>\n",
       "      <td>NaN</td>\n",
       "    </tr>\n",
       "    <tr>\n",
       "      <th>1</th>\n",
       "      <td>Hombre</td>\n",
       "      <td>29</td>\n",
       "      <td>Argentina</td>\n",
       "      <td>Corrientes</td>\n",
       "      <td>5.0</td>\n",
       "      <td>2.0</td>\n",
       "      <td>2.0</td>\n",
       "      <td>4</td>\n",
       "      <td>Universitario</td>\n",
       "      <td>En curso</td>\n",
       "      <td>...</td>\n",
       "      <td>Jamás</td>\n",
       "      <td>Heterosexual</td>\n",
       "      <td>Visual</td>\n",
       "      <td>No</td>\n",
       "      <td>201-500</td>\n",
       "      <td>Otras industrias</td>\n",
       "      <td>8</td>\n",
       "      <td>9</td>\n",
       "      <td>Horarios flexibles, Stock options / RSUs, Viát...</td>\n",
       "      <td>NaN</td>\n",
       "    </tr>\n",
       "    <tr>\n",
       "      <th>2</th>\n",
       "      <td>Mujer</td>\n",
       "      <td>22</td>\n",
       "      <td>Argentina</td>\n",
       "      <td>Ciudad Autónoma de Buenos Aires</td>\n",
       "      <td>2.0</td>\n",
       "      <td>0.0</td>\n",
       "      <td>0.0</td>\n",
       "      <td>0</td>\n",
       "      <td>Secundario</td>\n",
       "      <td>Completado</td>\n",
       "      <td>...</td>\n",
       "      <td>En un trabajo anterior</td>\n",
       "      <td>Bisexual o queer</td>\n",
       "      <td>NaN</td>\n",
       "      <td>No</td>\n",
       "      <td>2001-5000</td>\n",
       "      <td>Otras industrias</td>\n",
       "      <td>6</td>\n",
       "      <td>9</td>\n",
       "      <td>Clases de gimnasia online, Comidas pagas / sub...</td>\n",
       "      <td>NaN</td>\n",
       "    </tr>\n",
       "  </tbody>\n",
       "</table>\n",
       "<p>3 rows × 48 columns</p>\n",
       "</div>\n",
       "      <button class=\"colab-df-convert\" onclick=\"convertToInteractive('df-ad027f33-9439-47e9-93a5-9a9bc204398e')\"\n",
       "              title=\"Convert this dataframe to an interactive table.\"\n",
       "              style=\"display:none;\">\n",
       "        \n",
       "  <svg xmlns=\"http://www.w3.org/2000/svg\" height=\"24px\"viewBox=\"0 0 24 24\"\n",
       "       width=\"24px\">\n",
       "    <path d=\"M0 0h24v24H0V0z\" fill=\"none\"/>\n",
       "    <path d=\"M18.56 5.44l.94 2.06.94-2.06 2.06-.94-2.06-.94-.94-2.06-.94 2.06-2.06.94zm-11 1L8.5 8.5l.94-2.06 2.06-.94-2.06-.94L8.5 2.5l-.94 2.06-2.06.94zm10 10l.94 2.06.94-2.06 2.06-.94-2.06-.94-.94-2.06-.94 2.06-2.06.94z\"/><path d=\"M17.41 7.96l-1.37-1.37c-.4-.4-.92-.59-1.43-.59-.52 0-1.04.2-1.43.59L10.3 9.45l-7.72 7.72c-.78.78-.78 2.05 0 2.83L4 21.41c.39.39.9.59 1.41.59.51 0 1.02-.2 1.41-.59l7.78-7.78 2.81-2.81c.8-.78.8-2.07 0-2.86zM5.41 20L4 18.59l7.72-7.72 1.47 1.35L5.41 20z\"/>\n",
       "  </svg>\n",
       "      </button>\n",
       "      \n",
       "  <style>\n",
       "    .colab-df-container {\n",
       "      display:flex;\n",
       "      flex-wrap:wrap;\n",
       "      gap: 12px;\n",
       "    }\n",
       "\n",
       "    .colab-df-convert {\n",
       "      background-color: #E8F0FE;\n",
       "      border: none;\n",
       "      border-radius: 50%;\n",
       "      cursor: pointer;\n",
       "      display: none;\n",
       "      fill: #1967D2;\n",
       "      height: 32px;\n",
       "      padding: 0 0 0 0;\n",
       "      width: 32px;\n",
       "    }\n",
       "\n",
       "    .colab-df-convert:hover {\n",
       "      background-color: #E2EBFA;\n",
       "      box-shadow: 0px 1px 2px rgba(60, 64, 67, 0.3), 0px 1px 3px 1px rgba(60, 64, 67, 0.15);\n",
       "      fill: #174EA6;\n",
       "    }\n",
       "\n",
       "    [theme=dark] .colab-df-convert {\n",
       "      background-color: #3B4455;\n",
       "      fill: #D2E3FC;\n",
       "    }\n",
       "\n",
       "    [theme=dark] .colab-df-convert:hover {\n",
       "      background-color: #434B5C;\n",
       "      box-shadow: 0px 1px 3px 1px rgba(0, 0, 0, 0.15);\n",
       "      filter: drop-shadow(0px 1px 2px rgba(0, 0, 0, 0.3));\n",
       "      fill: #FFFFFF;\n",
       "    }\n",
       "  </style>\n",
       "\n",
       "      <script>\n",
       "        const buttonEl =\n",
       "          document.querySelector('#df-ad027f33-9439-47e9-93a5-9a9bc204398e button.colab-df-convert');\n",
       "        buttonEl.style.display =\n",
       "          google.colab.kernel.accessAllowed ? 'block' : 'none';\n",
       "\n",
       "        async function convertToInteractive(key) {\n",
       "          const element = document.querySelector('#df-ad027f33-9439-47e9-93a5-9a9bc204398e');\n",
       "          const dataTable =\n",
       "            await google.colab.kernel.invokeFunction('convertToInteractive',\n",
       "                                                     [key], {});\n",
       "          if (!dataTable) return;\n",
       "\n",
       "          const docLinkHtml = 'Like what you see? Visit the ' +\n",
       "            '<a target=\"_blank\" href=https://colab.research.google.com/notebooks/data_table.ipynb>data table notebook</a>'\n",
       "            + ' to learn more about interactive tables.';\n",
       "          element.innerHTML = '';\n",
       "          dataTable['output_type'] = 'display_data';\n",
       "          await google.colab.output.renderOutput(dataTable, element);\n",
       "          const docLink = document.createElement('div');\n",
       "          docLink.innerHTML = docLinkHtml;\n",
       "          element.appendChild(docLink);\n",
       "        }\n",
       "      </script>\n",
       "    </div>\n",
       "  </div>\n",
       "  "
      ],
      "text/plain": [
       "  profile_gender  profile_age work_country                    work_province  \\\n",
       "0          Mujer           26    Argentina  Ciudad Autónoma de Buenos Aires   \n",
       "1         Hombre           29    Argentina                       Corrientes   \n",
       "2          Mujer           22    Argentina  Ciudad Autónoma de Buenos Aires   \n",
       "\n",
       "   profile_years_experience  work_years_in_company  \\\n",
       "0                       3.0                    3.0   \n",
       "1                       5.0                    2.0   \n",
       "2                       2.0                    0.0   \n",
       "\n",
       "   work_years_in_current_position  work_people_in_charge_of  \\\n",
       "0                             3.0                         0   \n",
       "1                             2.0                         4   \n",
       "2                             0.0                         0   \n",
       "\n",
       "  profile_studies_level profile_studies_level_state  ...  \\\n",
       "0         Universitario                    En curso  ...   \n",
       "1         Universitario                    En curso  ...   \n",
       "2            Secundario                  Completado  ...   \n",
       "\n",
       "  work_has_violence_situations profile_sexual_orientation  \\\n",
       "0         En mi trabajo actual                 Homosexual   \n",
       "1                        Jamás               Heterosexual   \n",
       "2       En un trabajo anterior           Bisexual o queer   \n",
       "\n",
       "  profile_has_disabilities profile_has_disabilities_hiring_difficulties  \\\n",
       "0                      NaN                                          NaN   \n",
       "1                   Visual                                           No   \n",
       "2                      NaN                                           No   \n",
       "\n",
       "  company_employee_number                          company_main_activity  \\\n",
       "0                501-1000  Servicios / Consultoría de Software / Digital   \n",
       "1                 201-500                               Otras industrias   \n",
       "2               2001-5000                               Otras industrias   \n",
       "\n",
       "  company_recommended company_diversity_policies  \\\n",
       "0                   7                          2   \n",
       "1                   8                          9   \n",
       "2                   6                          9   \n",
       "\n",
       "                              company_extra_benefits  \\\n",
       "0  Capacitaciones y/o cursos, Comidas pagas / sub...   \n",
       "1  Horarios flexibles, Stock options / RSUs, Viát...   \n",
       "2  Clases de gimnasia online, Comidas pagas / sub...   \n",
       "\n",
       "  company_best_companies_city  \n",
       "0                         NaN  \n",
       "1                         NaN  \n",
       "2                         NaN  \n",
       "\n",
       "[3 rows x 48 columns]"
      ]
     },
     "execution_count": 3,
     "metadata": {},
     "output_type": "execute_result"
    }
   ],
   "source": [
    "df[:3]"
   ]
  },
  {
   "cell_type": "markdown",
   "metadata": {
    "id": "-WqmFOBnwQvO"
   },
   "source": [
    "Cantidad de observaciones"
   ]
  },
  {
   "cell_type": "code",
   "execution_count": 4,
   "metadata": {
    "colab": {
     "base_uri": "https://localhost:8080/"
    },
    "executionInfo": {
     "elapsed": 79,
     "status": "ok",
     "timestamp": 1651337299357,
     "user": {
      "displayName": "TEO ARGAÑARAZ SARMIENTO",
      "userId": "02531750171444335604"
     },
     "user_tz": 180
    },
    "id": "wk-iNlu2wNex",
    "outputId": "45606c6b-41cf-4aaf-e3dd-21b7ec6c8c90"
   },
   "outputs": [
    {
     "data": {
      "text/plain": [
       "6095"
      ]
     },
     "execution_count": 4,
     "metadata": {},
     "output_type": "execute_result"
    }
   ],
   "source": [
    "len(df)"
   ]
  },
  {
   "cell_type": "markdown",
   "metadata": {
    "id": "nmhj3mlWxHaC"
   },
   "source": [
    "Nombres de las columnas"
   ]
  },
  {
   "cell_type": "code",
   "execution_count": 5,
   "metadata": {
    "colab": {
     "base_uri": "https://localhost:8080/"
    },
    "executionInfo": {
     "elapsed": 50,
     "status": "ok",
     "timestamp": 1651337299363,
     "user": {
      "displayName": "TEO ARGAÑARAZ SARMIENTO",
      "userId": "02531750171444335604"
     },
     "user_tz": 180
    },
    "id": "a89UrT3WASRc",
    "outputId": "8b73c52a-bf02-48f4-949c-733762be5ed3"
   },
   "outputs": [
    {
     "name": "stdout",
     "output_type": "stream",
     "text": [
      "Columnas del DF: ['profile_gender' 'profile_age' 'work_country' 'work_province'\n",
      " 'profile_years_experience' 'work_years_in_company'\n",
      " 'work_years_in_current_position' 'work_people_in_charge_of'\n",
      " 'profile_studies_level' 'profile_studies_level_state' 'profile_career'\n",
      " 'profile_university' 'profile_specialization_courses'\n",
      " 'profile_open_source_contributions' 'profile_programming_as_hobby'\n",
      " 'work_role' 'tools_platform' 'tools_programming_languages'\n",
      " 'tools_frameworks' 'tools_data_bases' 'tools_qa_testing' 'tools_IDEs'\n",
      " 'tools_work_pc_os' 'tools_cellphone_os' 'work_on_call_duty'\n",
      " 'salary_on_call_duty_charge' 'work_on_call_duty_charge_type'\n",
      " 'work_contract_type' 'salary_monthly_BRUTO' 'salary_monthly_NETO'\n",
      " 'salary_in_usd' 'salary_satisfaction' 'salary_comparison_last_semester'\n",
      " 'salary_has_bonus' 'salary_bonus_tied_to'\n",
      " 'salary_inflation_adjustment_2020'\n",
      " 'salary_percentage_inflation_adjustment_2020'\n",
      " 'salary_month_last_inflation_adjustment' 'work_has_violence_situations'\n",
      " 'profile_sexual_orientation' 'profile_has_disabilities'\n",
      " 'profile_has_disabilities_hiring_difficulties' 'company_employee_number'\n",
      " 'company_main_activity' 'company_recommended'\n",
      " 'company_diversity_policies' 'company_extra_benefits'\n",
      " 'company_best_companies_city']\n"
     ]
    }
   ],
   "source": [
    "print(\"Columnas del DF:\", df.columns.values)"
   ]
  },
  {
   "cell_type": "code",
   "execution_count": 6,
   "metadata": {
    "colab": {
     "base_uri": "https://localhost:8080/"
    },
    "executionInfo": {
     "elapsed": 46,
     "status": "ok",
     "timestamp": 1651337299364,
     "user": {
      "displayName": "TEO ARGAÑARAZ SARMIENTO",
      "userId": "02531750171444335604"
     },
     "user_tz": 180
    },
    "id": "lVK0iOJUFOPJ",
    "outputId": "539d89dc-fd97-45b3-aec8-279276653838"
   },
   "outputs": [
    {
     "name": "stdout",
     "output_type": "stream",
     "text": [
      "Tipos de datos del DF:\n",
      "profile_gender                                   object\n",
      "profile_age                                       int64\n",
      "work_country                                     object\n",
      "work_province                                    object\n",
      "profile_years_experience                        float64\n",
      "work_years_in_company                           float64\n",
      "work_years_in_current_position                  float64\n",
      "work_people_in_charge_of                          int64\n",
      "profile_studies_level                            object\n",
      "profile_studies_level_state                      object\n",
      "profile_career                                   object\n",
      "profile_university                               object\n",
      "profile_specialization_courses                   object\n",
      "profile_open_source_contributions                object\n",
      "profile_programming_as_hobby                     object\n",
      "work_role                                        object\n",
      "tools_platform                                   object\n",
      "tools_programming_languages                      object\n",
      "tools_frameworks                                 object\n",
      "tools_data_bases                                 object\n",
      "tools_qa_testing                                 object\n",
      "tools_IDEs                                       object\n",
      "tools_work_pc_os                                 object\n",
      "tools_cellphone_os                               object\n",
      "work_on_call_duty                                object\n",
      "salary_on_call_duty_charge                      float64\n",
      "work_on_call_duty_charge_type                    object\n",
      "work_contract_type                               object\n",
      "salary_monthly_BRUTO                            float64\n",
      "salary_monthly_NETO                             float64\n",
      "salary_in_usd                                    object\n",
      "salary_satisfaction                               int64\n",
      "salary_comparison_last_semester                   int64\n",
      "salary_has_bonus                                 object\n",
      "salary_bonus_tied_to                             object\n",
      "salary_inflation_adjustment_2020                 object\n",
      "salary_percentage_inflation_adjustment_2020     float64\n",
      "salary_month_last_inflation_adjustment            int64\n",
      "work_has_violence_situations                     object\n",
      "profile_sexual_orientation                       object\n",
      "profile_has_disabilities                         object\n",
      "profile_has_disabilities_hiring_difficulties     object\n",
      "company_employee_number                          object\n",
      "company_main_activity                            object\n",
      "company_recommended                               int64\n",
      "company_diversity_policies                        int64\n",
      "company_extra_benefits                           object\n",
      "company_best_companies_city                      object\n",
      "dtype: object\n"
     ]
    }
   ],
   "source": [
    "print(\"Tipos de datos del DF:\")\n",
    "print(df.dtypes)"
   ]
  },
  {
   "cell_type": "code",
   "execution_count": 7,
   "metadata": {
    "colab": {
     "base_uri": "https://localhost:8080/"
    },
    "executionInfo": {
     "elapsed": 38,
     "status": "ok",
     "timestamp": 1651337299365,
     "user": {
      "displayName": "TEO ARGAÑARAZ SARMIENTO",
      "userId": "02531750171444335604"
     },
     "user_tz": 180
    },
    "id": "zJHq1rvyFaHN",
    "outputId": "e0b8781c-64cc-4e78-dee6-1f887e239044"
   },
   "outputs": [
    {
     "data": {
      "text/plain": [
       "count     6095.000000\n",
       "mean        41.181952\n",
       "std        665.721175\n",
       "min         18.000000\n",
       "25%         27.000000\n",
       "50%         31.000000\n",
       "75%         37.000000\n",
       "max      52000.000000\n",
       "Name: profile_age, dtype: float64"
      ]
     },
     "execution_count": 7,
     "metadata": {},
     "output_type": "execute_result"
    }
   ],
   "source": [
    "df['profile_age'].describe()"
   ]
  },
  {
   "cell_type": "markdown",
   "metadata": {
    "id": "wvnh__LKGS2d"
   },
   "source": [
    "Limipiamos las edades fuera del rango de 18 a 75 años, ya que 18 es el minimo inicialmente"
   ]
  },
  {
   "cell_type": "code",
   "execution_count": 8,
   "metadata": {
    "executionInfo": {
     "elapsed": 34,
     "status": "ok",
     "timestamp": 1651337299365,
     "user": {
      "displayName": "TEO ARGAÑARAZ SARMIENTO",
      "userId": "02531750171444335604"
     },
     "user_tz": 180
    },
    "id": "y2C4s0cWF0DB"
   },
   "outputs": [],
   "source": [
    "df = df[df.profile_age<=75]"
   ]
  },
  {
   "cell_type": "markdown",
   "metadata": {
    "id": "E8c3nZv8CMIx"
   },
   "source": [
    "Limipiamos años de experiencia fuera del rango de 0 a 60 años"
   ]
  },
  {
   "cell_type": "code",
   "execution_count": 9,
   "metadata": {
    "colab": {
     "base_uri": "https://localhost:8080/"
    },
    "executionInfo": {
     "elapsed": 34,
     "status": "ok",
     "timestamp": 1651337299366,
     "user": {
      "displayName": "TEO ARGAÑARAZ SARMIENTO",
      "userId": "02531750171444335604"
     },
     "user_tz": 180
    },
    "id": "1rv1kBttBgMk",
    "outputId": "c1f8321a-dfff-476c-b2be-ac9a532fd666"
   },
   "outputs": [
    {
     "data": {
      "text/plain": [
       "count    6093.000000\n",
       "mean        8.929033\n",
       "std         7.160865\n",
       "min         0.000000\n",
       "25%         3.000000\n",
       "50%         7.000000\n",
       "75%        13.000000\n",
       "max       115.000000\n",
       "Name: profile_years_experience, dtype: float64"
      ]
     },
     "execution_count": 9,
     "metadata": {},
     "output_type": "execute_result"
    }
   ],
   "source": [
    "df['profile_years_experience'].describe()"
   ]
  },
  {
   "cell_type": "code",
   "execution_count": 10,
   "metadata": {
    "colab": {
     "base_uri": "https://localhost:8080/"
    },
    "executionInfo": {
     "elapsed": 31,
     "status": "ok",
     "timestamp": 1651337299366,
     "user": {
      "displayName": "TEO ARGAÑARAZ SARMIENTO",
      "userId": "02531750171444335604"
     },
     "user_tz": 180
    },
    "id": "oR1z-DcXBwTu",
    "outputId": "121111e2-e95b-4dcf-ee9a-5d343ca9060f"
   },
   "outputs": [
    {
     "data": {
      "text/plain": [
       "6092"
      ]
     },
     "execution_count": 10,
     "metadata": {},
     "output_type": "execute_result"
    }
   ],
   "source": [
    "df = df[df.profile_years_experience<60] \n",
    "len(df)\n",
    "#Esto es una pesima practica de programacion, pero creo que de esta forma se pueden hacer recortes mas independientes"
   ]
  },
  {
   "cell_type": "markdown",
   "metadata": {
    "id": "_gO-bo9pXqwj"
   },
   "source": [
    "Creamos identificador de fila para mantener seguimiento de los datos\n"
   ]
  },
  {
   "cell_type": "code",
   "execution_count": 11,
   "metadata": {
    "executionInfo": {
     "elapsed": 300,
     "status": "ok",
     "timestamp": 1651337299643,
     "user": {
      "displayName": "TEO ARGAÑARAZ SARMIENTO",
      "userId": "02531750171444335604"
     },
     "user_tz": 180
    },
    "id": "CL07MUHGXuLw"
   },
   "outputs": [],
   "source": [
    "df['id'] = np.arange(len(df)) "
   ]
  },
  {
   "cell_type": "markdown",
   "metadata": {
    "id": "-ZSQYANFHHgV"
   },
   "source": [
    "# Ejercicio 1 - Análisis descriptivo\n",
    "\n",
    "Responder a la pregunta: **¿Cuáles son los lenguajes de programación asociados a los mejores salarios?**\n",
    "\n",
    "Para ello:\n",
    "1. Seleccionar las columnas relevantes para analizar.\n",
    "2. Seleccionar las filas relevantes para analizar. Esto incluye la eliminación de valores extremos y erróneos, pero también puede enfocar el análisis en una sub-población. Por ejemplo, se pueden limitar a personas con un salario mayor que 10000 pesos, o a las personas que trabajan sólo en \"Data Science\", pero deben justificar su elección y reformular la pregunta inicial de ser necesario.\n",
    "  * Obtener una lista de los lenguajes de programación más populares. Decidir cuántos y cuáles seleccionan para incluir en el análisis.\n",
    "  * Para cada una de las otras columnas del punto anterior, elegir los rangos o valores seleccionan para incluir en el análisis.\n",
    "3. Seleccionar métricas que ayuden a responder la pregunta, y los métodos para analizarlas. Elegir UNA de las siguientes opciones:\n",
    "  * Comparar las distribuciones de salario para cada lenguaje utilizando visualizaciones. Como la visualización es el producto final, debe ser clara y mostrar información relevante.\n",
    "  * Comparar medidas de estadística descriptiva sobre la distribución de salario para cada lenguaje. Sean creativos, la estadística descriptiva nos permite decir cosas como: \"el 10% de los mejores sueldos los ganan, en su mayoría, programadores que saben kotlin!\" (donde *mayoría* es un término medio engañoso que sólo significa más del 50%). Para comparar múltiples lenguajes, les recomendamos usar también visualizaciones.\n",
    "  * Comparar probabilidades. Por ejemplo: \"Si sabés Python o Java, tenés un 30% más de chances de ganar arriba de 100K\".\n",
    "\n",
    "Si lo consideran necesario, realicen varias iteraciones. Es decir, si encuentran que las distribuciones de los lenguajes de programación que seleccionaron inicialmente no son muy diferentes, pueden re-hacer el análisis usando sólo los lenguajes de programación que son diferentes."
   ]
  },
  {
   "cell_type": "markdown",
   "metadata": {
    "id": "jZ6-sOvFJwKY"
   },
   "source": [
    "## **1.** Selección de columnas relevantes\n"
   ]
  },
  {
   "cell_type": "markdown",
   "metadata": {
    "id": "SjUbQQiLHfe2"
   },
   "source": [
    "\n",
    "*   **tools_programming_languages**: Indica los lenguages de programacion de cada programador\n",
    "*   **salary_monthly_NETO**: Salario neto de cada programador"
   ]
  },
  {
   "cell_type": "code",
   "execution_count": 12,
   "metadata": {
    "executionInfo": {
     "elapsed": 17,
     "status": "ok",
     "timestamp": 1651337299644,
     "user": {
      "displayName": "TEO ARGAÑARAZ SARMIENTO",
      "userId": "02531750171444335604"
     },
     "user_tz": 180
    },
    "id": "6dqTEr7cZgvl"
   },
   "outputs": [],
   "source": [
    "# complete here if you want to include more columns\n",
    "relevant_columns = ['tools_programming_languages', 'salary_monthly_NETO','id']#'salary_satisfaction'"
   ]
  },
  {
   "cell_type": "markdown",
   "metadata": {
    "id": "OoGgzMvuEocM"
   },
   "source": [
    "### Conteo de frecuencias de los lenguajes de programación\n",
    "\n",
    "La columna que contiene información sobre los lenguajes de programación utilizados es `tools_programming_languages`. Sus valores son strings con los lenguajes seleccionados separados por comas.\n",
    "\n"
   ]
  },
  {
   "cell_type": "code",
   "execution_count": 13,
   "metadata": {
    "colab": {
     "base_uri": "https://localhost:8080/"
    },
    "executionInfo": {
     "elapsed": 14,
     "status": "ok",
     "timestamp": 1651337299644,
     "user": {
      "displayName": "TEO ARGAÑARAZ SARMIENTO",
      "userId": "02531750171444335604"
     },
     "user_tz": 180
    },
    "id": "J7AB2Ty8SvNl",
    "outputId": "00623700-ee77-4764-9087-24faf355ad69"
   },
   "outputs": [
    {
     "data": {
      "text/plain": [
       "0                     Ninguno\n",
       "1    HTML, Javascript, Python\n",
       "2                     Ninguno\n",
       "Name: tools_programming_languages, dtype: object"
      ]
     },
     "execution_count": 13,
     "metadata": {},
     "output_type": "execute_result"
    }
   ],
   "source": [
    "df.tools_programming_languages[:3]"
   ]
  },
  {
   "cell_type": "markdown",
   "metadata": {
    "id": "l8bYmvMhSroH"
   },
   "source": [
    "Las siguientes celdas de código separan estos lenguajes de programación y cuentan la frecuencia con la que aparecen.\n",
    "\n",
    "No es necesario entender este código en profundidad, aunque sí es un buen ejercicio."
   ]
  },
  {
   "cell_type": "code",
   "execution_count": 14,
   "metadata": {
    "colab": {
     "base_uri": "https://localhost:8080/",
     "height": 206
    },
    "executionInfo": {
     "elapsed": 1834,
     "status": "ok",
     "timestamp": 1651337301466,
     "user": {
      "displayName": "TEO ARGAÑARAZ SARMIENTO",
      "userId": "02531750171444335604"
     },
     "user_tz": 180
    },
    "id": "PAQ81x3iUP_N",
    "outputId": "9aef46b5-2933-4a4b-a65e-889de08af54d"
   },
   "outputs": [
    {
     "data": {
      "text/html": [
       "\n",
       "  <div id=\"df-e105bec2-25dd-4848-85f6-cfdd43227b3d\">\n",
       "    <div class=\"colab-df-container\">\n",
       "      <div>\n",
       "<style scoped>\n",
       "    .dataframe tbody tr th:only-of-type {\n",
       "        vertical-align: middle;\n",
       "    }\n",
       "\n",
       "    .dataframe tbody tr th {\n",
       "        vertical-align: top;\n",
       "    }\n",
       "\n",
       "    .dataframe thead th {\n",
       "        text-align: right;\n",
       "    }\n",
       "</style>\n",
       "<table border=\"1\" class=\"dataframe\">\n",
       "  <thead>\n",
       "    <tr style=\"text-align: right;\">\n",
       "      <th></th>\n",
       "      <th>programming_language</th>\n",
       "      <th>tools_programming_languages</th>\n",
       "      <th>salary_monthly_NETO</th>\n",
       "      <th>id</th>\n",
       "      <th>cured_programming_languages</th>\n",
       "    </tr>\n",
       "  </thead>\n",
       "  <tbody>\n",
       "    <tr>\n",
       "      <th>1</th>\n",
       "      <td>html</td>\n",
       "      <td>HTML, Javascript, Python</td>\n",
       "      <td>63000.0</td>\n",
       "      <td>1</td>\n",
       "      <td>[html, javascript, python]</td>\n",
       "    </tr>\n",
       "    <tr>\n",
       "      <th>1</th>\n",
       "      <td>javascript</td>\n",
       "      <td>HTML, Javascript, Python</td>\n",
       "      <td>63000.0</td>\n",
       "      <td>1</td>\n",
       "      <td>[html, javascript, python]</td>\n",
       "    </tr>\n",
       "    <tr>\n",
       "      <th>1</th>\n",
       "      <td>python</td>\n",
       "      <td>HTML, Javascript, Python</td>\n",
       "      <td>63000.0</td>\n",
       "      <td>1</td>\n",
       "      <td>[html, javascript, python]</td>\n",
       "    </tr>\n",
       "    <tr>\n",
       "      <th>3</th>\n",
       "      <td>bash/shell</td>\n",
       "      <td>Bash/Shell, C, CSS, HTML, Java, Javascript, PH...</td>\n",
       "      <td>102000.0</td>\n",
       "      <td>3</td>\n",
       "      <td>[bash/shell, c, css, html, java, javascript, p...</td>\n",
       "    </tr>\n",
       "    <tr>\n",
       "      <th>3</th>\n",
       "      <td>c</td>\n",
       "      <td>Bash/Shell, C, CSS, HTML, Java, Javascript, PH...</td>\n",
       "      <td>102000.0</td>\n",
       "      <td>3</td>\n",
       "      <td>[bash/shell, c, css, html, java, javascript, p...</td>\n",
       "    </tr>\n",
       "  </tbody>\n",
       "</table>\n",
       "</div>\n",
       "      <button class=\"colab-df-convert\" onclick=\"convertToInteractive('df-e105bec2-25dd-4848-85f6-cfdd43227b3d')\"\n",
       "              title=\"Convert this dataframe to an interactive table.\"\n",
       "              style=\"display:none;\">\n",
       "        \n",
       "  <svg xmlns=\"http://www.w3.org/2000/svg\" height=\"24px\"viewBox=\"0 0 24 24\"\n",
       "       width=\"24px\">\n",
       "    <path d=\"M0 0h24v24H0V0z\" fill=\"none\"/>\n",
       "    <path d=\"M18.56 5.44l.94 2.06.94-2.06 2.06-.94-2.06-.94-.94-2.06-.94 2.06-2.06.94zm-11 1L8.5 8.5l.94-2.06 2.06-.94-2.06-.94L8.5 2.5l-.94 2.06-2.06.94zm10 10l.94 2.06.94-2.06 2.06-.94-2.06-.94-.94-2.06-.94 2.06-2.06.94z\"/><path d=\"M17.41 7.96l-1.37-1.37c-.4-.4-.92-.59-1.43-.59-.52 0-1.04.2-1.43.59L10.3 9.45l-7.72 7.72c-.78.78-.78 2.05 0 2.83L4 21.41c.39.39.9.59 1.41.59.51 0 1.02-.2 1.41-.59l7.78-7.78 2.81-2.81c.8-.78.8-2.07 0-2.86zM5.41 20L4 18.59l7.72-7.72 1.47 1.35L5.41 20z\"/>\n",
       "  </svg>\n",
       "      </button>\n",
       "      \n",
       "  <style>\n",
       "    .colab-df-container {\n",
       "      display:flex;\n",
       "      flex-wrap:wrap;\n",
       "      gap: 12px;\n",
       "    }\n",
       "\n",
       "    .colab-df-convert {\n",
       "      background-color: #E8F0FE;\n",
       "      border: none;\n",
       "      border-radius: 50%;\n",
       "      cursor: pointer;\n",
       "      display: none;\n",
       "      fill: #1967D2;\n",
       "      height: 32px;\n",
       "      padding: 0 0 0 0;\n",
       "      width: 32px;\n",
       "    }\n",
       "\n",
       "    .colab-df-convert:hover {\n",
       "      background-color: #E2EBFA;\n",
       "      box-shadow: 0px 1px 2px rgba(60, 64, 67, 0.3), 0px 1px 3px 1px rgba(60, 64, 67, 0.15);\n",
       "      fill: #174EA6;\n",
       "    }\n",
       "\n",
       "    [theme=dark] .colab-df-convert {\n",
       "      background-color: #3B4455;\n",
       "      fill: #D2E3FC;\n",
       "    }\n",
       "\n",
       "    [theme=dark] .colab-df-convert:hover {\n",
       "      background-color: #434B5C;\n",
       "      box-shadow: 0px 1px 3px 1px rgba(0, 0, 0, 0.15);\n",
       "      filter: drop-shadow(0px 1px 2px rgba(0, 0, 0, 0.3));\n",
       "      fill: #FFFFFF;\n",
       "    }\n",
       "  </style>\n",
       "\n",
       "      <script>\n",
       "        const buttonEl =\n",
       "          document.querySelector('#df-e105bec2-25dd-4848-85f6-cfdd43227b3d button.colab-df-convert');\n",
       "        buttonEl.style.display =\n",
       "          google.colab.kernel.accessAllowed ? 'block' : 'none';\n",
       "\n",
       "        async function convertToInteractive(key) {\n",
       "          const element = document.querySelector('#df-e105bec2-25dd-4848-85f6-cfdd43227b3d');\n",
       "          const dataTable =\n",
       "            await google.colab.kernel.invokeFunction('convertToInteractive',\n",
       "                                                     [key], {});\n",
       "          if (!dataTable) return;\n",
       "\n",
       "          const docLinkHtml = 'Like what you see? Visit the ' +\n",
       "            '<a target=\"_blank\" href=https://colab.research.google.com/notebooks/data_table.ipynb>data table notebook</a>'\n",
       "            + ' to learn more about interactive tables.';\n",
       "          element.innerHTML = '';\n",
       "          dataTable['output_type'] = 'display_data';\n",
       "          await google.colab.output.renderOutput(dataTable, element);\n",
       "          const docLink = document.createElement('div');\n",
       "          docLink.innerHTML = docLinkHtml;\n",
       "          element.appendChild(docLink);\n",
       "        }\n",
       "      </script>\n",
       "    </div>\n",
       "  </div>\n",
       "  "
      ],
      "text/plain": [
       "  programming_language                        tools_programming_languages  \\\n",
       "1                 html                           HTML, Javascript, Python   \n",
       "1           javascript                           HTML, Javascript, Python   \n",
       "1               python                           HTML, Javascript, Python   \n",
       "3           bash/shell  Bash/Shell, C, CSS, HTML, Java, Javascript, PH...   \n",
       "3                    c  Bash/Shell, C, CSS, HTML, Java, Javascript, PH...   \n",
       "\n",
       "   salary_monthly_NETO  id                        cured_programming_languages  \n",
       "1              63000.0   1                         [html, javascript, python]  \n",
       "1              63000.0   1                         [html, javascript, python]  \n",
       "1              63000.0   1                         [html, javascript, python]  \n",
       "3             102000.0   3  [bash/shell, c, css, html, java, javascript, p...  \n",
       "3             102000.0   3  [bash/shell, c, css, html, java, javascript, p...  "
      ]
     },
     "execution_count": 14,
     "metadata": {},
     "output_type": "execute_result"
    }
   ],
   "source": [
    "# Convert the comma-separated string of languages to a list of string.\n",
    "# Remove 'ninguno de los anteriores' option, spaces and training commas.\n",
    "def split_languages(languages_str):\n",
    "  if not isinstance(languages_str, str):\n",
    "    return []\n",
    "  # Remove 'other' option\n",
    "  languages_str = languages_str.lower()\\\n",
    "    .replace('ninguno de los anteriores', '').replace('ninguno','')\\\n",
    "    #.replace('-','').replace('.','').replace('lenguaje','').replace('|','')\\\n",
    "    #.replace('lenguajes','').replace('Ninguno','').replace('ninguna','')\\\n",
    "    #.replace('No','').replace('no aplica','').replace('No aplica (Mule)','')\\\n",
    "    #.replace('No programo','').replace('Ninguno de los anteriores','')\\\n",
    "    #.replace('no programo soy recruiter','').replace('es un lenguaje','')\\\n",
    "    #.replace('Nada','').replace('usar','').replace('puedo','').replace('ni','')\\\n",
    "    #.replace('aprendo','').replace('donde','').replace('pedorro','').replace('laburo','')\\\n",
    "    #.replace('lenguaje!!!!','')\n",
    "    \n",
    "  # Split string into list of items\n",
    "  # Remove spaces and commas for each item\n",
    "  return [lang.strip().replace(',', '')\n",
    "          for lang in languages_str.split()]\n",
    "\n",
    "# Create a new column with the list of languages\n",
    "df.loc[:, 'cured_programming_languages'] = df.tools_programming_languages\\\n",
    "    .apply(split_languages)\n",
    "if 'cured_programming_languages' not in relevant_columns:\n",
    "    relevant_columns.append('cured_programming_languages') \n",
    "\n",
    "# Duplicate each row of df for each programming language\n",
    "# mentioned in the response.\n",
    "# We only include in df_lang the columns we are going to analyze later, so we\n",
    "# don't duplicate innecesary information.\n",
    "df_lang = df.cured_programming_languages\\\n",
    "    .apply(pd.Series).stack()\\\n",
    "    .reset_index(level=-1, drop=True).to_frame()\\\n",
    "    .join(df[relevant_columns])\\\n",
    "    .rename(columns={0: 'programming_language'})\n",
    "# Horrible programming style! But a lot of data science code can be written with\n",
    "# as concatenations of functions (pipelines), and there's no elegant way of\n",
    "# doing that on Python.\n",
    "df_lang[:5]\n",
    "\n"
   ]
  },
  {
   "cell_type": "markdown",
   "metadata": {
    "id": "EMfUQIkZsNF_"
   },
   "source": [
    "## **2.** Selección de filas relevantes a analizar"
   ]
  },
  {
   "cell_type": "code",
   "execution_count": 15,
   "metadata": {
    "colab": {
     "base_uri": "https://localhost:8080/"
    },
    "executionInfo": {
     "elapsed": 39,
     "status": "ok",
     "timestamp": 1651337301475,
     "user": {
      "displayName": "TEO ARGAÑARAZ SARMIENTO",
      "userId": "02531750171444335604"
     },
     "user_tz": 180
    },
    "id": "QwEnKxFZKR4f",
    "outputId": "529444ef-5b17-4b27-a14f-4b3429eaf3e5"
   },
   "outputs": [
    {
     "data": {
      "text/plain": [
       "count       5880.00\n",
       "mean       94909.60\n",
       "std        96884.64\n",
       "min            1.00\n",
       "25%        51433.25\n",
       "50%        77900.00\n",
       "75%       106000.00\n",
       "max      2080000.00\n",
       "Name: salary_monthly_NETO, dtype: float64"
      ]
     },
     "execution_count": 15,
     "metadata": {},
     "output_type": "execute_result"
    }
   ],
   "source": [
    "df['salary_monthly_NETO'].describe().round(2)"
   ]
  },
  {
   "cell_type": "markdown",
   "metadata": {
    "id": "JZVUG3Ta-yMI"
   },
   "source": [
    "En relacion a la muestra, buscamos los lenguajes de programacion que tengan salario Neto mas altos para acortar los campos.  Eleguimos este salario ya que es lo que el empleado percibe propiamente en bolsillo como su remuneracion.\n",
    "\n",
    "Tomaremos los salario mayores a 100000 ya que estan por encima de la media y estan practicamente luego del percentil 75% de la muestra.\n",
    "\n",
    "**Subpoblación**: Salarios > 100000\n",
    "\n"
   ]
  },
  {
   "cell_type": "markdown",
   "metadata": {
    "id": "YlD-aKOELdbR"
   },
   "source": [
    "### *Obtenemos la subpoblacion de salarios mayores a 100000 y su probabilidad*"
   ]
  },
  {
   "cell_type": "code",
   "execution_count": 16,
   "metadata": {
    "colab": {
     "base_uri": "https://localhost:8080/",
     "height": 258
    },
    "executionInfo": {
     "elapsed": 28,
     "status": "ok",
     "timestamp": 1651337301476,
     "user": {
      "displayName": "TEO ARGAÑARAZ SARMIENTO",
      "userId": "02531750171444335604"
     },
     "user_tz": 180
    },
    "id": "mznfhV4-_A9R",
    "outputId": "faaf8cb6-7316-4e3d-ea64-7ccd522feb04"
   },
   "outputs": [
    {
     "name": "stdout",
     "output_type": "stream",
     "text": [
      "Longitud inicial:  17662\n",
      "Longitud de los salario mayores a 100000:  5323\n",
      "P(A):  30.0 %\n"
     ]
    },
    {
     "data": {
      "text/html": [
       "\n",
       "  <div id=\"df-2fe24ffd-cb02-425c-9980-7a20cc8309ec\">\n",
       "    <div class=\"colab-df-container\">\n",
       "      <div>\n",
       "<style scoped>\n",
       "    .dataframe tbody tr th:only-of-type {\n",
       "        vertical-align: middle;\n",
       "    }\n",
       "\n",
       "    .dataframe tbody tr th {\n",
       "        vertical-align: top;\n",
       "    }\n",
       "\n",
       "    .dataframe thead th {\n",
       "        text-align: right;\n",
       "    }\n",
       "</style>\n",
       "<table border=\"1\" class=\"dataframe\">\n",
       "  <thead>\n",
       "    <tr style=\"text-align: right;\">\n",
       "      <th></th>\n",
       "      <th>programming_language</th>\n",
       "      <th>tools_programming_languages</th>\n",
       "      <th>salary_monthly_NETO</th>\n",
       "      <th>id</th>\n",
       "      <th>cured_programming_languages</th>\n",
       "    </tr>\n",
       "  </thead>\n",
       "  <tbody>\n",
       "    <tr>\n",
       "      <th>4486</th>\n",
       "      <td>html</td>\n",
       "      <td>Bash/Shell, C, CSS, HTML, Java, Javascript, Ru...</td>\n",
       "      <td>2080000.0</td>\n",
       "      <td>4484</td>\n",
       "      <td>[bash/shell, c, css, html, java, javascript, r...</td>\n",
       "    </tr>\n",
       "    <tr>\n",
       "      <th>4486</th>\n",
       "      <td>bash/shell</td>\n",
       "      <td>Bash/Shell, C, CSS, HTML, Java, Javascript, Ru...</td>\n",
       "      <td>2080000.0</td>\n",
       "      <td>4484</td>\n",
       "      <td>[bash/shell, c, css, html, java, javascript, r...</td>\n",
       "    </tr>\n",
       "    <tr>\n",
       "      <th>4486</th>\n",
       "      <td>typescript</td>\n",
       "      <td>Bash/Shell, C, CSS, HTML, Java, Javascript, Ru...</td>\n",
       "      <td>2080000.0</td>\n",
       "      <td>4484</td>\n",
       "      <td>[bash/shell, c, css, html, java, javascript, r...</td>\n",
       "    </tr>\n",
       "    <tr>\n",
       "      <th>4486</th>\n",
       "      <td>sql</td>\n",
       "      <td>Bash/Shell, C, CSS, HTML, Java, Javascript, Ru...</td>\n",
       "      <td>2080000.0</td>\n",
       "      <td>4484</td>\n",
       "      <td>[bash/shell, c, css, html, java, javascript, r...</td>\n",
       "    </tr>\n",
       "    <tr>\n",
       "      <th>4486</th>\n",
       "      <td>ruby</td>\n",
       "      <td>Bash/Shell, C, CSS, HTML, Java, Javascript, Ru...</td>\n",
       "      <td>2080000.0</td>\n",
       "      <td>4484</td>\n",
       "      <td>[bash/shell, c, css, html, java, javascript, r...</td>\n",
       "    </tr>\n",
       "  </tbody>\n",
       "</table>\n",
       "</div>\n",
       "      <button class=\"colab-df-convert\" onclick=\"convertToInteractive('df-2fe24ffd-cb02-425c-9980-7a20cc8309ec')\"\n",
       "              title=\"Convert this dataframe to an interactive table.\"\n",
       "              style=\"display:none;\">\n",
       "        \n",
       "  <svg xmlns=\"http://www.w3.org/2000/svg\" height=\"24px\"viewBox=\"0 0 24 24\"\n",
       "       width=\"24px\">\n",
       "    <path d=\"M0 0h24v24H0V0z\" fill=\"none\"/>\n",
       "    <path d=\"M18.56 5.44l.94 2.06.94-2.06 2.06-.94-2.06-.94-.94-2.06-.94 2.06-2.06.94zm-11 1L8.5 8.5l.94-2.06 2.06-.94-2.06-.94L8.5 2.5l-.94 2.06-2.06.94zm10 10l.94 2.06.94-2.06 2.06-.94-2.06-.94-.94-2.06-.94 2.06-2.06.94z\"/><path d=\"M17.41 7.96l-1.37-1.37c-.4-.4-.92-.59-1.43-.59-.52 0-1.04.2-1.43.59L10.3 9.45l-7.72 7.72c-.78.78-.78 2.05 0 2.83L4 21.41c.39.39.9.59 1.41.59.51 0 1.02-.2 1.41-.59l7.78-7.78 2.81-2.81c.8-.78.8-2.07 0-2.86zM5.41 20L4 18.59l7.72-7.72 1.47 1.35L5.41 20z\"/>\n",
       "  </svg>\n",
       "      </button>\n",
       "      \n",
       "  <style>\n",
       "    .colab-df-container {\n",
       "      display:flex;\n",
       "      flex-wrap:wrap;\n",
       "      gap: 12px;\n",
       "    }\n",
       "\n",
       "    .colab-df-convert {\n",
       "      background-color: #E8F0FE;\n",
       "      border: none;\n",
       "      border-radius: 50%;\n",
       "      cursor: pointer;\n",
       "      display: none;\n",
       "      fill: #1967D2;\n",
       "      height: 32px;\n",
       "      padding: 0 0 0 0;\n",
       "      width: 32px;\n",
       "    }\n",
       "\n",
       "    .colab-df-convert:hover {\n",
       "      background-color: #E2EBFA;\n",
       "      box-shadow: 0px 1px 2px rgba(60, 64, 67, 0.3), 0px 1px 3px 1px rgba(60, 64, 67, 0.15);\n",
       "      fill: #174EA6;\n",
       "    }\n",
       "\n",
       "    [theme=dark] .colab-df-convert {\n",
       "      background-color: #3B4455;\n",
       "      fill: #D2E3FC;\n",
       "    }\n",
       "\n",
       "    [theme=dark] .colab-df-convert:hover {\n",
       "      background-color: #434B5C;\n",
       "      box-shadow: 0px 1px 3px 1px rgba(0, 0, 0, 0.15);\n",
       "      filter: drop-shadow(0px 1px 2px rgba(0, 0, 0, 0.3));\n",
       "      fill: #FFFFFF;\n",
       "    }\n",
       "  </style>\n",
       "\n",
       "      <script>\n",
       "        const buttonEl =\n",
       "          document.querySelector('#df-2fe24ffd-cb02-425c-9980-7a20cc8309ec button.colab-df-convert');\n",
       "        buttonEl.style.display =\n",
       "          google.colab.kernel.accessAllowed ? 'block' : 'none';\n",
       "\n",
       "        async function convertToInteractive(key) {\n",
       "          const element = document.querySelector('#df-2fe24ffd-cb02-425c-9980-7a20cc8309ec');\n",
       "          const dataTable =\n",
       "            await google.colab.kernel.invokeFunction('convertToInteractive',\n",
       "                                                     [key], {});\n",
       "          if (!dataTable) return;\n",
       "\n",
       "          const docLinkHtml = 'Like what you see? Visit the ' +\n",
       "            '<a target=\"_blank\" href=https://colab.research.google.com/notebooks/data_table.ipynb>data table notebook</a>'\n",
       "            + ' to learn more about interactive tables.';\n",
       "          element.innerHTML = '';\n",
       "          dataTable['output_type'] = 'display_data';\n",
       "          await google.colab.output.renderOutput(dataTable, element);\n",
       "          const docLink = document.createElement('div');\n",
       "          docLink.innerHTML = docLinkHtml;\n",
       "          element.appendChild(docLink);\n",
       "        }\n",
       "      </script>\n",
       "    </div>\n",
       "  </div>\n",
       "  "
      ],
      "text/plain": [
       "     programming_language                        tools_programming_languages  \\\n",
       "4486                 html  Bash/Shell, C, CSS, HTML, Java, Javascript, Ru...   \n",
       "4486           bash/shell  Bash/Shell, C, CSS, HTML, Java, Javascript, Ru...   \n",
       "4486           typescript  Bash/Shell, C, CSS, HTML, Java, Javascript, Ru...   \n",
       "4486                  sql  Bash/Shell, C, CSS, HTML, Java, Javascript, Ru...   \n",
       "4486                 ruby  Bash/Shell, C, CSS, HTML, Java, Javascript, Ru...   \n",
       "\n",
       "      salary_monthly_NETO    id  \\\n",
       "4486            2080000.0  4484   \n",
       "4486            2080000.0  4484   \n",
       "4486            2080000.0  4484   \n",
       "4486            2080000.0  4484   \n",
       "4486            2080000.0  4484   \n",
       "\n",
       "                            cured_programming_languages  \n",
       "4486  [bash/shell, c, css, html, java, javascript, r...  \n",
       "4486  [bash/shell, c, css, html, java, javascript, r...  \n",
       "4486  [bash/shell, c, css, html, java, javascript, r...  \n",
       "4486  [bash/shell, c, css, html, java, javascript, r...  \n",
       "4486  [bash/shell, c, css, html, java, javascript, r...  "
      ]
     },
     "execution_count": 16,
     "metadata": {},
     "output_type": "execute_result"
    }
   ],
   "source": [
    "lon_incial = len(df_lang)\n",
    "print(\"Longitud inicial: \", lon_incial)\n",
    "df_max_salaries = df_lang[df_lang.salary_monthly_NETO > 100000]\n",
    "lon_max_salaries = len(df_max_salaries)\n",
    "print(\"Longitud de los salario mayores a 100000: \", lon_max_salaries)\n",
    "P_A = round(lon_max_salaries/lon_incial,2)\n",
    "print(\"P(A): \", P_A*100, \"%\")\n",
    "df_max_salaries = df_max_salaries.sort_values('salary_monthly_NETO',ascending=False)\n",
    "df_max_salaries[:5]"
   ]
  },
  {
   "cell_type": "markdown",
   "metadata": {
    "id": "2tgIODQJrkl_"
   },
   "source": [
    "**A** = salary_monthly_NETO > 100000\n",
    "\n",
    "$P(A):$ Probabilidad de tener un salario mayor a 100000\n",
    "\n",
    "$$P(A) = 30\\%$$"
   ]
  },
  {
   "cell_type": "markdown",
   "metadata": {
    "id": "umbfAhN3LzwM"
   },
   "source": [
    "### *Obtenemos la subpoblacion de lenguajes mas populares y su probabilidad*"
   ]
  },
  {
   "cell_type": "code",
   "execution_count": 17,
   "metadata": {
    "colab": {
     "base_uri": "https://localhost:8080/",
     "height": 449
    },
    "executionInfo": {
     "elapsed": 826,
     "status": "ok",
     "timestamp": 1651337302279,
     "user": {
      "displayName": "TEO ARGAÑARAZ SARMIENTO",
      "userId": "02531750171444335604"
     },
     "user_tz": 180
    },
    "id": "NkkxMdviet5B",
    "outputId": "48598f40-0c72-45eb-d5ff-63e336e4f19b"
   },
   "outputs": [
    {
     "data": {
      "image/png": "[encoded data removed]",
      "text/plain": [
       "<Figure size 864x432 with 1 Axes>"
      ]
     },
     "metadata": {
      "needs_background": "light"
     },
     "output_type": "display_data"
    }
   ],
   "source": [
    "language_count = df_max_salaries.programming_language.value_counts()\\\n",
    "    .reset_index()\\\n",
    "    .rename(columns={'index': 'language', 'programming_language': 'frequency'})\n",
    "\n",
    "df_pop_lang = language_count[language_count.frequency > language_count.frequency.median()].set_index('language',drop=True)#usar mediana en lugar de media\n",
    "#sns.barplot(df_pop_lang)\n",
    "\n",
    "x_values = df_pop_lang.index\n",
    "y_values = df_pop_lang.frequency.tolist()\n",
    "\n",
    "plt.figure(figsize=(12,6))\n",
    "plt.tick_params(axis='x',labelrotation=70)\n",
    "plt.rcParams['axes.titlesize'] = 15\n",
    "plt.bar(x_values, y_values)          \n",
    "plt.title('Lenguajes mas populares');"
   ]
  },
  {
   "cell_type": "markdown",
   "metadata": {
    "id": "YDPBW1WQsZ-h"
   },
   "source": [
    "Observando el grafico seleccionamos los 12 lenguajes mas populares, cuyos salarios son mayor a 100000."
   ]
  },
  {
   "cell_type": "code",
   "execution_count": 18,
   "metadata": {
    "colab": {
     "base_uri": "https://localhost:8080/",
     "height": 463
    },
    "executionInfo": {
     "elapsed": 38,
     "status": "ok",
     "timestamp": 1651337302282,
     "user": {
      "displayName": "TEO ARGAÑARAZ SARMIENTO",
      "userId": "02531750171444335604"
     },
     "user_tz": 180
    },
    "id": "lNPb4tTvWCwv",
    "outputId": "c6d7e882-c04e-4b82-f4e5-f65e19889f8c"
   },
   "outputs": [
    {
     "name": "stdout",
     "output_type": "stream",
     "text": [
      "Los 12 lenguajes mas populares son: ['javascript', 'sql', 'python', 'java', 'html', 'bash/shell', 'css', 'typescript', 'php', '.net', 'c#', 'go'], serán estos asociados a los mejores salarios?\n"
     ]
    },
    {
     "data": {
      "text/html": [
       "\n",
       "  <div id=\"df-fb88c514-276c-4435-a19e-29689b51756a\">\n",
       "    <div class=\"colab-df-container\">\n",
       "      <div>\n",
       "<style scoped>\n",
       "    .dataframe tbody tr th:only-of-type {\n",
       "        vertical-align: middle;\n",
       "    }\n",
       "\n",
       "    .dataframe tbody tr th {\n",
       "        vertical-align: top;\n",
       "    }\n",
       "\n",
       "    .dataframe thead th {\n",
       "        text-align: right;\n",
       "    }\n",
       "</style>\n",
       "<table border=\"1\" class=\"dataframe\">\n",
       "  <thead>\n",
       "    <tr style=\"text-align: right;\">\n",
       "      <th></th>\n",
       "      <th>language</th>\n",
       "      <th>frequency</th>\n",
       "    </tr>\n",
       "  </thead>\n",
       "  <tbody>\n",
       "    <tr>\n",
       "      <th>0</th>\n",
       "      <td>javascript</td>\n",
       "      <td>725</td>\n",
       "    </tr>\n",
       "    <tr>\n",
       "      <th>1</th>\n",
       "      <td>sql</td>\n",
       "      <td>564</td>\n",
       "    </tr>\n",
       "    <tr>\n",
       "      <th>2</th>\n",
       "      <td>python</td>\n",
       "      <td>521</td>\n",
       "    </tr>\n",
       "    <tr>\n",
       "      <th>3</th>\n",
       "      <td>java</td>\n",
       "      <td>504</td>\n",
       "    </tr>\n",
       "    <tr>\n",
       "      <th>4</th>\n",
       "      <td>html</td>\n",
       "      <td>449</td>\n",
       "    </tr>\n",
       "    <tr>\n",
       "      <th>5</th>\n",
       "      <td>bash/shell</td>\n",
       "      <td>358</td>\n",
       "    </tr>\n",
       "    <tr>\n",
       "      <th>6</th>\n",
       "      <td>css</td>\n",
       "      <td>303</td>\n",
       "    </tr>\n",
       "    <tr>\n",
       "      <th>7</th>\n",
       "      <td>typescript</td>\n",
       "      <td>265</td>\n",
       "    </tr>\n",
       "    <tr>\n",
       "      <th>8</th>\n",
       "      <td>php</td>\n",
       "      <td>243</td>\n",
       "    </tr>\n",
       "    <tr>\n",
       "      <th>9</th>\n",
       "      <td>.net</td>\n",
       "      <td>217</td>\n",
       "    </tr>\n",
       "    <tr>\n",
       "      <th>10</th>\n",
       "      <td>c#</td>\n",
       "      <td>186</td>\n",
       "    </tr>\n",
       "    <tr>\n",
       "      <th>11</th>\n",
       "      <td>go</td>\n",
       "      <td>163</td>\n",
       "    </tr>\n",
       "  </tbody>\n",
       "</table>\n",
       "</div>\n",
       "      <button class=\"colab-df-convert\" onclick=\"convertToInteractive('df-fb88c514-276c-4435-a19e-29689b51756a')\"\n",
       "              title=\"Convert this dataframe to an interactive table.\"\n",
       "              style=\"display:none;\">\n",
       "        \n",
       "  <svg xmlns=\"http://www.w3.org/2000/svg\" height=\"24px\"viewBox=\"0 0 24 24\"\n",
       "       width=\"24px\">\n",
       "    <path d=\"M0 0h24v24H0V0z\" fill=\"none\"/>\n",
       "    <path d=\"M18.56 5.44l.94 2.06.94-2.06 2.06-.94-2.06-.94-.94-2.06-.94 2.06-2.06.94zm-11 1L8.5 8.5l.94-2.06 2.06-.94-2.06-.94L8.5 2.5l-.94 2.06-2.06.94zm10 10l.94 2.06.94-2.06 2.06-.94-2.06-.94-.94-2.06-.94 2.06-2.06.94z\"/><path d=\"M17.41 7.96l-1.37-1.37c-.4-.4-.92-.59-1.43-.59-.52 0-1.04.2-1.43.59L10.3 9.45l-7.72 7.72c-.78.78-.78 2.05 0 2.83L4 21.41c.39.39.9.59 1.41.59.51 0 1.02-.2 1.41-.59l7.78-7.78 2.81-2.81c.8-.78.8-2.07 0-2.86zM5.41 20L4 18.59l7.72-7.72 1.47 1.35L5.41 20z\"/>\n",
       "  </svg>\n",
       "      </button>\n",
       "      \n",
       "  <style>\n",
       "    .colab-df-container {\n",
       "      display:flex;\n",
       "      flex-wrap:wrap;\n",
       "      gap: 12px;\n",
       "    }\n",
       "\n",
       "    .colab-df-convert {\n",
       "      background-color: #E8F0FE;\n",
       "      border: none;\n",
       "      border-radius: 50%;\n",
       "      cursor: pointer;\n",
       "      display: none;\n",
       "      fill: #1967D2;\n",
       "      height: 32px;\n",
       "      padding: 0 0 0 0;\n",
       "      width: 32px;\n",
       "    }\n",
       "\n",
       "    .colab-df-convert:hover {\n",
       "      background-color: #E2EBFA;\n",
       "      box-shadow: 0px 1px 2px rgba(60, 64, 67, 0.3), 0px 1px 3px 1px rgba(60, 64, 67, 0.15);\n",
       "      fill: #174EA6;\n",
       "    }\n",
       "\n",
       "    [theme=dark] .colab-df-convert {\n",
       "      background-color: #3B4455;\n",
       "      fill: #D2E3FC;\n",
       "    }\n",
       "\n",
       "    [theme=dark] .colab-df-convert:hover {\n",
       "      background-color: #434B5C;\n",
       "      box-shadow: 0px 1px 3px 1px rgba(0, 0, 0, 0.15);\n",
       "      filter: drop-shadow(0px 1px 2px rgba(0, 0, 0, 0.3));\n",
       "      fill: #FFFFFF;\n",
       "    }\n",
       "  </style>\n",
       "\n",
       "      <script>\n",
       "        const buttonEl =\n",
       "          document.querySelector('#df-fb88c514-276c-4435-a19e-29689b51756a button.colab-df-convert');\n",
       "        buttonEl.style.display =\n",
       "          google.colab.kernel.accessAllowed ? 'block' : 'none';\n",
       "\n",
       "        async function convertToInteractive(key) {\n",
       "          const element = document.querySelector('#df-fb88c514-276c-4435-a19e-29689b51756a');\n",
       "          const dataTable =\n",
       "            await google.colab.kernel.invokeFunction('convertToInteractive',\n",
       "                                                     [key], {});\n",
       "          if (!dataTable) return;\n",
       "\n",
       "          const docLinkHtml = 'Like what you see? Visit the ' +\n",
       "            '<a target=\"_blank\" href=https://colab.research.google.com/notebooks/data_table.ipynb>data table notebook</a>'\n",
       "            + ' to learn more about interactive tables.';\n",
       "          element.innerHTML = '';\n",
       "          dataTable['output_type'] = 'display_data';\n",
       "          await google.colab.output.renderOutput(dataTable, element);\n",
       "          const docLink = document.createElement('div');\n",
       "          docLink.innerHTML = docLinkHtml;\n",
       "          element.appendChild(docLink);\n",
       "        }\n",
       "      </script>\n",
       "    </div>\n",
       "  </div>\n",
       "  "
      ],
      "text/plain": [
       "      language  frequency\n",
       "0   javascript        725\n",
       "1          sql        564\n",
       "2       python        521\n",
       "3         java        504\n",
       "4         html        449\n",
       "5   bash/shell        358\n",
       "6          css        303\n",
       "7   typescript        265\n",
       "8          php        243\n",
       "9         .net        217\n",
       "10          c#        186\n",
       "11          go        163"
      ]
     },
     "execution_count": 18,
     "metadata": {},
     "output_type": "execute_result"
    }
   ],
   "source": [
    "language_count = df_max_salaries.programming_language.value_counts()\\\n",
    "    .reset_index()\\\n",
    "    .rename(columns={'index': 'language', 'programming_language': 'frequency'})\n",
    "language_count = language_count.sort_values('frequency',ascending=False)\n",
    "most_popular_lenguages = list(language_count.language[:12])#convertirmos los mas populares en una lista\n",
    "print(f\"Los 12 lenguajes mas populares son: {most_popular_lenguages}, serán estos asociados a los mejores salarios?\")\n",
    "language_count[:12]"
   ]
  },
  {
   "cell_type": "code",
   "execution_count": 19,
   "metadata": {
    "colab": {
     "base_uri": "https://localhost:8080/"
    },
    "executionInfo": {
     "elapsed": 40,
     "status": "ok",
     "timestamp": 1651337302293,
     "user": {
      "displayName": "TEO ARGAÑARAZ SARMIENTO",
      "userId": "02531750171444335604"
     },
     "user_tz": 180
    },
    "id": "zI65ucw10uwv",
    "outputId": "bbf4ac18-69de-454d-fece-89727d496a6d"
   },
   "outputs": [
    {
     "name": "stdout",
     "output_type": "stream",
     "text": [
      "Longitud de lenguages mas populares del total : 15219\n",
      "Prob. de conocer al menos un lenguaje de los 12 mas populares : 86.0%\n"
     ]
    }
   ],
   "source": [
    "df_most_pop_lenguals_total = df_lang[df_lang['programming_language'].isin(most_popular_lenguages)]\n",
    "print(f\"Longitud de lenguages mas populares del total : {len(df_most_pop_lenguals_total)}\")\n",
    "P_B = round(len(df_most_pop_lenguals_total)/lon_incial,2)\n",
    "print(f\"Prob. de conocer al menos un lenguaje de los 12 mas populares : {P_B*100}%\")"
   ]
  },
  {
   "cell_type": "markdown",
   "metadata": {
    "id": "d7hS40NFlCgG"
   },
   "source": [
    "**B** = programming_language in most_popular_lenguages\n",
    "\n",
    "$P(B):$ Probabilidad de conocer al menos un lenguaje de programacion dentro de los 12 mas populares\n",
    "\n",
    "$$P(B) = 86\\%$$"
   ]
  },
  {
   "cell_type": "markdown",
   "metadata": {
    "id": "sWrqgBINobyV"
   },
   "source": [
    "Creamos nuevo data frame con los 12 lenguajes populares"
   ]
  },
  {
   "cell_type": "code",
   "execution_count": 20,
   "metadata": {
    "colab": {
     "base_uri": "https://localhost:8080/"
    },
    "executionInfo": {
     "elapsed": 37,
     "status": "ok",
     "timestamp": 1651337302294,
     "user": {
      "displayName": "TEO ARGAÑARAZ SARMIENTO",
      "userId": "02531750171444335604"
     },
     "user_tz": 180
    },
    "id": "dkXXeVjdobMC",
    "outputId": "dcf386f0-7138-4fc4-f342-f309fa0bbe5c"
   },
   "outputs": [
    {
     "name": "stdout",
     "output_type": "stream",
     "text": [
      "Longitud de la poblacion con los 12 lenguajes mas populares con salarios mayores a 100000:  4498\n",
      "Proporcion de lenguajes mas populares con respecto al total que tienen mayor salario:  25.0 %\n"
     ]
    }
   ],
   "source": [
    "df_max_salaries_12populars = df_max_salaries[df_max_salaries['programming_language'].isin(most_popular_lenguages)]\n",
    "df_max_salaries_12populars[:10]\n",
    "P_A_I_B = round(len(df_max_salaries_12populars)/lon_incial,2) #lon_max_salaries\n",
    "print(\"Longitud de la poblacion con los 12 lenguajes mas populares con salarios mayores a 100000: \", len(df_max_salaries_12populars))\n",
    "print(\"Proporcion de lenguajes mas populares con respecto al total que tienen mayor salario: \", P_A_I_B*100,\"%\")"
   ]
  },
  {
   "cell_type": "markdown",
   "metadata": {
    "id": "yMJCGLAkmi89"
   },
   "source": [
    "**A** = salary_monthly_NETO > 100000\n",
    "\n",
    "**B** = programming_language in most_popular_lenguages\n",
    "\n",
    "$A \\cap B$ = 4498 \n",
    "\n",
    "$P(A \\cap B):$ Probabilidad de cobrar mas de 100000 y de conocer al menos un lenguaje de programacion dentro de los 12 mas populares\n",
    "\n",
    "$$P(A \\cap B)= 25\\%$$\n"
   ]
  },
  {
   "cell_type": "markdown",
   "metadata": {
    "id": "vd0ATqDKNzYs"
   },
   "source": [
    "En un boxplot presentaremos los datos para observar o no la existencia de outliers"
   ]
  },
  {
   "cell_type": "code",
   "execution_count": 21,
   "metadata": {
    "colab": {
     "base_uri": "https://localhost:8080/",
     "height": 394
    },
    "executionInfo": {
     "elapsed": 503,
     "status": "ok",
     "timestamp": 1651337302763,
     "user": {
      "displayName": "TEO ARGAÑARAZ SARMIENTO",
      "userId": "02531750171444335604"
     },
     "user_tz": 180
    },
    "id": "tVwksj8PB_YL",
    "outputId": "f256abd3-8947-40b0-f238-b1fe2d833cf0"
   },
   "outputs": [
    {
     "data": {
      "image/png": "[encoded data removed]",
      "text/plain": [
       "<Figure size 864x432 with 1 Axes>"
      ]
     },
     "metadata": {
      "needs_background": "light"
     },
     "output_type": "display_data"
    }
   ],
   "source": [
    "my_order = df_max_salaries_12populars.groupby(by=[\"programming_language\"])[\"salary_monthly_NETO\"].mean().sort_values(ascending=True).iloc[::-1].index\n",
    "#df_max_100_salaries = df_max_salaries.nlargest(2000, ['salary_monthly_NETO']) \n",
    "plt.figure(figsize=(12, 6))\n",
    "seaborn.boxplot(data=df_max_salaries_12populars, x='salary_monthly_NETO', y='programming_language',\n",
    "                color='orangered', order = my_order)\n",
    "plt.ticklabel_format(style='plain', axis='x')"
   ]
  },
  {
   "cell_type": "markdown",
   "metadata": {
    "id": "RX4qgfhCNtrk"
   },
   "source": [
    "Observamos que existen outliers en los datos, por lo que procederemos a hacer una limpieza de estos y realizar los mismos analisis"
   ]
  },
  {
   "cell_type": "markdown",
   "metadata": {
    "id": "HfMrswTSwZB9"
   },
   "source": [
    "###Analizaremos las probabilidades sin OUTLIERS"
   ]
  },
  {
   "cell_type": "markdown",
   "metadata": {
    "id": "O5JiisiXuKMr"
   },
   "source": [
    "Eliminaremos los outliers: Percentiles 0.05 y 0.99 de la base ORIGINAL\n",
    "\n",
    "\n"
   ]
  },
  {
   "cell_type": "code",
   "execution_count": 22,
   "metadata": {
    "colab": {
     "base_uri": "https://localhost:8080/"
    },
    "executionInfo": {
     "elapsed": 16,
     "status": "ok",
     "timestamp": 1651337302764,
     "user": {
      "displayName": "TEO ARGAÑARAZ SARMIENTO",
      "userId": "02531750171444335604"
     },
     "user_tz": 180
    },
    "id": "WBiqv5-DOwNU",
    "outputId": "77797963-f46f-426e-c67c-9d12c34b8bd9"
   },
   "outputs": [
    {
     "name": "stdout",
     "output_type": "stream",
     "text": [
      "count      5433.000000\n",
      "mean      91988.030191\n",
      "std       59127.833639\n",
      "min       22500.000000\n",
      "25%       55000.000000\n",
      "50%       80000.000000\n",
      "75%      107000.000000\n",
      "max      490000.000000\n",
      "Name: salary_monthly_NETO, dtype: float64 \n",
      "\n"
     ]
    }
   ],
   "source": [
    "##CREAMOS DF_WOO\n",
    "#eliminamos los outliers de la poblacion inicial\n",
    "min_thresold_df_n, max_thresold_df_n = df.salary_monthly_NETO.quantile([0.05,0.99])\n",
    "min_thresold_df_b, max_thresold_df_b = df.salary_monthly_BRUTO.quantile([0.05,0.99])\n",
    "df_woo = df[(df.salary_monthly_NETO<max_thresold_df_n)&(df.salary_monthly_NETO>min_thresold_df_n)\\\n",
    "            &(df.salary_monthly_BRUTO<max_thresold_df_b)&(df.salary_monthly_BRUTO>min_thresold_df_b)]\n",
    "lon_df_woo = len(df_woo)\n",
    "#observamos con describe los nuevos valores\n",
    "print(df_woo.salary_monthly_NETO.describe(),\"\\n\")"
   ]
  },
  {
   "cell_type": "code",
   "execution_count": 23,
   "metadata": {
    "colab": {
     "base_uri": "https://localhost:8080/"
    },
    "executionInfo": {
     "elapsed": 1403,
     "status": "ok",
     "timestamp": 1651337304160,
     "user": {
      "displayName": "TEO ARGAÑARAZ SARMIENTO",
      "userId": "02531750171444335604"
     },
     "user_tz": 180
    },
    "id": "KF7EKDWnP03P",
    "outputId": "51d395d6-f7cc-47f0-85df-e5a565e26eb9"
   },
   "outputs": [
    {
     "name": "stderr",
     "output_type": "stream",
     "text": [
      "/usr/local/lib/python3.7/dist-packages/pandas/core/indexing.py:1773: SettingWithCopyWarning: \n",
      "A value is trying to be set on a copy of a slice from a DataFrame.\n",
      "Try using .loc[row_indexer,col_indexer] = value instead\n",
      "\n",
      "See the caveats in the documentation: https://pandas.pydata.org/pandas-docs/stable/user_guide/indexing.html#returning-a-view-versus-a-copy\n",
      "  self._setitem_single_column(ilocs[0], value, pi)\n"
     ]
    }
   ],
   "source": [
    "#CREAMOS DF_LANG_WOO\n",
    "# Create a new column with the list of languages\n",
    "df_woo.loc[:, 'cured_programming_languages'] = df_woo.tools_programming_languages\\\n",
    "    .apply(split_languages)\n",
    "if 'cured_programming_languages' not in relevant_columns:\n",
    "    relevant_columns.append('cured_programming_languages') \n",
    "\n",
    "# Duplicate each row of df for each programming language\n",
    "# mentioned in the response.\n",
    "# We only include in df_lang the columns we are going to analyze later, so we\n",
    "# don't duplicate innecesary information.\n",
    "df_lang_woo = df_woo.cured_programming_languages\\\n",
    "    .apply(pd.Series).stack()\\\n",
    "    .reset_index(level=-1, drop=True).to_frame()\\\n",
    "    .join(df[relevant_columns])\\\n",
    "    .rename(columns={0: 'programming_language'})"
   ]
  },
  {
   "cell_type": "code",
   "execution_count": 24,
   "metadata": {
    "executionInfo": {
     "elapsed": 10,
     "status": "ok",
     "timestamp": 1651337304161,
     "user": {
      "displayName": "TEO ARGAÑARAZ SARMIENTO",
      "userId": "02531750171444335604"
     },
     "user_tz": 180
    },
    "id": "_OdoeJl5Qce2"
   },
   "outputs": [],
   "source": [
    "df_max_salaries_woo = df_lang_woo[df_lang_woo.salary_monthly_NETO > 100000]\n",
    "df_most_pop_lenguals_total_woo = df_lang_woo[df_lang_woo['programming_language'].isin(most_popular_lenguages)]\n",
    "df_max_salaries_12populars_woo = df_max_salaries_woo[df_max_salaries_woo['programming_language'].isin(most_popular_lenguages)]"
   ]
  },
  {
   "cell_type": "code",
   "execution_count": 25,
   "metadata": {
    "colab": {
     "base_uri": "https://localhost:8080/",
     "height": 394
    },
    "executionInfo": {
     "elapsed": 532,
     "status": "ok",
     "timestamp": 1651337304686,
     "user": {
      "displayName": "TEO ARGAÑARAZ SARMIENTO",
      "userId": "02531750171444335604"
     },
     "user_tz": 180
    },
    "id": "57gCu4e2uR6G",
    "outputId": "e75f8605-32ae-4523-ef26-48f9751e1ae3"
   },
   "outputs": [
    {
     "data": {
      "image/png": "[encoded data removed]",
      "text/plain": [
       "<Figure size 864x432 with 1 Axes>"
      ]
     },
     "metadata": {
      "needs_background": "light"
     },
     "output_type": "display_data"
    }
   ],
   "source": [
    "plt.figure(figsize=(12, 6))\n",
    "seaborn.boxplot(data=df_max_salaries_12populars_woo, x='salary_monthly_NETO', y='programming_language',\n",
    "                color='orangered', order = my_order)\n",
    "plt.ticklabel_format(style='plain', axis='x')"
   ]
  },
  {
   "cell_type": "code",
   "execution_count": 26,
   "metadata": {
    "colab": {
     "base_uri": "https://localhost:8080/",
     "height": 457
    },
    "executionInfo": {
     "elapsed": 43,
     "status": "ok",
     "timestamp": 1651337304687,
     "user": {
      "displayName": "TEO ARGAÑARAZ SARMIENTO",
      "userId": "02531750171444335604"
     },
     "user_tz": 180
    },
    "id": "GpbtMX7xBEr7",
    "outputId": "57e8544c-5b11-40e6-8c76-cdeee7fd1428"
   },
   "outputs": [
    {
     "data": {
      "text/html": [
       "\n",
       "  <div id=\"df-9ad9f474-4c24-4948-88b8-2a3e4f46913e\">\n",
       "    <div class=\"colab-df-container\">\n",
       "      <div>\n",
       "<style scoped>\n",
       "    .dataframe tbody tr th:only-of-type {\n",
       "        vertical-align: middle;\n",
       "    }\n",
       "\n",
       "    .dataframe tbody tr th {\n",
       "        vertical-align: top;\n",
       "    }\n",
       "\n",
       "    .dataframe thead th {\n",
       "        text-align: right;\n",
       "    }\n",
       "</style>\n",
       "<table border=\"1\" class=\"dataframe\">\n",
       "  <thead>\n",
       "    <tr style=\"text-align: right;\">\n",
       "      <th></th>\n",
       "      <th>count</th>\n",
       "      <th>mean</th>\n",
       "      <th>std</th>\n",
       "      <th>min</th>\n",
       "      <th>25%</th>\n",
       "      <th>50%</th>\n",
       "      <th>75%</th>\n",
       "      <th>max</th>\n",
       "    </tr>\n",
       "    <tr>\n",
       "      <th>programming_language</th>\n",
       "      <th></th>\n",
       "      <th></th>\n",
       "      <th></th>\n",
       "      <th></th>\n",
       "      <th></th>\n",
       "      <th></th>\n",
       "      <th></th>\n",
       "      <th></th>\n",
       "    </tr>\n",
       "  </thead>\n",
       "  <tbody>\n",
       "    <tr>\n",
       "      <th>go</th>\n",
       "      <td>154.0</td>\n",
       "      <td>169464.74</td>\n",
       "      <td>77676.02</td>\n",
       "      <td>101410.0</td>\n",
       "      <td>120000.00</td>\n",
       "      <td>135000.0</td>\n",
       "      <td>190000.0</td>\n",
       "      <td>475000.0</td>\n",
       "    </tr>\n",
       "    <tr>\n",
       "      <th>html</th>\n",
       "      <td>428.0</td>\n",
       "      <td>165606.93</td>\n",
       "      <td>79199.04</td>\n",
       "      <td>100500.0</td>\n",
       "      <td>113750.00</td>\n",
       "      <td>135000.0</td>\n",
       "      <td>180000.0</td>\n",
       "      <td>475000.0</td>\n",
       "    </tr>\n",
       "    <tr>\n",
       "      <th>javascript</th>\n",
       "      <td>686.0</td>\n",
       "      <td>166362.66</td>\n",
       "      <td>77558.50</td>\n",
       "      <td>100171.0</td>\n",
       "      <td>114000.00</td>\n",
       "      <td>135000.0</td>\n",
       "      <td>188984.5</td>\n",
       "      <td>480000.0</td>\n",
       "    </tr>\n",
       "    <tr>\n",
       "      <th>php</th>\n",
       "      <td>233.0</td>\n",
       "      <td>164039.71</td>\n",
       "      <td>75918.02</td>\n",
       "      <td>101000.0</td>\n",
       "      <td>115000.00</td>\n",
       "      <td>135000.0</td>\n",
       "      <td>175000.0</td>\n",
       "      <td>450000.0</td>\n",
       "    </tr>\n",
       "    <tr>\n",
       "      <th>python</th>\n",
       "      <td>498.0</td>\n",
       "      <td>164107.40</td>\n",
       "      <td>74374.71</td>\n",
       "      <td>100600.0</td>\n",
       "      <td>115000.00</td>\n",
       "      <td>135000.0</td>\n",
       "      <td>180750.0</td>\n",
       "      <td>490000.0</td>\n",
       "    </tr>\n",
       "    <tr>\n",
       "      <th>typescript</th>\n",
       "      <td>246.0</td>\n",
       "      <td>163231.08</td>\n",
       "      <td>76173.67</td>\n",
       "      <td>100600.0</td>\n",
       "      <td>115000.00</td>\n",
       "      <td>131500.0</td>\n",
       "      <td>180000.0</td>\n",
       "      <td>475000.0</td>\n",
       "    </tr>\n",
       "    <tr>\n",
       "      <th>.net</th>\n",
       "      <td>209.0</td>\n",
       "      <td>157786.50</td>\n",
       "      <td>73719.17</td>\n",
       "      <td>100171.0</td>\n",
       "      <td>114000.00</td>\n",
       "      <td>130000.0</td>\n",
       "      <td>170000.0</td>\n",
       "      <td>490000.0</td>\n",
       "    </tr>\n",
       "    <tr>\n",
       "      <th>bash/shell</th>\n",
       "      <td>341.0</td>\n",
       "      <td>156943.17</td>\n",
       "      <td>71544.36</td>\n",
       "      <td>100400.0</td>\n",
       "      <td>111127.00</td>\n",
       "      <td>130000.0</td>\n",
       "      <td>170000.0</td>\n",
       "      <td>480000.0</td>\n",
       "    </tr>\n",
       "    <tr>\n",
       "      <th>css</th>\n",
       "      <td>287.0</td>\n",
       "      <td>161331.04</td>\n",
       "      <td>77137.22</td>\n",
       "      <td>100500.0</td>\n",
       "      <td>110985.50</td>\n",
       "      <td>130000.0</td>\n",
       "      <td>173000.0</td>\n",
       "      <td>475000.0</td>\n",
       "    </tr>\n",
       "    <tr>\n",
       "      <th>java</th>\n",
       "      <td>493.0</td>\n",
       "      <td>152805.56</td>\n",
       "      <td>61650.86</td>\n",
       "      <td>101000.0</td>\n",
       "      <td>112000.00</td>\n",
       "      <td>130000.0</td>\n",
       "      <td>170000.0</td>\n",
       "      <td>490000.0</td>\n",
       "    </tr>\n",
       "    <tr>\n",
       "      <th>sql</th>\n",
       "      <td>544.0</td>\n",
       "      <td>155423.95</td>\n",
       "      <td>72234.43</td>\n",
       "      <td>100600.0</td>\n",
       "      <td>110728.25</td>\n",
       "      <td>127150.0</td>\n",
       "      <td>167194.0</td>\n",
       "      <td>475000.0</td>\n",
       "    </tr>\n",
       "    <tr>\n",
       "      <th>c#</th>\n",
       "      <td>178.0</td>\n",
       "      <td>162756.18</td>\n",
       "      <td>82315.89</td>\n",
       "      <td>100171.0</td>\n",
       "      <td>112000.00</td>\n",
       "      <td>126150.0</td>\n",
       "      <td>170000.0</td>\n",
       "      <td>475000.0</td>\n",
       "    </tr>\n",
       "  </tbody>\n",
       "</table>\n",
       "</div>\n",
       "      <button class=\"colab-df-convert\" onclick=\"convertToInteractive('df-9ad9f474-4c24-4948-88b8-2a3e4f46913e')\"\n",
       "              title=\"Convert this dataframe to an interactive table.\"\n",
       "              style=\"display:none;\">\n",
       "        \n",
       "  <svg xmlns=\"http://www.w3.org/2000/svg\" height=\"24px\"viewBox=\"0 0 24 24\"\n",
       "       width=\"24px\">\n",
       "    <path d=\"M0 0h24v24H0V0z\" fill=\"none\"/>\n",
       "    <path d=\"M18.56 5.44l.94 2.06.94-2.06 2.06-.94-2.06-.94-.94-2.06-.94 2.06-2.06.94zm-11 1L8.5 8.5l.94-2.06 2.06-.94-2.06-.94L8.5 2.5l-.94 2.06-2.06.94zm10 10l.94 2.06.94-2.06 2.06-.94-2.06-.94-.94-2.06-.94 2.06-2.06.94z\"/><path d=\"M17.41 7.96l-1.37-1.37c-.4-.4-.92-.59-1.43-.59-.52 0-1.04.2-1.43.59L10.3 9.45l-7.72 7.72c-.78.78-.78 2.05 0 2.83L4 21.41c.39.39.9.59 1.41.59.51 0 1.02-.2 1.41-.59l7.78-7.78 2.81-2.81c.8-.78.8-2.07 0-2.86zM5.41 20L4 18.59l7.72-7.72 1.47 1.35L5.41 20z\"/>\n",
       "  </svg>\n",
       "      </button>\n",
       "      \n",
       "  <style>\n",
       "    .colab-df-container {\n",
       "      display:flex;\n",
       "      flex-wrap:wrap;\n",
       "      gap: 12px;\n",
       "    }\n",
       "\n",
       "    .colab-df-convert {\n",
       "      background-color: #E8F0FE;\n",
       "      border: none;\n",
       "      border-radius: 50%;\n",
       "      cursor: pointer;\n",
       "      display: none;\n",
       "      fill: #1967D2;\n",
       "      height: 32px;\n",
       "      padding: 0 0 0 0;\n",
       "      width: 32px;\n",
       "    }\n",
       "\n",
       "    .colab-df-convert:hover {\n",
       "      background-color: #E2EBFA;\n",
       "      box-shadow: 0px 1px 2px rgba(60, 64, 67, 0.3), 0px 1px 3px 1px rgba(60, 64, 67, 0.15);\n",
       "      fill: #174EA6;\n",
       "    }\n",
       "\n",
       "    [theme=dark] .colab-df-convert {\n",
       "      background-color: #3B4455;\n",
       "      fill: #D2E3FC;\n",
       "    }\n",
       "\n",
       "    [theme=dark] .colab-df-convert:hover {\n",
       "      background-color: #434B5C;\n",
       "      box-shadow: 0px 1px 3px 1px rgba(0, 0, 0, 0.15);\n",
       "      filter: drop-shadow(0px 1px 2px rgba(0, 0, 0, 0.3));\n",
       "      fill: #FFFFFF;\n",
       "    }\n",
       "  </style>\n",
       "\n",
       "      <script>\n",
       "        const buttonEl =\n",
       "          document.querySelector('#df-9ad9f474-4c24-4948-88b8-2a3e4f46913e button.colab-df-convert');\n",
       "        buttonEl.style.display =\n",
       "          google.colab.kernel.accessAllowed ? 'block' : 'none';\n",
       "\n",
       "        async function convertToInteractive(key) {\n",
       "          const element = document.querySelector('#df-9ad9f474-4c24-4948-88b8-2a3e4f46913e');\n",
       "          const dataTable =\n",
       "            await google.colab.kernel.invokeFunction('convertToInteractive',\n",
       "                                                     [key], {});\n",
       "          if (!dataTable) return;\n",
       "\n",
       "          const docLinkHtml = 'Like what you see? Visit the ' +\n",
       "            '<a target=\"_blank\" href=https://colab.research.google.com/notebooks/data_table.ipynb>data table notebook</a>'\n",
       "            + ' to learn more about interactive tables.';\n",
       "          element.innerHTML = '';\n",
       "          dataTable['output_type'] = 'display_data';\n",
       "          await google.colab.output.renderOutput(dataTable, element);\n",
       "          const docLink = document.createElement('div');\n",
       "          docLink.innerHTML = docLinkHtml;\n",
       "          element.appendChild(docLink);\n",
       "        }\n",
       "      </script>\n",
       "    </div>\n",
       "  </div>\n",
       "  "
      ],
      "text/plain": [
       "                      count       mean       std       min        25%  \\\n",
       "programming_language                                                    \n",
       "go                    154.0  169464.74  77676.02  101410.0  120000.00   \n",
       "html                  428.0  165606.93  79199.04  100500.0  113750.00   \n",
       "javascript            686.0  166362.66  77558.50  100171.0  114000.00   \n",
       "php                   233.0  164039.71  75918.02  101000.0  115000.00   \n",
       "python                498.0  164107.40  74374.71  100600.0  115000.00   \n",
       "typescript            246.0  163231.08  76173.67  100600.0  115000.00   \n",
       ".net                  209.0  157786.50  73719.17  100171.0  114000.00   \n",
       "bash/shell            341.0  156943.17  71544.36  100400.0  111127.00   \n",
       "css                   287.0  161331.04  77137.22  100500.0  110985.50   \n",
       "java                  493.0  152805.56  61650.86  101000.0  112000.00   \n",
       "sql                   544.0  155423.95  72234.43  100600.0  110728.25   \n",
       "c#                    178.0  162756.18  82315.89  100171.0  112000.00   \n",
       "\n",
       "                           50%       75%       max  \n",
       "programming_language                                \n",
       "go                    135000.0  190000.0  475000.0  \n",
       "html                  135000.0  180000.0  475000.0  \n",
       "javascript            135000.0  188984.5  480000.0  \n",
       "php                   135000.0  175000.0  450000.0  \n",
       "python                135000.0  180750.0  490000.0  \n",
       "typescript            131500.0  180000.0  475000.0  \n",
       ".net                  130000.0  170000.0  490000.0  \n",
       "bash/shell            130000.0  170000.0  480000.0  \n",
       "css                   130000.0  173000.0  475000.0  \n",
       "java                  130000.0  170000.0  490000.0  \n",
       "sql                   127150.0  167194.0  475000.0  \n",
       "c#                    126150.0  170000.0  475000.0  "
      ]
     },
     "execution_count": 26,
     "metadata": {},
     "output_type": "execute_result"
    }
   ],
   "source": [
    "#df_max_salaries_12populars_woo.groupby(by='programming_language').describe().round(2)\n",
    "df_max_salaries_12populars_woo.groupby(\"programming_language\")['salary_monthly_NETO'].describe().sort_values('50%', ascending=False).round(2)\n"
   ]
  },
  {
   "cell_type": "markdown",
   "metadata": {
    "id": "92--MW8UCluU"
   },
   "source": [
    "**Conclusiones:**\n",
    "\n",
    "*   Podemos observar como los lenguajes populares asociados a los mejores salarios, tomando en cuenta la mediana, son:\n",
    "    1. go\n",
    "    2. Javascript\n",
    "    3. html\n",
    "    4. php\n",
    "    5. python"
   ]
  },
  {
   "cell_type": "code",
   "execution_count": 27,
   "metadata": {
    "executionInfo": {
     "elapsed": 44,
     "status": "ok",
     "timestamp": 1651337304689,
     "user": {
      "displayName": "TEO ARGAÑARAZ SARMIENTO",
      "userId": "02531750171444335604"
     },
     "user_tz": 180
    },
    "id": "KpIsuy6owuAy"
   },
   "outputs": [],
   "source": [
    "#obtenemos las longitudes de los diferentes df\n",
    "lon_inicial_woo = len(df_lang_woo)\n",
    "lon_most_pop_woo = len(df_most_pop_lenguals_total_woo)\n",
    "lon_max_sal_woo = len(df_max_salaries_woo)\n",
    "lon_max_sal_most_pop_woo = len(df_max_salaries_12populars_woo)"
   ]
  },
  {
   "cell_type": "code",
   "execution_count": 28,
   "metadata": {
    "colab": {
     "base_uri": "https://localhost:8080/"
    },
    "executionInfo": {
     "elapsed": 44,
     "status": "ok",
     "timestamp": 1651337304690,
     "user": {
      "displayName": "TEO ARGAÑARAZ SARMIENTO",
      "userId": "02531750171444335604"
     },
     "user_tz": 180
    },
    "id": "waIj-ulkwKSY",
    "outputId": "e21d1ff3-0e52-45a2-b573-57cc35926ab8"
   },
   "outputs": [
    {
     "name": "stdout",
     "output_type": "stream",
     "text": [
      "Prob. cobrar mas de 100000: 32.0%\n",
      "Prob. de conocer al menos un lenguaje de los 12 mas populares : 86.0%\n",
      "Prob. de lenguajes mas populares con respecto al total que tienen mayor salario:  27.0 %\n"
     ]
    }
   ],
   "source": [
    "P_A_I_B_wo = round(lon_max_sal_most_pop_woo/lon_inicial_woo,2) #lon_max_salaries\n",
    "P_B_wo = round(lon_most_pop_woo/lon_inicial_woo,2)\n",
    "P_A_wo = round(lon_max_sal_woo/lon_inicial_woo,2)\n",
    "print(f\"Prob. cobrar mas de 100000: {P_A_wo*100}%\")\n",
    "print(f\"Prob. de conocer al menos un lenguaje de los 12 mas populares : {P_B_wo*100}%\")\n",
    "print(\"Prob. de lenguajes mas populares con respecto al total que tienen mayor salario: \", P_A_I_B_wo*100,\"%\")"
   ]
  },
  {
   "cell_type": "markdown",
   "metadata": {
    "id": "6NRKccJwy0k1"
   },
   "source": [
    "**Probabilidades con datos sin Outliers**\n",
    "\n",
    "**A** = salary_monthly_NETO > 100000\n",
    "\n",
    "**B** = programming_language in most_popular_lenguages\n",
    "\n",
    "$$P(A)= 32\\%$$\n",
    "$$P(B)= 86\\%$$\n",
    "$$P(A \\cap B)= 27\\%$$\n",
    "\n",
    "A simple vista sabiendo que dos conjuntos son independientes si:\n",
    "\n",
    "\n",
    "$$P(A)* P(B) = P(A \\cap B)$$\n",
    "\n",
    "Podemos decir que A y B tienen cierta independiencia\n"
   ]
  },
  {
   "cell_type": "code",
   "execution_count": 29,
   "metadata": {
    "colab": {
     "base_uri": "https://localhost:8080/"
    },
    "executionInfo": {
     "elapsed": 35,
     "status": "ok",
     "timestamp": 1651337304691,
     "user": {
      "displayName": "TEO ARGAÑARAZ SARMIENTO",
      "userId": "02531750171444335604"
     },
     "user_tz": 180
    },
    "id": "Ak3MM0-HVPWH",
    "outputId": "1b2bf9d4-5243-4835-c81e-d1440f4c2076"
   },
   "outputs": [
    {
     "name": "stdout",
     "output_type": "stream",
     "text": [
      "P(A) = 0.32 | P(b) = 0.86 -> P(A)*P(B) = P(A ∩ B) = 27.52% \n"
     ]
    }
   ],
   "source": [
    "print(f\"P(A) = {P_A_wo} | P(b) = {P_B_wo} -> P(A)*P(B) = P(A ∩ B) = {round(P_A_wo*P_B_wo*100,2)}% \")"
   ]
  },
  {
   "cell_type": "markdown",
   "metadata": {
    "id": "KKnKh4lFwv9-"
   },
   "source": [
    "## **3.** Conclusiones"
   ]
  },
  {
   "cell_type": "markdown",
   "metadata": {
    "id": "vjTZpelYyChI"
   },
   "source": [
    "Tomaremos las probabilidades sin outliers, aunque los datos con outliers no son sumamente difetentes.\n",
    "\n",
    "**A** = salary_monthly_NETO > 100000\n",
    "\n",
    "**B** = programming_language in most_popular_lenguages\n",
    "\n",
    "$$P(A|B) = \\frac{P(A \\cap B)}{P(B)}$$\n",
    "\n",
    "Probabilidad de cobrar mas por conocer al menos alguno de los lenguages mas populares"
   ]
  },
  {
   "cell_type": "code",
   "execution_count": 30,
   "metadata": {
    "colab": {
     "base_uri": "https://localhost:8080/"
    },
    "executionInfo": {
     "elapsed": 318,
     "status": "ok",
     "timestamp": 1651337304977,
     "user": {
      "displayName": "TEO ARGAÑARAZ SARMIENTO",
      "userId": "02531750171444335604"
     },
     "user_tz": 180
    },
    "id": "RZSeBCUYxqeB",
    "outputId": "a9e75d7d-f558-4a62-b04e-fef022d21c98"
   },
   "outputs": [
    {
     "name": "stdout",
     "output_type": "stream",
     "text": [
      "P(A ∩ B) (Probabilidad de cobrar un salario mayor a 100000$ y programar en los lenguajes mas populares) = 27.0\n",
      "P(A) (Prob. cobrar mas de 100000) = 32.0\n",
      "P(B) (Prbabilidad de conocer al menos un lenguaje mas popular) = 86.0\n",
      "P(A|B) (Probabilidad de tener un salario mayor a 100000$ dado que se sabe un lenguaje mas popular) 31.0%\n"
     ]
    }
   ],
   "source": [
    "print(f\"P(A ∩ B) (Probabilidad de cobrar un salario mayor a 100000$ y programar en los lenguajes mas populares) = {P_A_I_B_wo*100}\")\n",
    "print(f\"P(A) (Prob. cobrar mas de 100000) = {P_A_wo*100}\")\n",
    "print(f\"P(B) (Prbabilidad de conocer al menos un lenguaje mas popular) = {P_B_wo*100}\")\n",
    "print(f\"P(A|B) (Probabilidad de tener un salario mayor a 100000$ dado que se sabe un lenguaje mas popular) {round(P_A_I_B_wo/P_B_wo,2)*100}%\")"
   ]
  },
  {
   "cell_type": "markdown",
   "metadata": {
    "id": "KCnXLdiq377Y"
   },
   "source": [
    "**Conclusiones:**\n",
    "\n",
    "*  Verificamos que **A** y **B** son casi independientes debido a que $P(A|B) = 31\\% $ $ ≈ P(A) = 32\\% $\n",
    "*   Conocer al menos un lenguaje mas popular disminuye un 1% las probabilidades de tener un salario mayor a 100000.\n",
    "*   Como no se puede afirmar que los lenguajes mas populares estan relacionados a tener un mayor salario, para hacer el analisis de los lenguajes de programacion que tienen mejores sueldos, seria necesario no encararlo desde los lenguajes mas populares.\n",
    "*  Para hacer este nuevo analisis se puede encararlo observando la cantidad de lenguajes conocidos de un programador, framework utilizado o puesto, en lugar de unicamente un lenguaje de programacion."
   ]
  },
  {
   "cell_type": "markdown",
   "metadata": {
    "id": "tWo8SmmC9FAk"
   },
   "source": [
    "# Ejercicio 2 - Densidades y varias varialbes\n",
    "\n",
    "Responder a la pregunta general: **¿Que herramientas (prácticas y teóricas) són útiles para explorar la base, descubrir patrones, asociaciones?**\n",
    "\n",
    "Para ello considere (igual al ejercicio Anterior):\n",
    "1. Seleccionar las columnas relevantes para analizar.\n",
    "2. Seleccionar las filas relevantes para analizar. Esto incluye la eliminación de valores extremos y erróneos, pero también puede enfocar el análisis en sub-poblaciones. "
   ]
  },
  {
   "cell_type": "markdown",
   "metadata": {
    "id": "5baYhH0XHM3S"
   },
   "source": [
    "## a) Densidad conjunta\n",
    "\n",
    "Que herramientas visuales y modelos puede utilizar para estudiar la distribución y comportamiento de sus datos? \n",
    "\n",
    "Elija tres variables numéricas y 2 variables categóricas. Visualice la base según varias de las variables elegidas. Puede describir de alguna forma el comportamiento de sus datos? Que herramientas utilizaría? Describa\n",
    "\n",
    "\n"
   ]
  },
  {
   "cell_type": "code",
   "execution_count": 31,
   "metadata": {
    "executionInfo": {
     "elapsed": 24,
     "status": "ok",
     "timestamp": 1651337304979,
     "user": {
      "displayName": "TEO ARGAÑARAZ SARMIENTO",
      "userId": "02531750171444335604"
     },
     "user_tz": 180
    },
    "id": "FpNX-EzhoIqo"
   },
   "outputs": [],
   "source": [
    "categorical_vars = [\"work_province\",\"profile_gender\"]\n",
    "numerical_vars = [\"salary_monthly_BRUTO\",\"salary_monthly_NETO\",\"profile_years_experience\",\"profile_age\"]"
   ]
  },
  {
   "cell_type": "code",
   "execution_count": 32,
   "metadata": {
    "colab": {
     "base_uri": "https://localhost:8080/",
     "height": 738
    },
    "executionInfo": {
     "elapsed": 1263,
     "status": "ok",
     "timestamp": 1651337306219,
     "user": {
      "displayName": "TEO ARGAÑARAZ SARMIENTO",
      "userId": "02531750171444335604"
     },
     "user_tz": 180
    },
    "id": "Ir_SrSgovL3s",
    "outputId": "d119b0fc-b618-46bc-bb22-1ae3852d5586"
   },
   "outputs": [
    {
     "data": {
      "text/plain": [
       "Text(0, 0.5, 'Count')"
      ]
     },
     "execution_count": 32,
     "metadata": {},
     "output_type": "execute_result"
    },
    {
     "data": {
      "image/png": "[encoded data removed]",
      "text/plain": [
       "<Figure size 864x864 with 2 Axes>"
      ]
     },
     "metadata": {
      "needs_background": "light"
     },
     "output_type": "display_data"
    }
   ],
   "source": [
    "def cured_work_province(province):\n",
    "    if(province == \"Ciudad Autónoma de Buenos Aires\"):\n",
    "        return province.replace(\"Ciudad Autónoma de Buenos Aires\",\"CABA\")\n",
    "    elif(province == \"GBA\" or province == \"Provincia de Buenos Aires\"):\n",
    "         return province.replace(\"GBA\",\"Buenos Aires\").replace(\"Provincia de Buenos Aires\",\"Buenos Aires\")\n",
    "    else:\n",
    "        return province\n",
    "    \n",
    "def reduced_work_province(province):\n",
    "  if(province == \"CABA\" or province == \"Buenos Aires\"):\n",
    "    return province\n",
    "  else:\n",
    "    return \"Otras provincias\"\n",
    "\n",
    "    \n",
    "fig, cols = plt.subplots(nrows=2, figsize=(12, 12))\n",
    "\n",
    "g0 = seaborn.countplot(y = df_woo.work_province.apply(cured_work_province),color=\"steelblue\", ax = cols[0])\n",
    "g0.set_title(\"Provincias Encuestados\")\n",
    "g0.set_ylabel(\"\", fontsize = 1)\n",
    "g0.set_xlabel(\"Count\", fontsize = 12)\n",
    "#g0.set_xticklabels(list(OrderedDict.fromkeys(df.work_province.apply(cured_work_province).tolist())), rotation=45,fontsize=10)\n",
    "\n",
    "g1 = seaborn.countplot(x = df_woo.work_province.apply(cured_work_province).apply(reduced_work_province),color=\"steelblue\",\\\n",
    "                       ax = cols[1])\n",
    "g1.set_title(\"Provincias Encuestados (simplificado)\")\n",
    "g1.set_xlabel(\"\", fontsize = 1)\n",
    "g1.set_ylabel(\"Count\", fontsize = 12)"
   ]
  },
  {
   "cell_type": "code",
   "execution_count": 33,
   "metadata": {
    "colab": {
     "base_uri": "https://localhost:8080/",
     "height": 412
    },
    "executionInfo": {
     "elapsed": 29,
     "status": "ok",
     "timestamp": 1651337306222,
     "user": {
      "displayName": "TEO ARGAÑARAZ SARMIENTO",
      "userId": "02531750171444335604"
     },
     "user_tz": 180
    },
    "id": "kgtPVZPO0Q48",
    "outputId": "d9961e98-d142-4182-edb2-a2a0a03130f0"
   },
   "outputs": [
    {
     "data": {
      "text/plain": [
       "Text(0, 0.5, 'Count')"
      ]
     },
     "execution_count": 33,
     "metadata": {},
     "output_type": "execute_result"
    },
    {
     "data": {
      "image/png": "[encoded data removed]",
      "text/plain": [
       "<Figure size 720x432 with 1 Axes>"
      ]
     },
     "metadata": {
      "needs_background": "light"
     },
     "output_type": "display_data"
    }
   ],
   "source": [
    "fig = plt.figure(figsize=(10,6))\n",
    "g2 = seaborn.countplot(x = df_woo.profile_gender, color=\"lightblue\")\n",
    "g2.set_title(\"Genero encuestados\")\n",
    "g2.set_xlabel(\"\", fontsize = 1)\n",
    "g2.set_ylabel(\"Count\", fontsize = 20)"
   ]
  },
  {
   "cell_type": "code",
   "execution_count": 34,
   "metadata": {
    "colab": {
     "base_uri": "https://localhost:8080/",
     "height": 516
    },
    "executionInfo": {
     "elapsed": 933,
     "status": "ok",
     "timestamp": 1651337307140,
     "user": {
      "displayName": "TEO ARGAÑARAZ SARMIENTO",
      "userId": "02531750171444335604"
     },
     "user_tz": 180
    },
    "id": "9D6kL8bqDDV4",
    "outputId": "66000eb3-8265-433d-b68e-1b1cad8090ec"
   },
   "outputs": [
    {
     "name": "stdout",
     "output_type": "stream",
     "text": [
      "work_province   Buenos Aires  CABA  Otras provincias\n",
      "profile_gender                                      \n",
      "Hombre                   793  2772              1015\n",
      "Mujer                     89   609               127\n",
      "Otros                      3    20                 5\n"
     ]
    },
    {
     "data": {
      "text/plain": [
       "Text(111.5, 0.5, 'Genero')"
      ]
     },
     "execution_count": 34,
     "metadata": {},
     "output_type": "execute_result"
    },
    {
     "data": {
      "image/png": "[encoded data removed]",
      "text/plain": [
       "<Figure size 1080x432 with 2 Axes>"
      ]
     },
     "metadata": {
      "needs_background": "light"
     },
     "output_type": "display_data"
    }
   ],
   "source": [
    "fig = plt.figure(figsize=(15,6))\n",
    "exp = pd.crosstab(df_woo.profile_gender,\n",
    "                  df_woo.work_province.apply(cured_work_province).apply(reduced_work_province))\n",
    "print(exp)\n",
    "g3 = seaborn.heatmap(exp, annot=True, fmt='g', cmap=\"Blues\")\n",
    "g3.set_title(\"Heatmap GENERO/PROVINCIA\")\n",
    "g3.set_xlabel(\"Provincia\", fontsize = 12)\n",
    "g3.set_ylabel(\"Genero\", fontsize = 12)"
   ]
  },
  {
   "cell_type": "code",
   "execution_count": 35,
   "metadata": {
    "colab": {
     "base_uri": "https://localhost:8080/",
     "height": 960
    },
    "executionInfo": {
     "elapsed": 14119,
     "status": "ok",
     "timestamp": 1651337321246,
     "user": {
      "displayName": "TEO ARGAÑARAZ SARMIENTO",
      "userId": "02531750171444335604"
     },
     "user_tz": 180
    },
    "id": "Uwd_r-TSsUtH",
    "outputId": "f83bc1fe-32e7-4224-b183-faacad330b62"
   },
   "outputs": [
    {
     "data": {
      "image/png": "[encoded data removed]",
      "text/plain": [
       "<Figure size 1152x1152 with 12 Axes>"
      ]
     },
     "metadata": {
      "needs_background": "light"
     },
     "output_type": "display_data"
    }
   ],
   "source": [
    "salary_col_NETO = \"salary_monthly_NETO\" \n",
    "salary_col_BRUTO = \"salary_monthly_BRUTO\" \n",
    "\n",
    "filtered_df_province = df_woo[(df_woo[\"work_province\"] == \"Ciudad Autónoma de Buenos Aires\")]\n",
    "filtered_df_gender = df_woo[df_woo[\"profile_gender\"] == \"Hombre\"]\n",
    "filtered_df_man_CABA = df_woo[(df_woo[\"profile_gender\"] == \"Hombre\") & (df_woo[\"work_province\"] == \"Ciudad Autónoma de Buenos Aires\")]\n",
    "\n",
    "\n",
    "cond_plot = [df_woo,filtered_df_province, filtered_df_gender,filtered_df_man_CABA]\n",
    "ylabel = [\"TOTAL\",\"CABA\",\"Hombre\",\"Hombre de CABA\"]\n",
    "\n",
    "fig, axes = plt.subplots(nrows=4,ncols=3, figsize=(16, 16))\n",
    "\n",
    "for col in range(3):\n",
    "  for row in range(4):\n",
    "    if col == 0:\n",
    "      seaborn.histplot(cond_plot[row][salary_col_BRUTO], bins=50, ax=axes[row][col], color='gray', label=\"Salario Bruto\")\n",
    "      axes[row][col].axvline(cond_plot[row][salary_col_BRUTO].median(), color='indigo', linestyle='-.', label='Mediana BRUTO')\n",
    "      seaborn.histplot(cond_plot[row][salary_col_NETO], bins=50, ax=axes[row][col], color='lightblue', label=\"Salario Neto\")\\\n",
    "      .set_ylabel(ylabel[row],fontsize = 12)\n",
    "      axes[row][col].axvline(cond_plot[row][salary_col_NETO].median(), color='steelblue', linestyle='--', label='Mediana NETO')\n",
    "      axes[row][col].legend()\n",
    "      axes[row][col].set_xlabel(\"Salario en ARS$\")\n",
    "      axes[row][col].tick_params(axis='x', labelrotation=30)\n",
    "    elif col == 1:\n",
    "      seaborn.histplot(cond_plot[row][\"profile_age\"], bins=50, ax=axes[row][col], color='gray', label=\"Edad\")\\\n",
    "      .set_ylabel(ylabel[row],fontsize = 12)\n",
    "      axes[row][col].axvline(cond_plot[row][\"profile_age\"].median(), color='indigo', linestyle='--', label='Mediana Edad')\n",
    "      axes[row][col].legend()\n",
    "      axes[row][col].set_xlabel(\"Edad\")\n",
    "    elif col == 2:\n",
    "      seaborn.histplot(cond_plot[row][\"profile_years_experience\"], bins=50, ax=axes[row][col], color='lightblue', label=\"Años de Experiencia\")\\\n",
    "      .set_ylabel(ylabel[row],fontsize = 12)\n",
    "      axes[row][col].axvline(cond_plot[row][\"profile_years_experience\"].median(), color='steelblue', linestyle='--', label='Mediana años de experiencia')\n",
    "      axes[row][col].legend()\n",
    "      axes[row][col].set_xlabel(\"Años de Experiencia\")\n",
    "    \n",
    "seaborn.despine()"
   ]
  },
  {
   "cell_type": "code",
   "execution_count": 36,
   "metadata": {
    "colab": {
     "base_uri": "https://localhost:8080/"
    },
    "executionInfo": {
     "elapsed": 34,
     "status": "ok",
     "timestamp": 1651337321251,
     "user": {
      "displayName": "TEO ARGAÑARAZ SARMIENTO",
      "userId": "02531750171444335604"
     },
     "user_tz": 180
    },
    "id": "E4dHE7NB_Kym",
    "outputId": "86559c24-c22c-4129-a482-01f34277ffd4"
   },
   "outputs": [
    {
     "name": "stdout",
     "output_type": "stream",
     "text": [
      "Salario NETO: \n",
      " TOTAL \n",
      " count      5433.000000\n",
      "mean      91988.030191\n",
      "std       59127.833639\n",
      "min       22500.000000\n",
      "25%       55000.000000\n",
      "50%       80000.000000\n",
      "75%      107000.000000\n",
      "max      490000.000000\n",
      "Name: salary_monthly_NETO, dtype: float64 \n",
      "\n",
      "Salario BRUTO: \n",
      " TOTAL \n",
      " count      5433.000000\n",
      "mean     118451.868253\n",
      "std       79059.525631\n",
      "min       27000.000000\n",
      "25%       65846.000000\n",
      "50%       99800.000000\n",
      "75%      144830.000000\n",
      "max      630000.000000\n",
      "Name: salary_monthly_BRUTO, dtype: float64 \n",
      "\n",
      "Edad: \n",
      " TOTAL \n",
      " count    5433.000000\n",
      "mean       32.635929\n",
      "std         7.225001\n",
      "min        18.000000\n",
      "25%        27.000000\n",
      "50%        32.000000\n",
      "75%        37.000000\n",
      "max        67.000000\n",
      "Name: profile_age, dtype: float64 \n",
      "\n",
      "Años de experiencia: \n",
      " TOTAL \n",
      " count    5433.000000\n",
      "mean        8.933425\n",
      "std         7.019028\n",
      "min         0.000000\n",
      "25%         3.000000\n",
      "50%         7.000000\n",
      "75%        13.000000\n",
      "max        44.000000\n",
      "Name: profile_years_experience, dtype: float64 \n",
      "\n",
      "Salario NETO: \n",
      " CABA \n",
      " count      3401.000000\n",
      "mean      94281.785713\n",
      "std       55189.591148\n",
      "min       22500.000000\n",
      "25%       59000.000000\n",
      "50%       83475.000000\n",
      "75%      110000.000000\n",
      "max      480000.000000\n",
      "Name: salary_monthly_NETO, dtype: float64 \n",
      "\n",
      "Salario BRUTO: \n",
      " CABA \n",
      " count      3401.000000\n",
      "mean     124037.594275\n",
      "std       78016.794996\n",
      "min       27000.000000\n",
      "25%       70000.000000\n",
      "50%      105000.000000\n",
      "75%      150000.000000\n",
      "max      630000.000000\n",
      "Name: salary_monthly_BRUTO, dtype: float64 \n",
      "\n",
      "Edad: \n",
      " CABA \n",
      " count    3401.000000\n",
      "mean       32.386945\n",
      "std         7.191964\n",
      "min        18.000000\n",
      "25%        27.000000\n",
      "50%        31.000000\n",
      "75%        37.000000\n",
      "max        67.000000\n",
      "Name: profile_age, dtype: float64 \n",
      "\n",
      "Años de experiencia: \n",
      " CABA \n",
      " count    3401.000000\n",
      "mean        8.811026\n",
      "std         6.974288\n",
      "min         0.000000\n",
      "25%         3.000000\n",
      "50%         7.000000\n",
      "75%        13.000000\n",
      "max        43.000000\n",
      "Name: profile_years_experience, dtype: float64 \n",
      "\n",
      "Salario NETO: \n",
      " Hombre \n",
      " count      4580.000000\n",
      "mean      94567.711886\n",
      "std       61166.395219\n",
      "min       22500.000000\n",
      "25%       57000.000000\n",
      "50%       80400.000000\n",
      "75%      110000.000000\n",
      "max      490000.000000\n",
      "Name: salary_monthly_NETO, dtype: float64 \n",
      "\n",
      "Salario BRUTO: \n",
      " Hombre \n",
      " count      4580.000000\n",
      "mean     121961.542020\n",
      "std       81778.927361\n",
      "min       27000.000000\n",
      "25%       68000.000000\n",
      "50%      100000.000000\n",
      "75%      150000.000000\n",
      "max      630000.000000\n",
      "Name: salary_monthly_BRUTO, dtype: float64 \n",
      "\n",
      "Edad: \n",
      " Hombre \n",
      " count    4580.000000\n",
      "mean       32.827074\n",
      "std         7.324582\n",
      "min        18.000000\n",
      "25%        27.000000\n",
      "50%        32.000000\n",
      "75%        37.000000\n",
      "max        67.000000\n",
      "Name: profile_age, dtype: float64 \n",
      "\n",
      "Años de experiencia: \n",
      " Hombre \n",
      " count    4580.000000\n",
      "mean        9.297445\n",
      "std         7.102462\n",
      "min         0.000000\n",
      "25%         4.000000\n",
      "50%         8.000000\n",
      "75%        14.000000\n",
      "max        44.000000\n",
      "Name: profile_years_experience, dtype: float64 \n",
      "\n",
      "Salario NETO: \n",
      " Hombre de CABA \n",
      " count      2772.000000\n",
      "mean      97857.995848\n",
      "std       56974.733077\n",
      "min       22500.000000\n",
      "25%       62000.000000\n",
      "50%       86000.000000\n",
      "75%      115000.000000\n",
      "max      480000.000000\n",
      "Name: salary_monthly_NETO, dtype: float64 \n",
      "\n",
      "Salario BRUTO: \n",
      " Hombre de CABA \n",
      " count      2772.000000\n",
      "mean     129193.031328\n",
      "std       80921.824850\n",
      "min       27000.000000\n",
      "25%       75000.000000\n",
      "50%      110000.000000\n",
      "75%      160000.000000\n",
      "max      630000.000000\n",
      "Name: salary_monthly_BRUTO, dtype: float64 \n",
      "\n",
      "Edad: \n",
      " Hombre de CABA \n",
      " count    2772.000000\n",
      "mean       32.617244\n",
      "std         7.318670\n",
      "min        18.000000\n",
      "25%        27.000000\n",
      "50%        32.000000\n",
      "75%        37.000000\n",
      "max        67.000000\n",
      "Name: profile_age, dtype: float64 \n",
      "\n",
      "Años de experiencia: \n",
      " Hombre de CABA \n",
      " count    2772.000000\n",
      "mean        9.246320\n",
      "std         7.080644\n",
      "min         0.000000\n",
      "25%         3.000000\n",
      "50%         8.000000\n",
      "75%        14.000000\n",
      "max        43.000000\n",
      "Name: profile_years_experience, dtype: float64 \n",
      "\n"
     ]
    }
   ],
   "source": [
    "for i in range(4):\n",
    "  print(f\"Salario NETO: \\n {ylabel[i]} \\n {cond_plot[i].salary_monthly_NETO.describe()} \\n\")\n",
    "  print(f\"Salario BRUTO: \\n {ylabel[i]} \\n {cond_plot[i].salary_monthly_BRUTO.describe()} \\n\")\n",
    "  print(f\"Edad: \\n {ylabel[i]} \\n {cond_plot[i].profile_age.describe()} \\n\")\n",
    "  print(f\"Años de experiencia: \\n {ylabel[i]} \\n {cond_plot[i].profile_years_experience.describe()} \\n\")"
   ]
  },
  {
   "cell_type": "code",
   "execution_count": 37,
   "metadata": {
    "colab": {
     "base_uri": "https://localhost:8080/"
    },
    "executionInfo": {
     "elapsed": 438,
     "status": "ok",
     "timestamp": 1651337321668,
     "user": {
      "displayName": "TEO ARGAÑARAZ SARMIENTO",
      "userId": "02531750171444335604"
     },
     "user_tz": 180
    },
    "id": "rYWe-h1KFO8Y",
    "outputId": "04398ba0-1bd7-4e64-d2ef-fd93d77bbf82"
   },
   "outputs": [
    {
     "name": "stdout",
     "output_type": "stream",
     "text": [
      "Error relativo porcentual de las medidas respecto al total: \n",
      " Subpoblacion: CABA \n",
      " Salario NETO \n",
      "   count    37.401068\n",
      "mean      2.493537\n",
      "std       6.660556\n",
      "min       0.000000\n",
      "25%       7.272727\n",
      "50%       4.343750\n",
      "75%       2.803738\n",
      "max       2.040816\n",
      "Name: salary_monthly_NETO, dtype: float64 \n",
      "\n",
      "\n",
      " Salario BRUTO \n",
      "   count    37.401068\n",
      "mean      4.715608\n",
      "std       1.318918\n",
      "min       0.000000\n",
      "25%       6.308660\n",
      "50%       5.210421\n",
      "75%       3.569702\n",
      "max       0.000000\n",
      "Name: salary_monthly_BRUTO, dtype: float64 \n",
      "\n",
      "\n",
      " Edad: \n",
      "   count    37.401068\n",
      "mean      0.762912\n",
      "std       0.457257\n",
      "min       0.000000\n",
      "25%       0.000000\n",
      "50%       3.125000\n",
      "75%       0.000000\n",
      "max       0.000000\n",
      "Name: profile_age, dtype: float64 \n",
      "\n",
      "Años de experiencia: \n",
      "   count    37.401068\n",
      "mean      1.370126\n",
      "std       0.637405\n",
      "min            NaN\n",
      "25%       0.000000\n",
      "50%       0.000000\n",
      "75%       0.000000\n",
      "max       2.272727\n",
      "Name: profile_years_experience, dtype: float64 \n",
      "\n",
      "Error relativo porcentual de las medidas respecto al total: \n",
      " Subpoblacion: Hombre \n",
      " Salario NETO \n",
      "   count    15.700350\n",
      "mean      2.804367\n",
      "std       3.447719\n",
      "min       0.000000\n",
      "25%       3.636364\n",
      "50%       0.500000\n",
      "75%       2.803738\n",
      "max       0.000000\n",
      "Name: salary_monthly_NETO, dtype: float64 \n",
      "\n",
      "\n",
      " Salario BRUTO \n",
      "   count    15.700350\n",
      "mean      2.962953\n",
      "std       3.439689\n",
      "min       0.000000\n",
      "25%       3.271269\n",
      "50%       0.200401\n",
      "75%       3.569702\n",
      "max       0.000000\n",
      "Name: salary_monthly_BRUTO, dtype: float64 \n",
      "\n",
      "\n",
      " Edad: \n",
      "   count    15.700350\n",
      "mean      0.585691\n",
      "std       1.378280\n",
      "min       0.000000\n",
      "25%       0.000000\n",
      "50%       0.000000\n",
      "75%       0.000000\n",
      "max       0.000000\n",
      "Name: profile_age, dtype: float64 \n",
      "\n",
      "Años de experiencia: \n",
      "   count    15.700350\n",
      "mean      4.074809\n",
      "std       1.188682\n",
      "min            NaN\n",
      "25%      33.333333\n",
      "50%      14.285714\n",
      "75%       7.692308\n",
      "max       0.000000\n",
      "Name: profile_years_experience, dtype: float64 \n",
      "\n",
      "Error relativo porcentual de las medidas respecto al total: \n",
      " Subpoblacion: Hombre de CABA \n",
      " Salario NETO \n",
      "   count    48.978465\n",
      "mean      6.381228\n",
      "std       3.641433\n",
      "min       0.000000\n",
      "25%      12.727273\n",
      "50%       7.500000\n",
      "75%       7.476636\n",
      "max       2.040816\n",
      "Name: salary_monthly_NETO, dtype: float64 \n",
      "\n",
      "\n",
      " Salario BRUTO \n",
      "   count    48.978465\n",
      "mean      9.067956\n",
      "std       2.355566\n",
      "min       0.000000\n",
      "25%      13.902135\n",
      "50%      10.220441\n",
      "75%      10.474349\n",
      "max       0.000000\n",
      "Name: salary_monthly_BRUTO, dtype: float64 \n",
      "\n",
      "\n",
      " Edad: \n",
      "   count    48.978465\n",
      "mean      0.057252\n",
      "std       1.296463\n",
      "min       0.000000\n",
      "25%       0.000000\n",
      "50%       0.000000\n",
      "75%       0.000000\n",
      "max       0.000000\n",
      "Name: profile_age, dtype: float64 \n",
      "\n",
      "Años de experiencia: \n",
      "   count    48.978465\n",
      "mean      3.502520\n",
      "std       0.877838\n",
      "min            NaN\n",
      "25%       0.000000\n",
      "50%      14.285714\n",
      "75%       7.692308\n",
      "max       2.272727\n",
      "Name: profile_years_experience, dtype: float64 \n",
      "\n"
     ]
    }
   ],
   "source": [
    "for i in range(3):\n",
    "  print(f\"Error relativo porcentual de las medidas respecto al total: \\n Subpoblacion: {ylabel[i+1]} \\n Salario NETO \\n\\\n",
    "   {abs(cond_plot[0].salary_monthly_NETO.describe()-cond_plot[i+1].salary_monthly_NETO.describe())*100/cond_plot[0].salary_monthly_NETO.describe()} \\n\")\n",
    "  print(f\"\\n Salario BRUTO \\n\\\n",
    "   {abs(cond_plot[0].salary_monthly_BRUTO.describe()-cond_plot[i+1].salary_monthly_BRUTO.describe())*100/cond_plot[0].salary_monthly_BRUTO.describe()} \\n\")\n",
    "  print(f\"\\n Edad: \\n\\\n",
    "   {abs(cond_plot[0].profile_age.describe()-cond_plot[i+1].profile_age.describe())*100/cond_plot[0].profile_age.describe()} \\n\")\n",
    "  print(f\"Años de experiencia: \\n\\\n",
    "   {abs(cond_plot[0].profile_years_experience.describe()-cond_plot[i+1].profile_years_experience.describe())*100/cond_plot[0].profile_years_experience.describe()} \\n\")"
   ]
  },
  {
   "cell_type": "markdown",
   "metadata": {
    "id": "qF7DPp9ZEiCW"
   },
   "source": [
    "### **Conclusiones**\n",
    "\n",
    "- La mayoria de personas que respondieron la encuesta son Hombres.\n",
    "\n",
    "- La mayor participacion se nucleo en las personas de CABA.\n",
    "\n",
    "- Se observa que las medidas estadisticas de las subpoblaciones respecto al espacio muestral no difieren mas de un 10% en el caso de la media y la desviacion estandar y mas de un 35% en el caso de los cuartiles.\n",
    "\n",
    "- Tanto la subpoblacion Hombres, como la Subpoblacion CABA son lo suficientemente representativas para las cuatros variables numericas.\n",
    "\n",
    "- La subpoblacion Hombres de CABA no es tan representativa respecto a las variables de salario mensual BRUTO y NETO, pero si respecto a la edad y a los años de experiencia.\n",
    "\n",
    "- Se puede establecer la hipotesis de que es mucho menor la proporcion de mujeres que de hombres que sean programadores en Argentina o que es mucha mas la gente de Buenos Aires que programa respecto a las demas provincias, aunque tambien pueden ser sesgos propios de la encuesta.\n"
   ]
  },
  {
   "cell_type": "markdown",
   "metadata": {
    "id": "lkuHE2aZGHMO"
   },
   "source": [
    "## b) Asociación\n",
    "\n",
    "* Necesitamos decidir si sacar o no la columna de salario bruto. Para hacer la encuesta más simple.\n",
    "¿Existe una correlación entre el salario bruto y el neto? Que abordaje y medidas usaría\n",
    "\n"
   ]
  },
  {
   "cell_type": "code",
   "execution_count": 38,
   "metadata": {
    "colab": {
     "base_uri": "https://localhost:8080/"
    },
    "executionInfo": {
     "elapsed": 11,
     "status": "ok",
     "timestamp": 1651337321669,
     "user": {
      "displayName": "TEO ARGAÑARAZ SARMIENTO",
      "userId": "02531750171444335604"
     },
     "user_tz": 180
    },
    "id": "ar-QYdhbPFNn",
    "outputId": "8e57bd4f-17de-441c-ff24-c7324f5084b7"
   },
   "outputs": [
    {
     "name": "stdout",
     "output_type": "stream",
     "text": [
      "Outliers neto: (35000.0 , 150000.0)\n",
      "Outliers bruto: (40000.0 , 220000.0)\n"
     ]
    }
   ],
   "source": [
    "#obtenemos los outliers\n",
    "min_thresold_neto, max_thresold_neto = df.salary_monthly_NETO.quantile([0.1,0.9])\n",
    "print(f\"Outliers neto: ({min_thresold_neto} , {max_thresold_neto})\")\n",
    "min_thresold_bruto, max_thresold_bruto = df.salary_monthly_BRUTO.quantile([0.1,0.9])\n",
    "print(f\"Outliers bruto: ({min_thresold_bruto} , {max_thresold_bruto})\")"
   ]
  },
  {
   "cell_type": "code",
   "execution_count": 39,
   "metadata": {
    "colab": {
     "base_uri": "https://localhost:8080/",
     "height": 317
    },
    "executionInfo": {
     "elapsed": 1439,
     "status": "ok",
     "timestamp": 1651337323103,
     "user": {
      "displayName": "TEO ARGAÑARAZ SARMIENTO",
      "userId": "02531750171444335604"
     },
     "user_tz": 180
    },
    "id": "PjATnIdBNnol",
    "outputId": "013eaee7-2192-48a7-cc69-f35c866f9cb5"
   },
   "outputs": [
    {
     "data": {
      "image/png": "[encoded data removed]",
      "text/plain": [
       "<Figure size 576x288 with 1 Axes>"
      ]
     },
     "metadata": {
      "needs_background": "light"
     },
     "output_type": "display_data"
    }
   ],
   "source": [
    "max_age = 75\n",
    "df_limpio=df[(df.profile_age < max_age) & (df.salary_monthly_NETO > min_thresold_neto) & (df.salary_monthly_NETO < max_thresold_neto) &\n",
    "             (df.salary_monthly_BRUTO > min_thresold_bruto) & (df.salary_monthly_BRUTO < max_thresold_bruto)]\n",
    "seaborn.pairplot(data=df_limpio, y_vars=['salary_monthly_BRUTO'],\n",
    "                 x_vars=['salary_monthly_NETO'],\n",
    "                 aspect=2, height=4);\n",
    "plt.xticks(rotation=20);"
   ]
  },
  {
   "cell_type": "code",
   "execution_count": 40,
   "metadata": {
    "colab": {
     "base_uri": "https://localhost:8080/"
    },
    "executionInfo": {
     "elapsed": 22,
     "status": "ok",
     "timestamp": 1651337323106,
     "user": {
      "displayName": "TEO ARGAÑARAZ SARMIENTO",
      "userId": "02531750171444335604"
     },
     "user_tz": 180
    },
    "id": "lmV4RflfNvwY",
    "outputId": "f07c4e89-907e-456c-973f-8e0a61eccad1"
   },
   "outputs": [
    {
     "name": "stdout",
     "output_type": "stream",
     "text": [
      "Media Salario Bruto: 101644.31\n",
      "Media Salario Neto: 79247.87\n",
      "Matriz de correlacion\n",
      "                      salary_monthly_BRUTO  salary_monthly_NETO\n",
      "salary_monthly_BRUTO              1.000000             0.959481\n",
      "salary_monthly_NETO               0.959481             1.000000 \n",
      "\n",
      "Coef de correlación entra ambas variables:  0.96 \n",
      "\n",
      "Coef de covarianza entra ambas variables: Positivo \n",
      "\n"
     ]
    }
   ],
   "source": [
    "df_br_ne = pd.DataFrame(df_limpio,columns=['salary_monthly_BRUTO','salary_monthly_NETO'])#creo df con solo esas dos columnas\n",
    "df_br_ne[:3]\n",
    "print(f\"Media Salario Bruto: {round(df_limpio['salary_monthly_BRUTO'].mean(),2)}\")\n",
    "print(f\"Media Salario Neto: {round(df_limpio['salary_monthly_NETO'].mean(),2)}\")\n",
    "#Correlacion\n",
    "corr_df = df_br_ne.corr()\n",
    "print(\"Matriz de correlacion\")\n",
    "print(corr_df, \"\\n\")\n",
    "print('Coef de correlación entra ambas variables: ', round(corr_df.iloc[0]['salary_monthly_NETO'],2) ,'\\n')\n",
    "#Covarianza\n",
    "cov_df = df_br_ne.cov()\n",
    "#print(\"Matriz de covarianza\")\n",
    "#print(cov_df, \"\\n\")\n",
    "if round(cov_df.iloc[0]['salary_monthly_NETO'],2) >= 0:\n",
    "  print('Coef de covarianza entra ambas variables: Positivo \\n')\n",
    "else:\n",
    "  print('Coef de covarianza entra ambas variables: Negativo \\n')\n",
    "#cov mayor a cero correlacion positiva"
   ]
  },
  {
   "cell_type": "markdown",
   "metadata": {
    "id": "96LCPebKQ1AB"
   },
   "source": [
    "**Correlacion:**\n",
    "\n",
    "Coef de correlación entra ambas variables:  0.96\n",
    "\n",
    "*   Si r = 1, existe una correlación positiva perfecta. Por lo tanto el índice indica una dependencia total entre las dos variables denominada relación directa: cuando una de ellas aumenta, la otra también lo hace en proporción constante.\n",
    "*   Existe una correlacion positiva y una asociación muy alta.\n",
    "\n",
    "**Covarianza:**\n",
    "\n",
    "Covarianza entra ambas variables:  Positivo\n",
    "\n",
    "*   Existe una correlacion positiva y una asociación muy alta.\n",
    "\n",
    "**Conclusiones:**\n",
    "\n",
    "*   Son variables dependientes, se podria quitar el salario bruto y quedarnos unicamente con el neto por su nivel de correlacion"
   ]
  },
  {
   "cell_type": "markdown",
   "metadata": {
    "id": "7MZrbRJCm-ae"
   },
   "source": [
    "## c) Densidad condicional \n",
    "\n",
    "Estudie la distribución del salario según el nivel de estudio.\n",
    "\n",
    "Separe la población según el nivel de estudio (elija dos subpoblaciones numerosas) y grafique de manera comparativa ambos histogramas de la variable `'salary_monthly_NETO'`\n",
    "¿Considera que ambas variables son independientes?\n",
    "¿Qué analizaría al respecto?\n",
    "\n",
    "Calcule medidas de centralización y dispersión para cada subpoblación\n",
    "\n",
    "\n",
    "\n",
    "\n"
   ]
  },
  {
   "cell_type": "code",
   "execution_count": 41,
   "metadata": {
    "executionInfo": {
     "elapsed": 17,
     "status": "ok",
     "timestamp": 1651337323107,
     "user": {
      "displayName": "TEO ARGAÑARAZ SARMIENTO",
      "userId": "02531750171444335604"
     },
     "user_tz": 180
    },
    "id": "Wh3ljnAEVOFQ"
   },
   "outputs": [],
   "source": [
    "salary_column = 'salary_monthly_NETO'\n",
    "level_study_column = 'profile_studies_level'"
   ]
  },
  {
   "cell_type": "markdown",
   "metadata": {
    "id": "Xd5CNqpGcfIL"
   },
   "source": [
    "### **Analisis 1**\n",
    "Tomamos dos subpoblaciones en torno al nivel de estudio, la subpoblacion no universitaria y la universitaria.\n",
    "\n",
    "*   **Subpoblacion 1**: `'profile_studies_level'` == `'Primario', 'Secundario', 'Terciario'`\n",
    "*   **Subpoblacion 2**: `'profile_studies_level'` == `'Universitario', 'Posgrado', 'Doctorado', 'Posdoctorado'`"
   ]
  },
  {
   "cell_type": "code",
   "execution_count": 42,
   "metadata": {
    "executionInfo": {
     "elapsed": 17,
     "status": "ok",
     "timestamp": 1651337323108,
     "user": {
      "displayName": "TEO ARGAÑARAZ SARMIENTO",
      "userId": "02531750171444335604"
     },
     "user_tz": 180
    },
    "id": "v7UIWV29cq_H"
   },
   "outputs": [],
   "source": [
    "sub_pob_1 = ['Primario', 'Secundario', 'Terciario']\n",
    "sub_pob_2 = ['Universitario', 'Posgrado', 'Doctorado', 'Posdoctorado']"
   ]
  },
  {
   "cell_type": "code",
   "execution_count": 43,
   "metadata": {
    "colab": {
     "base_uri": "https://localhost:8080/"
    },
    "executionInfo": {
     "elapsed": 24,
     "status": "ok",
     "timestamp": 1651337323116,
     "user": {
      "displayName": "TEO ARGAÑARAZ SARMIENTO",
      "userId": "02531750171444335604"
     },
     "user_tz": 180
    },
    "id": "gXtSFXOtRTVa",
    "outputId": "74e65c75-1eb3-40d3-edb5-fee47e6bc36b"
   },
   "outputs": [
    {
     "name": "stdout",
     "output_type": "stream",
     "text": [
      "Longitud de la sub poblacion 1: 1417\n",
      "Longitud de la sub poblacion 2: 4016\n"
     ]
    }
   ],
   "source": [
    "sorted_studies_levels = ['Primario', 'Secundario', 'Terciario', 'Universitario',\n",
    "                         'Posgrado', 'Doctorado', 'Posdoctorado'] #lista de los nombres de categorías ordenadas\n",
    "df_sub_p_1=df_woo[df_woo['profile_studies_level'].isin(sub_pob_1)]\n",
    "print(f\"Longitud de la sub poblacion 1: {len(df_sub_p_1)}\")\n",
    "df_sub_p_2=df_woo[df_woo['profile_studies_level'].isin(sub_pob_2)]\n",
    "print(f\"Longitud de la sub poblacion 2: {len(df_sub_p_2)}\")"
   ]
  },
  {
   "cell_type": "code",
   "execution_count": 44,
   "metadata": {
    "colab": {
     "base_uri": "https://localhost:8080/",
     "height": 357
    },
    "executionInfo": {
     "elapsed": 2546,
     "status": "ok",
     "timestamp": 1651337325642,
     "user": {
      "displayName": "TEO ARGAÑARAZ SARMIENTO",
      "userId": "02531750171444335604"
     },
     "user_tz": 180
    },
    "id": "e6-e8GXveP8d",
    "outputId": "f95a8c19-7f07-49b4-a009-ecc62f325e11"
   },
   "outputs": [
    {
     "data": {
      "image/png": "[encoded data removed]",
      "text/plain": [
       "<Figure size 1080x360 with 1 Axes>"
      ]
     },
     "metadata": {
      "needs_background": "light"
     },
     "output_type": "display_data"
    }
   ],
   "source": [
    "fig, axes = plt.subplots(nrows=1, figsize=(15, 5))\n",
    "plt.title(f\"Salario Neto Universitario vs No Universitario\")\n",
    "seaborn.histplot(df_sub_p_2[salary_column], bins=100, ax=axes, color='lightblue',label='Universitario')\n",
    "axes.axvline(df_sub_p_2[salary_column].mean(), color='steelblue',\n",
    "            linestyle='--', label='Media Universitario')\n",
    "axes.axvline(df_sub_p_2[salary_column].median(), color='indigo',\n",
    "            linestyle='-.', label='Mediana Universitario')\n",
    "axes.legend()\n",
    "seaborn.despine()\n",
    "#plt.title(f\"Salario Neto No universitario\")\n",
    "seaborn.histplot(df_sub_p_1[salary_column], bins=100, ax=axes, color='gray',label='No Universitario')\n",
    "axes.axvline(df_sub_p_1[salary_column].mean(), color='orangered',\n",
    "            linestyle='--', label='Media No Universitario')\n",
    "axes.axvline(df_sub_p_1[salary_column].median(), color='red',\n",
    "            linestyle='-.', label='Mediana No Universitario')\n",
    "axes.legend()\n",
    "seaborn.despine()\n"
   ]
  },
  {
   "cell_type": "markdown",
   "metadata": {
    "id": "LDom-sp7-tOs"
   },
   "source": [
    "### **Subpoblacion 1**: `'profile_studies_level'` == `'Primario', 'Secundario', 'Terciario'`"
   ]
  },
  {
   "cell_type": "code",
   "execution_count": 45,
   "metadata": {
    "colab": {
     "base_uri": "https://localhost:8080/",
     "height": 412
    },
    "executionInfo": {
     "elapsed": 582,
     "status": "ok",
     "timestamp": 1651337326211,
     "user": {
      "displayName": "TEO ARGAÑARAZ SARMIENTO",
      "userId": "02531750171444335604"
     },
     "user_tz": 180
    },
    "id": "sNH5_gYu9jZ8",
    "outputId": "53e09747-583a-4d56-89c5-00df38a11273"
   },
   "outputs": [
    {
     "data": {
      "image/png": "[encoded data removed]",
      "text/plain": [
       "<Figure size 864x432 with 1 Axes>"
      ]
     },
     "metadata": {
      "needs_background": "light"
     },
     "output_type": "display_data"
    }
   ],
   "source": [
    "plt.figure(figsize=(12, 6))\n",
    "seaborn.boxplot(data=df_sub_p_1, x=salary_column,\n",
    "                color='orangered')\n",
    "plt.ticklabel_format(style='plain', axis='x')\n",
    "plt.title(f\"Estadistica descriptiva: Subpoblacion 1 'No universitarios'\");\n",
    "#agregar medias"
   ]
  },
  {
   "cell_type": "code",
   "execution_count": 46,
   "metadata": {
    "colab": {
     "base_uri": "https://localhost:8080/"
    },
    "executionInfo": {
     "elapsed": 24,
     "status": "ok",
     "timestamp": 1651337326212,
     "user": {
      "displayName": "TEO ARGAÑARAZ SARMIENTO",
      "userId": "02531750171444335604"
     },
     "user_tz": 180
    },
    "id": "UWLYrK_chEHD",
    "outputId": "28d91895-024e-4e50-83de-b4ffe74b9b2e"
   },
   "outputs": [
    {
     "data": {
      "text/plain": [
       "count      1417.000000\n",
       "mean      81107.985095\n",
       "std       52530.723884\n",
       "min       23003.000000\n",
       "25%       49000.000000\n",
       "50%       70000.000000\n",
       "75%       95000.000000\n",
       "max      475000.000000\n",
       "Name: salary_monthly_NETO, dtype: float64"
      ]
     },
     "execution_count": 46,
     "metadata": {},
     "output_type": "execute_result"
    }
   ],
   "source": [
    "df_sub_p_1[salary_column].describe()"
   ]
  },
  {
   "cell_type": "markdown",
   "metadata": {
    "id": "qLmlpORtOttW"
   },
   "source": [
    "###  **Subpoblacion 2**: `'profile_studies_level'` == `'Universitario', 'Posgrado', 'Doctorado', 'Posdoctorado'`\n"
   ]
  },
  {
   "cell_type": "code",
   "execution_count": 47,
   "metadata": {
    "colab": {
     "base_uri": "https://localhost:8080/",
     "height": 412
    },
    "executionInfo": {
     "elapsed": 701,
     "status": "ok",
     "timestamp": 1651337326902,
     "user": {
      "displayName": "TEO ARGAÑARAZ SARMIENTO",
      "userId": "02531750171444335604"
     },
     "user_tz": 180
    },
    "id": "YSdrQzmvOttd",
    "outputId": "750403fb-32cc-4cf1-e31d-e6fac16a6a11"
   },
   "outputs": [
    {
     "data": {
      "image/png": "[encoded data removed]",
      "text/plain": [
       "<Figure size 864x432 with 1 Axes>"
      ]
     },
     "metadata": {
      "needs_background": "light"
     },
     "output_type": "display_data"
    }
   ],
   "source": [
    "plt.figure(figsize=(12, 6))\n",
    "seaborn.boxplot(data=df_sub_p_2, x=salary_column,\n",
    "                color='orangered')\n",
    "plt.ticklabel_format(style='plain', axis='x')\n",
    "plt.title(f\"Estadistica descriptiva: Subpoblacion 2 'Universitarios'\");"
   ]
  },
  {
   "cell_type": "code",
   "execution_count": 48,
   "metadata": {
    "colab": {
     "base_uri": "https://localhost:8080/"
    },
    "executionInfo": {
     "elapsed": 17,
     "status": "ok",
     "timestamp": 1651337326903,
     "user": {
      "displayName": "TEO ARGAÑARAZ SARMIENTO",
      "userId": "02531750171444335604"
     },
     "user_tz": 180
    },
    "id": "UBnZfy_ah7mf",
    "outputId": "d719cf6b-9d1c-47ae-f242-27bbde8f0cc8"
   },
   "outputs": [
    {
     "data": {
      "text/plain": [
       "count      4016.000000\n",
       "mean      95826.930565\n",
       "std       60829.626236\n",
       "min       22500.000000\n",
       "25%       58000.000000\n",
       "50%       83000.000000\n",
       "75%      110000.000000\n",
       "max      490000.000000\n",
       "Name: salary_monthly_NETO, dtype: float64"
      ]
     },
     "execution_count": 48,
     "metadata": {},
     "output_type": "execute_result"
    }
   ],
   "source": [
    "df_sub_p_2[salary_column].describe()"
   ]
  },
  {
   "cell_type": "markdown",
   "metadata": {
    "id": "4o2caQYlOtte"
   },
   "source": [
    "###**Conclusiones**\n",
    "\n",
    "Con ambas subpoblaciones se puede deducir que el salario neto de un programador depende del nivel de estudio.\n",
    "\n",
    "*   Se observa la diferencia de salario entre una persona con estudios universitarios y otra que no.\n",
    "*   Para la poblacion de universitarios las mediana crece con respecto a los no universitarios.\n",
    "*   La cantidad de no universitarios es menor, por lo que se puede deducir que entrar al mercado laboral de programador es mas sencillo para una persona con estudios universitarios.\n"
   ]
  },
  {
   "cell_type": "markdown",
   "metadata": {
    "id": "u8wgYxNiqVpE"
   },
   "source": [
    "## d) Densidad Conjunta condicional\n",
    "\n",
    "Elija dos variables numéricas y una categórica. \n",
    "Estudie la dispersión (scatterplot) de las dos variables discriminando en color por la variable categórica (ayuda: hue en seaborn)\n"
   ]
  },
  {
   "cell_type": "markdown",
   "metadata": {
    "id": "1p7U94lUQU5u"
   },
   "source": [
    "*   **Variables numericas:** work_people_in_charge_of, salary_monthly_NETO\n",
    "*   **Variable categorica:** work_role"
   ]
  },
  {
   "cell_type": "code",
   "execution_count": 49,
   "metadata": {
    "executionInfo": {
     "elapsed": 16,
     "status": "ok",
     "timestamp": 1651337326906,
     "user": {
      "displayName": "TEO ARGAÑARAZ SARMIENTO",
      "userId": "02531750171444335604"
     },
     "user_tz": 180
    },
    "id": "0UOzlgkDLUes"
   },
   "outputs": [],
   "source": [
    "df['work_role_bis'] = df['work_role']\n",
    "df.loc[(df['work_role_bis'] != 'Developer') & \n",
    "       (df['work_role_bis'] != 'SysAdmin / DevOps / SRE') &\n",
    "       (df['work_role_bis'] != 'Business Analyst') &\n",
    "       (df['work_role_bis'] != 'Technical Leader') &\n",
    "       (df['work_role_bis'] != 'QA / Tester')&\n",
    "       (df['work_role_bis'] != 'Manager / Director')&\n",
    "       (df['work_role_bis'] != 'HelpDesk') &\n",
    "       (df['work_role_bis'] != 'Project Manager')&\n",
    "       (df['work_role_bis'] != 'Architect') &\n",
    "       (df['work_role_bis'] != 'Data Scientist / Data Engineer')&\n",
    "       (df['work_role_bis'] != 'Consultant') &\n",
    "        (df['work_role_bis'] != 'Networking') &\n",
    "        (df['work_role_bis'] != 'BI Analyst / Data Analyst')&\n",
    "        (df['work_role_bis'] != 'UX') &\n",
    "        (df['work_role_bis'] != 'Infosec'),\n",
    "        'work_role_bis']= 'Otras funciones'"
   ]
  },
  {
   "cell_type": "code",
   "execution_count": 50,
   "metadata": {
    "colab": {
     "base_uri": "https://localhost:8080/"
    },
    "executionInfo": {
     "elapsed": 16,
     "status": "ok",
     "timestamp": 1651337326907,
     "user": {
      "displayName": "TEO ARGAÑARAZ SARMIENTO",
      "userId": "02531750171444335604"
     },
     "user_tz": 180
    },
    "id": "jXI1hx_MAwqc",
    "outputId": "82c22cbe-72ba-4599-cd3e-1ebefb74f869"
   },
   "outputs": [
    {
     "data": {
      "text/plain": [
       "50.0"
      ]
     },
     "execution_count": 50,
     "metadata": {},
     "output_type": "execute_result"
    }
   ],
   "source": [
    "#quitamos outliers de personas a cargo y salario neto\n",
    "min_pc, max_pc = df.work_people_in_charge_of.quantile([0,0.996])\n",
    "min_sal, max_sal = df.salary_monthly_NETO.quantile([0.05,0.99])\n",
    "df_clean_wo_pc_sn = df[(df.salary_monthly_NETO<max_sal)&(df.salary_monthly_NETO>min_sal)&\n",
    "                        (df.work_people_in_charge_of<max_pc)]\n",
    "\n",
    "max_pc"
   ]
  },
  {
   "cell_type": "code",
   "execution_count": 51,
   "metadata": {
    "colab": {
     "base_uri": "https://localhost:8080/",
     "height": 537
    },
    "executionInfo": {
     "elapsed": 3310,
     "status": "ok",
     "timestamp": 1651337330206,
     "user": {
      "displayName": "TEO ARGAÑARAZ SARMIENTO",
      "userId": "02531750171444335604"
     },
     "user_tz": 180
    },
    "id": "siP2W1Ga_qyS",
    "outputId": "4c6778d9-40d0-4da8-b5d1-d6c410bf43e6"
   },
   "outputs": [
    {
     "data": {
      "text/plain": [
       "<matplotlib.legend.Legend at 0x7f7e429c04d0>"
      ]
     },
     "execution_count": 51,
     "metadata": {},
     "output_type": "execute_result"
    },
    {
     "data": {
      "image/png": "[encoded data removed]",
      "text/plain": [
       "<Figure size 1152x576 with 1 Axes>"
      ]
     },
     "metadata": {
      "needs_background": "light"
     },
     "output_type": "display_data"
    }
   ],
   "source": [
    "plt.figure(figsize=(16,8));\n",
    "cmap = seaborn.cubehelix_palette(rot=-.2, as_cmap=True)\n",
    "seaborn.scatterplot(data=df_clean_wo_pc_sn,y='work_people_in_charge_of',x='salary_monthly_NETO',hue='work_role_bis',\\\n",
    "                    size='work_people_in_charge_of', sizes=(10,200));\n",
    "plt.title('Relacion entre personas a cargo y salario neto');\n",
    "plt.legend(fontsize=\"small\")"
   ]
  },
  {
   "cell_type": "code",
   "execution_count": 52,
   "metadata": {
    "colab": {
     "base_uri": "https://localhost:8080/"
    },
    "executionInfo": {
     "elapsed": 23,
     "status": "ok",
     "timestamp": 1651337330207,
     "user": {
      "displayName": "TEO ARGAÑARAZ SARMIENTO",
      "userId": "02531750171444335604"
     },
     "user_tz": 180
    },
    "id": "o0SEn88tAQLp",
    "outputId": "1b9cd32f-0924-484d-f952-aff4064d6f9c"
   },
   "outputs": [
    {
     "name": "stdout",
     "output_type": "stream",
     "text": [
      "Correlacion entre personas a cargo y salario: 0.203\n",
      "Coef de covarianza entra ambas variables: Positivo \n",
      "\n"
     ]
    }
   ],
   "source": [
    "df_woo_corr = pd.DataFrame(df_woo,columns=['work_people_in_charge_of','salary_monthly_NETO'])#creo df con solo esas dos columnas\n",
    "corr_df_NPC = df_woo_corr.corr()\n",
    "print(f\"Correlacion entre personas a cargo y salario: {round(corr_df_NPC.iloc[0]['salary_monthly_NETO'],3)}\")\n",
    "cov_df_NPC = df_woo_corr.cov()\n",
    "#print(\"Matriz de covarianza\")\n",
    "#print(cov_df, \"\\n\")\n",
    "if round(cov_df_NPC.iloc[0]['salary_monthly_NETO'],3) >= 0:\n",
    "  print('Coef de covarianza entra ambas variables: Positivo \\n')\n",
    "else:\n",
    "  print('Coef de covarianza entra ambas variables: Negativo \\n')"
   ]
  },
  {
   "cell_type": "markdown",
   "metadata": {
    "id": "oqg5ybCslJkF"
   },
   "source": [
    "###**Conclusiones**\n",
    "\n",
    "*   Podemos concluir que tener personas a cargo correlaciona ligeramente con el salario NETO percibido, es decir que ambas variables tienen baja relacion lineal.\n",
    "*   Dada la covarianza positiva, si la cantidad de personas a cargo aumenta se espera que tambien lo haga el salario NETO aunque no de la misma manera.\n",
    "*   Los puestos con mayor personas a cargo son los **Manager/Director**, **Otras funciones** (puestos administrativos jerarquicos) y en menor medida los **Project Manager**. Otros puestos que aparecen una unica vez con una cantidad importante de personas a cargo son los de **Developer**, **Buissnes Analyst** y **SysAdmin/DevOps/SRE**\n",
    "\n",
    "\n"
   ]
  }
 ],
 "metadata": {
  "colab": {
   "collapsed_sections": [],
   "name": "Entregable_Parte_1_Grupo_21.ipynb",
   "provenance": []
  },
  "kernelspec": {
   "display_name": "Python 3 (ipykernel)",
   "language": "python",
   "name": "python3"
  },
  "language_info": {
   "codemirror_mode": {
    "name": "ipython",
    "version": 3
   },
   "file_extension": ".py",
   "mimetype": "text/x-python",
   "name": "python",
   "nbconvert_exporter": "python",
   "pygments_lexer": "ipython3",
   "version": "3.9.1"
  }
 },
 "nbformat": 4,
 "nbformat_minor": 1
}
