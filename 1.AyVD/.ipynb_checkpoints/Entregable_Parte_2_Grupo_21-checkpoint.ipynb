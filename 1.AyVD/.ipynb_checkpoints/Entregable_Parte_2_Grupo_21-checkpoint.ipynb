{
 "cells": [
  {
   "cell_type": "markdown",
   "metadata": {
    "id": "view-in-github"
   },
   "source": [
    "<a href=\"https://colab.research.google.com/github/DiploDatos/AnalisisyVisualizacion/blob/master/Entregable_Parte_2.ipynb\" target=\"_parent\"><img src=\"https://colab.research.google.com/assets/colab-badge.svg\" alt=\"Open In Colab\"/></a>"
   ]
  },
  {
   "cell_type": "markdown",
   "metadata": {
    "id": "LYvAOR2VzHmW"
   },
   "source": [
    "\n",
    "**Diplomatura en Ciencia de Datos, Aprendizaje Automático y sus Aplicaciones**\n",
    "\n",
    "**Edición 2022**\n",
    "\n",
    "---\n",
    "\n",
    "# Trabajo práctico entregable - Parte 2"
   ]
  },
  {
   "cell_type": "code",
   "execution_count": 1,
   "metadata": {
    "id": "Xwdfo7z20TUK"
   },
   "outputs": [],
   "source": [
    "import io\n",
    "import matplotlib\n",
    "import matplotlib.pyplot as plt\n",
    "import numpy as np\n",
    "import pandas as pd\n",
    "import seaborn\n",
    "import scipy\n",
    "import scipy.stats as st\n",
    "\n",
    "seaborn.set_context('talk')"
   ]
  },
  {
   "cell_type": "markdown",
   "metadata": {
    "id": "XY2Hl-Ma07Nn"
   },
   "source": [
    "## Lectura del dataset\n",
    "\n",
    "En la notebook 00 se explican los detalles de la siguiente sección."
   ]
  },
  {
   "cell_type": "code",
   "execution_count": 2,
   "metadata": {
    "id": "Vviv_sqXdR5W"
   },
   "outputs": [],
   "source": [
    "url = 'https://cs.famaf.unc.edu.ar/~mteruel/datasets/diplodatos/sysarmy_survey_2020_processed.csv'\n",
    "df = pd.read_csv(url)"
   ]
  },
  {
   "cell_type": "code",
   "execution_count": 3,
   "metadata": {
    "colab": {
     "base_uri": "https://localhost:8080/",
     "height": 324
    },
    "id": "gckNHXXLktJ4",
    "outputId": "bb5c46d9-3198-4769-8e6a-4a4702c7f35b"
   },
   "outputs": [
    {
     "data": {
      "text/html": [
       "\n",
       "  <div id=\"df-7f4241bd-1b40-48a6-9a2a-abe123bd25bc\">\n",
       "    <div class=\"colab-df-container\">\n",
       "      <div>\n",
       "<style scoped>\n",
       "    .dataframe tbody tr th:only-of-type {\n",
       "        vertical-align: middle;\n",
       "    }\n",
       "\n",
       "    .dataframe tbody tr th {\n",
       "        vertical-align: top;\n",
       "    }\n",
       "\n",
       "    .dataframe thead th {\n",
       "        text-align: right;\n",
       "    }\n",
       "</style>\n",
       "<table border=\"1\" class=\"dataframe\">\n",
       "  <thead>\n",
       "    <tr style=\"text-align: right;\">\n",
       "      <th></th>\n",
       "      <th>profile_gender</th>\n",
       "      <th>profile_age</th>\n",
       "      <th>work_country</th>\n",
       "      <th>work_province</th>\n",
       "      <th>profile_years_experience</th>\n",
       "      <th>work_years_in_company</th>\n",
       "      <th>work_years_in_current_position</th>\n",
       "      <th>work_people_in_charge_of</th>\n",
       "      <th>profile_studies_level</th>\n",
       "      <th>profile_studies_level_state</th>\n",
       "      <th>...</th>\n",
       "      <th>work_has_violence_situations</th>\n",
       "      <th>profile_sexual_orientation</th>\n",
       "      <th>profile_has_disabilities</th>\n",
       "      <th>profile_has_disabilities_hiring_difficulties</th>\n",
       "      <th>company_employee_number</th>\n",
       "      <th>company_main_activity</th>\n",
       "      <th>company_recommended</th>\n",
       "      <th>company_diversity_policies</th>\n",
       "      <th>company_extra_benefits</th>\n",
       "      <th>company_best_companies_city</th>\n",
       "    </tr>\n",
       "  </thead>\n",
       "  <tbody>\n",
       "    <tr>\n",
       "      <th>0</th>\n",
       "      <td>Mujer</td>\n",
       "      <td>26</td>\n",
       "      <td>Argentina</td>\n",
       "      <td>Ciudad Autónoma de Buenos Aires</td>\n",
       "      <td>3.0</td>\n",
       "      <td>3.0</td>\n",
       "      <td>3.0</td>\n",
       "      <td>0</td>\n",
       "      <td>Universitario</td>\n",
       "      <td>En curso</td>\n",
       "      <td>...</td>\n",
       "      <td>En mi trabajo actual</td>\n",
       "      <td>Homosexual</td>\n",
       "      <td>NaN</td>\n",
       "      <td>NaN</td>\n",
       "      <td>501-1000</td>\n",
       "      <td>Servicios / Consultoría de Software / Digital</td>\n",
       "      <td>7</td>\n",
       "      <td>2</td>\n",
       "      <td>Capacitaciones y/o cursos, Comidas pagas / sub...</td>\n",
       "      <td>NaN</td>\n",
       "    </tr>\n",
       "    <tr>\n",
       "      <th>1</th>\n",
       "      <td>Hombre</td>\n",
       "      <td>29</td>\n",
       "      <td>Argentina</td>\n",
       "      <td>Corrientes</td>\n",
       "      <td>5.0</td>\n",
       "      <td>2.0</td>\n",
       "      <td>2.0</td>\n",
       "      <td>4</td>\n",
       "      <td>Universitario</td>\n",
       "      <td>En curso</td>\n",
       "      <td>...</td>\n",
       "      <td>Jamás</td>\n",
       "      <td>Heterosexual</td>\n",
       "      <td>Visual</td>\n",
       "      <td>No</td>\n",
       "      <td>201-500</td>\n",
       "      <td>Otras industrias</td>\n",
       "      <td>8</td>\n",
       "      <td>9</td>\n",
       "      <td>Horarios flexibles, Stock options / RSUs, Viát...</td>\n",
       "      <td>NaN</td>\n",
       "    </tr>\n",
       "    <tr>\n",
       "      <th>2</th>\n",
       "      <td>Mujer</td>\n",
       "      <td>22</td>\n",
       "      <td>Argentina</td>\n",
       "      <td>Ciudad Autónoma de Buenos Aires</td>\n",
       "      <td>2.0</td>\n",
       "      <td>0.0</td>\n",
       "      <td>0.0</td>\n",
       "      <td>0</td>\n",
       "      <td>Secundario</td>\n",
       "      <td>Completado</td>\n",
       "      <td>...</td>\n",
       "      <td>En un trabajo anterior</td>\n",
       "      <td>Bisexual o queer</td>\n",
       "      <td>NaN</td>\n",
       "      <td>No</td>\n",
       "      <td>2001-5000</td>\n",
       "      <td>Otras industrias</td>\n",
       "      <td>6</td>\n",
       "      <td>9</td>\n",
       "      <td>Clases de gimnasia online, Comidas pagas / sub...</td>\n",
       "      <td>NaN</td>\n",
       "    </tr>\n",
       "  </tbody>\n",
       "</table>\n",
       "<p>3 rows × 48 columns</p>\n",
       "</div>\n",
       "      <button class=\"colab-df-convert\" onclick=\"convertToInteractive('df-7f4241bd-1b40-48a6-9a2a-abe123bd25bc')\"\n",
       "              title=\"Convert this dataframe to an interactive table.\"\n",
       "              style=\"display:none;\">\n",
       "        \n",
       "  <svg xmlns=\"http://www.w3.org/2000/svg\" height=\"24px\"viewBox=\"0 0 24 24\"\n",
       "       width=\"24px\">\n",
       "    <path d=\"M0 0h24v24H0V0z\" fill=\"none\"/>\n",
       "    <path d=\"M18.56 5.44l.94 2.06.94-2.06 2.06-.94-2.06-.94-.94-2.06-.94 2.06-2.06.94zm-11 1L8.5 8.5l.94-2.06 2.06-.94-2.06-.94L8.5 2.5l-.94 2.06-2.06.94zm10 10l.94 2.06.94-2.06 2.06-.94-2.06-.94-.94-2.06-.94 2.06-2.06.94z\"/><path d=\"M17.41 7.96l-1.37-1.37c-.4-.4-.92-.59-1.43-.59-.52 0-1.04.2-1.43.59L10.3 9.45l-7.72 7.72c-.78.78-.78 2.05 0 2.83L4 21.41c.39.39.9.59 1.41.59.51 0 1.02-.2 1.41-.59l7.78-7.78 2.81-2.81c.8-.78.8-2.07 0-2.86zM5.41 20L4 18.59l7.72-7.72 1.47 1.35L5.41 20z\"/>\n",
       "  </svg>\n",
       "      </button>\n",
       "      \n",
       "  <style>\n",
       "    .colab-df-container {\n",
       "      display:flex;\n",
       "      flex-wrap:wrap;\n",
       "      gap: 12px;\n",
       "    }\n",
       "\n",
       "    .colab-df-convert {\n",
       "      background-color: #E8F0FE;\n",
       "      border: none;\n",
       "      border-radius: 50%;\n",
       "      cursor: pointer;\n",
       "      display: none;\n",
       "      fill: #1967D2;\n",
       "      height: 32px;\n",
       "      padding: 0 0 0 0;\n",
       "      width: 32px;\n",
       "    }\n",
       "\n",
       "    .colab-df-convert:hover {\n",
       "      background-color: #E2EBFA;\n",
       "      box-shadow: 0px 1px 2px rgba(60, 64, 67, 0.3), 0px 1px 3px 1px rgba(60, 64, 67, 0.15);\n",
       "      fill: #174EA6;\n",
       "    }\n",
       "\n",
       "    [theme=dark] .colab-df-convert {\n",
       "      background-color: #3B4455;\n",
       "      fill: #D2E3FC;\n",
       "    }\n",
       "\n",
       "    [theme=dark] .colab-df-convert:hover {\n",
       "      background-color: #434B5C;\n",
       "      box-shadow: 0px 1px 3px 1px rgba(0, 0, 0, 0.15);\n",
       "      filter: drop-shadow(0px 1px 2px rgba(0, 0, 0, 0.3));\n",
       "      fill: #FFFFFF;\n",
       "    }\n",
       "  </style>\n",
       "\n",
       "      <script>\n",
       "        const buttonEl =\n",
       "          document.querySelector('#df-7f4241bd-1b40-48a6-9a2a-abe123bd25bc button.colab-df-convert');\n",
       "        buttonEl.style.display =\n",
       "          google.colab.kernel.accessAllowed ? 'block' : 'none';\n",
       "\n",
       "        async function convertToInteractive(key) {\n",
       "          const element = document.querySelector('#df-7f4241bd-1b40-48a6-9a2a-abe123bd25bc');\n",
       "          const dataTable =\n",
       "            await google.colab.kernel.invokeFunction('convertToInteractive',\n",
       "                                                     [key], {});\n",
       "          if (!dataTable) return;\n",
       "\n",
       "          const docLinkHtml = 'Like what you see? Visit the ' +\n",
       "            '<a target=\"_blank\" href=https://colab.research.google.com/notebooks/data_table.ipynb>data table notebook</a>'\n",
       "            + ' to learn more about interactive tables.';\n",
       "          element.innerHTML = '';\n",
       "          dataTable['output_type'] = 'display_data';\n",
       "          await google.colab.output.renderOutput(dataTable, element);\n",
       "          const docLink = document.createElement('div');\n",
       "          docLink.innerHTML = docLinkHtml;\n",
       "          element.appendChild(docLink);\n",
       "        }\n",
       "      </script>\n",
       "    </div>\n",
       "  </div>\n",
       "  "
      ],
      "text/plain": [
       "  profile_gender  profile_age work_country                    work_province  \\\n",
       "0          Mujer           26    Argentina  Ciudad Autónoma de Buenos Aires   \n",
       "1         Hombre           29    Argentina                       Corrientes   \n",
       "2          Mujer           22    Argentina  Ciudad Autónoma de Buenos Aires   \n",
       "\n",
       "   profile_years_experience  work_years_in_company  \\\n",
       "0                       3.0                    3.0   \n",
       "1                       5.0                    2.0   \n",
       "2                       2.0                    0.0   \n",
       "\n",
       "   work_years_in_current_position  work_people_in_charge_of  \\\n",
       "0                             3.0                         0   \n",
       "1                             2.0                         4   \n",
       "2                             0.0                         0   \n",
       "\n",
       "  profile_studies_level profile_studies_level_state  ...  \\\n",
       "0         Universitario                    En curso  ...   \n",
       "1         Universitario                    En curso  ...   \n",
       "2            Secundario                  Completado  ...   \n",
       "\n",
       "  work_has_violence_situations profile_sexual_orientation  \\\n",
       "0         En mi trabajo actual                 Homosexual   \n",
       "1                        Jamás               Heterosexual   \n",
       "2       En un trabajo anterior           Bisexual o queer   \n",
       "\n",
       "  profile_has_disabilities profile_has_disabilities_hiring_difficulties  \\\n",
       "0                      NaN                                          NaN   \n",
       "1                   Visual                                           No   \n",
       "2                      NaN                                           No   \n",
       "\n",
       "  company_employee_number                          company_main_activity  \\\n",
       "0                501-1000  Servicios / Consultoría de Software / Digital   \n",
       "1                 201-500                               Otras industrias   \n",
       "2               2001-5000                               Otras industrias   \n",
       "\n",
       "  company_recommended company_diversity_policies  \\\n",
       "0                   7                          2   \n",
       "1                   8                          9   \n",
       "2                   6                          9   \n",
       "\n",
       "                              company_extra_benefits  \\\n",
       "0  Capacitaciones y/o cursos, Comidas pagas / sub...   \n",
       "1  Horarios flexibles, Stock options / RSUs, Viát...   \n",
       "2  Clases de gimnasia online, Comidas pagas / sub...   \n",
       "\n",
       "  company_best_companies_city  \n",
       "0                         NaN  \n",
       "1                         NaN  \n",
       "2                         NaN  \n",
       "\n",
       "[3 rows x 48 columns]"
      ]
     },
     "execution_count": 3,
     "metadata": {},
     "output_type": "execute_result"
    }
   ],
   "source": [
    "df[:3]"
   ]
  },
  {
   "cell_type": "markdown",
   "metadata": {
    "id": "NPJd0Uej8tDc"
   },
   "source": [
    "Para poder hacer un analisis del salario mensual NETO percibido, vamos a agrupar la variable ***profile_gender*** para los distintos generos considerados en la encuesta (Hombre, Mujer y Otros) "
   ]
  },
  {
   "cell_type": "code",
   "execution_count": 4,
   "metadata": {
    "colab": {
     "base_uri": "https://localhost:8080/",
     "height": 206
    },
    "id": "2lzmzK1NuPNT",
    "outputId": "a0990945-5c8a-4ea0-af4a-e5145d674936"
   },
   "outputs": [
    {
     "data": {
      "text/html": [
       "\n",
       "  <div id=\"df-09bc4bfc-b5fd-451d-917a-0fc801115be3\">\n",
       "    <div class=\"colab-df-container\">\n",
       "      <div>\n",
       "<style scoped>\n",
       "    .dataframe tbody tr th:only-of-type {\n",
       "        vertical-align: middle;\n",
       "    }\n",
       "\n",
       "    .dataframe tbody tr th {\n",
       "        vertical-align: top;\n",
       "    }\n",
       "\n",
       "    .dataframe thead tr th {\n",
       "        text-align: left;\n",
       "    }\n",
       "\n",
       "    .dataframe thead tr:last-of-type th {\n",
       "        text-align: right;\n",
       "    }\n",
       "</style>\n",
       "<table border=\"1\" class=\"dataframe\">\n",
       "  <thead>\n",
       "    <tr>\n",
       "      <th></th>\n",
       "      <th colspan=\"8\" halign=\"left\">salary_monthly_NETO</th>\n",
       "    </tr>\n",
       "    <tr>\n",
       "      <th></th>\n",
       "      <th>count</th>\n",
       "      <th>mean</th>\n",
       "      <th>std</th>\n",
       "      <th>min</th>\n",
       "      <th>25%</th>\n",
       "      <th>50%</th>\n",
       "      <th>75%</th>\n",
       "      <th>max</th>\n",
       "    </tr>\n",
       "    <tr>\n",
       "      <th>profile_gender</th>\n",
       "      <th></th>\n",
       "      <th></th>\n",
       "      <th></th>\n",
       "      <th></th>\n",
       "      <th></th>\n",
       "      <th></th>\n",
       "      <th></th>\n",
       "      <th></th>\n",
       "    </tr>\n",
       "  </thead>\n",
       "  <tbody>\n",
       "    <tr>\n",
       "      <th>Hombre</th>\n",
       "      <td>4944.0</td>\n",
       "      <td>98836.063558</td>\n",
       "      <td>102159.664237</td>\n",
       "      <td>1.0</td>\n",
       "      <td>53285.0</td>\n",
       "      <td>80000.0</td>\n",
       "      <td>110000.0</td>\n",
       "      <td>2080000.0</td>\n",
       "    </tr>\n",
       "    <tr>\n",
       "      <th>Mujer</th>\n",
       "      <td>908.0</td>\n",
       "      <td>73501.414465</td>\n",
       "      <td>56256.880181</td>\n",
       "      <td>2.0</td>\n",
       "      <td>43818.0</td>\n",
       "      <td>65000.0</td>\n",
       "      <td>92000.0</td>\n",
       "      <td>800000.0</td>\n",
       "    </tr>\n",
       "    <tr>\n",
       "      <th>Otros</th>\n",
       "      <td>31.0</td>\n",
       "      <td>95441.354839</td>\n",
       "      <td>88635.674358</td>\n",
       "      <td>40.0</td>\n",
       "      <td>39500.0</td>\n",
       "      <td>74000.0</td>\n",
       "      <td>117500.0</td>\n",
       "      <td>380000.0</td>\n",
       "    </tr>\n",
       "  </tbody>\n",
       "</table>\n",
       "</div>\n",
       "      <button class=\"colab-df-convert\" onclick=\"convertToInteractive('df-09bc4bfc-b5fd-451d-917a-0fc801115be3')\"\n",
       "              title=\"Convert this dataframe to an interactive table.\"\n",
       "              style=\"display:none;\">\n",
       "        \n",
       "  <svg xmlns=\"http://www.w3.org/2000/svg\" height=\"24px\"viewBox=\"0 0 24 24\"\n",
       "       width=\"24px\">\n",
       "    <path d=\"M0 0h24v24H0V0z\" fill=\"none\"/>\n",
       "    <path d=\"M18.56 5.44l.94 2.06.94-2.06 2.06-.94-2.06-.94-.94-2.06-.94 2.06-2.06.94zm-11 1L8.5 8.5l.94-2.06 2.06-.94-2.06-.94L8.5 2.5l-.94 2.06-2.06.94zm10 10l.94 2.06.94-2.06 2.06-.94-2.06-.94-.94-2.06-.94 2.06-2.06.94z\"/><path d=\"M17.41 7.96l-1.37-1.37c-.4-.4-.92-.59-1.43-.59-.52 0-1.04.2-1.43.59L10.3 9.45l-7.72 7.72c-.78.78-.78 2.05 0 2.83L4 21.41c.39.39.9.59 1.41.59.51 0 1.02-.2 1.41-.59l7.78-7.78 2.81-2.81c.8-.78.8-2.07 0-2.86zM5.41 20L4 18.59l7.72-7.72 1.47 1.35L5.41 20z\"/>\n",
       "  </svg>\n",
       "      </button>\n",
       "      \n",
       "  <style>\n",
       "    .colab-df-container {\n",
       "      display:flex;\n",
       "      flex-wrap:wrap;\n",
       "      gap: 12px;\n",
       "    }\n",
       "\n",
       "    .colab-df-convert {\n",
       "      background-color: #E8F0FE;\n",
       "      border: none;\n",
       "      border-radius: 50%;\n",
       "      cursor: pointer;\n",
       "      display: none;\n",
       "      fill: #1967D2;\n",
       "      height: 32px;\n",
       "      padding: 0 0 0 0;\n",
       "      width: 32px;\n",
       "    }\n",
       "\n",
       "    .colab-df-convert:hover {\n",
       "      background-color: #E2EBFA;\n",
       "      box-shadow: 0px 1px 2px rgba(60, 64, 67, 0.3), 0px 1px 3px 1px rgba(60, 64, 67, 0.15);\n",
       "      fill: #174EA6;\n",
       "    }\n",
       "\n",
       "    [theme=dark] .colab-df-convert {\n",
       "      background-color: #3B4455;\n",
       "      fill: #D2E3FC;\n",
       "    }\n",
       "\n",
       "    [theme=dark] .colab-df-convert:hover {\n",
       "      background-color: #434B5C;\n",
       "      box-shadow: 0px 1px 3px 1px rgba(0, 0, 0, 0.15);\n",
       "      filter: drop-shadow(0px 1px 2px rgba(0, 0, 0, 0.3));\n",
       "      fill: #FFFFFF;\n",
       "    }\n",
       "  </style>\n",
       "\n",
       "      <script>\n",
       "        const buttonEl =\n",
       "          document.querySelector('#df-09bc4bfc-b5fd-451d-917a-0fc801115be3 button.colab-df-convert');\n",
       "        buttonEl.style.display =\n",
       "          google.colab.kernel.accessAllowed ? 'block' : 'none';\n",
       "\n",
       "        async function convertToInteractive(key) {\n",
       "          const element = document.querySelector('#df-09bc4bfc-b5fd-451d-917a-0fc801115be3');\n",
       "          const dataTable =\n",
       "            await google.colab.kernel.invokeFunction('convertToInteractive',\n",
       "                                                     [key], {});\n",
       "          if (!dataTable) return;\n",
       "\n",
       "          const docLinkHtml = 'Like what you see? Visit the ' +\n",
       "            '<a target=\"_blank\" href=https://colab.research.google.com/notebooks/data_table.ipynb>data table notebook</a>'\n",
       "            + ' to learn more about interactive tables.';\n",
       "          element.innerHTML = '';\n",
       "          dataTable['output_type'] = 'display_data';\n",
       "          await google.colab.output.renderOutput(dataTable, element);\n",
       "          const docLink = document.createElement('div');\n",
       "          docLink.innerHTML = docLinkHtml;\n",
       "          element.appendChild(docLink);\n",
       "        }\n",
       "      </script>\n",
       "    </div>\n",
       "  </div>\n",
       "  "
      ],
      "text/plain": [
       "               salary_monthly_NETO                                     \\\n",
       "                             count          mean            std   min   \n",
       "profile_gender                                                          \n",
       "Hombre                      4944.0  98836.063558  102159.664237   1.0   \n",
       "Mujer                        908.0  73501.414465   56256.880181   2.0   \n",
       "Otros                         31.0  95441.354839   88635.674358  40.0   \n",
       "\n",
       "                                                       \n",
       "                    25%      50%       75%        max  \n",
       "profile_gender                                         \n",
       "Hombre          53285.0  80000.0  110000.0  2080000.0  \n",
       "Mujer           43818.0  65000.0   92000.0   800000.0  \n",
       "Otros           39500.0  74000.0  117500.0   380000.0  "
      ]
     },
     "execution_count": 4,
     "metadata": {},
     "output_type": "execute_result"
    }
   ],
   "source": [
    "df[['profile_gender', 'salary_monthly_NETO']].groupby('profile_gender').describe()"
   ]
  },
  {
   "cell_type": "code",
   "execution_count": 5,
   "metadata": {
    "colab": {
     "base_uri": "https://localhost:8080/",
     "height": 206
    },
    "id": "pycKJ5jWkShW",
    "outputId": "14ace412-9061-4760-ac26-be04d7cc586d"
   },
   "outputs": [
    {
     "data": {
      "text/html": [
       "\n",
       "  <div id=\"df-badca36a-38e7-4abe-bb71-6fd9e2ae0551\">\n",
       "    <div class=\"colab-df-container\">\n",
       "      <div>\n",
       "<style scoped>\n",
       "    .dataframe tbody tr th:only-of-type {\n",
       "        vertical-align: middle;\n",
       "    }\n",
       "\n",
       "    .dataframe tbody tr th {\n",
       "        vertical-align: top;\n",
       "    }\n",
       "\n",
       "    .dataframe thead tr th {\n",
       "        text-align: left;\n",
       "    }\n",
       "\n",
       "    .dataframe thead tr:last-of-type th {\n",
       "        text-align: right;\n",
       "    }\n",
       "</style>\n",
       "<table border=\"1\" class=\"dataframe\">\n",
       "  <thead>\n",
       "    <tr>\n",
       "      <th></th>\n",
       "      <th colspan=\"8\" halign=\"left\">salary_monthly_NETO</th>\n",
       "    </tr>\n",
       "    <tr>\n",
       "      <th></th>\n",
       "      <th>count</th>\n",
       "      <th>mean</th>\n",
       "      <th>std</th>\n",
       "      <th>min</th>\n",
       "      <th>25%</th>\n",
       "      <th>50%</th>\n",
       "      <th>75%</th>\n",
       "      <th>max</th>\n",
       "    </tr>\n",
       "    <tr>\n",
       "      <th>profile_gender</th>\n",
       "      <th></th>\n",
       "      <th></th>\n",
       "      <th></th>\n",
       "      <th></th>\n",
       "      <th></th>\n",
       "      <th></th>\n",
       "      <th></th>\n",
       "      <th></th>\n",
       "    </tr>\n",
       "  </thead>\n",
       "  <tbody>\n",
       "    <tr>\n",
       "      <th>Hombre</th>\n",
       "      <td>4815.0</td>\n",
       "      <td>101481.624343</td>\n",
       "      <td>102215.304684</td>\n",
       "      <td>1100.0</td>\n",
       "      <td>55000.0</td>\n",
       "      <td>80000.0</td>\n",
       "      <td>110000.0</td>\n",
       "      <td>2080000.0</td>\n",
       "    </tr>\n",
       "    <tr>\n",
       "      <th>Mujer</th>\n",
       "      <td>863.0</td>\n",
       "      <td>77328.913778</td>\n",
       "      <td>55082.760570</td>\n",
       "      <td>2000.0</td>\n",
       "      <td>47850.0</td>\n",
       "      <td>67200.0</td>\n",
       "      <td>93000.0</td>\n",
       "      <td>800000.0</td>\n",
       "    </tr>\n",
       "    <tr>\n",
       "      <th>Otros</th>\n",
       "      <td>28.0</td>\n",
       "      <td>105660.714286</td>\n",
       "      <td>87235.710235</td>\n",
       "      <td>34000.0</td>\n",
       "      <td>43750.0</td>\n",
       "      <td>78900.0</td>\n",
       "      <td>122750.0</td>\n",
       "      <td>380000.0</td>\n",
       "    </tr>\n",
       "  </tbody>\n",
       "</table>\n",
       "</div>\n",
       "      <button class=\"colab-df-convert\" onclick=\"convertToInteractive('df-badca36a-38e7-4abe-bb71-6fd9e2ae0551')\"\n",
       "              title=\"Convert this dataframe to an interactive table.\"\n",
       "              style=\"display:none;\">\n",
       "        \n",
       "  <svg xmlns=\"http://www.w3.org/2000/svg\" height=\"24px\"viewBox=\"0 0 24 24\"\n",
       "       width=\"24px\">\n",
       "    <path d=\"M0 0h24v24H0V0z\" fill=\"none\"/>\n",
       "    <path d=\"M18.56 5.44l.94 2.06.94-2.06 2.06-.94-2.06-.94-.94-2.06-.94 2.06-2.06.94zm-11 1L8.5 8.5l.94-2.06 2.06-.94-2.06-.94L8.5 2.5l-.94 2.06-2.06.94zm10 10l.94 2.06.94-2.06 2.06-.94-2.06-.94-.94-2.06-.94 2.06-2.06.94z\"/><path d=\"M17.41 7.96l-1.37-1.37c-.4-.4-.92-.59-1.43-.59-.52 0-1.04.2-1.43.59L10.3 9.45l-7.72 7.72c-.78.78-.78 2.05 0 2.83L4 21.41c.39.39.9.59 1.41.59.51 0 1.02-.2 1.41-.59l7.78-7.78 2.81-2.81c.8-.78.8-2.07 0-2.86zM5.41 20L4 18.59l7.72-7.72 1.47 1.35L5.41 20z\"/>\n",
       "  </svg>\n",
       "      </button>\n",
       "      \n",
       "  <style>\n",
       "    .colab-df-container {\n",
       "      display:flex;\n",
       "      flex-wrap:wrap;\n",
       "      gap: 12px;\n",
       "    }\n",
       "\n",
       "    .colab-df-convert {\n",
       "      background-color: #E8F0FE;\n",
       "      border: none;\n",
       "      border-radius: 50%;\n",
       "      cursor: pointer;\n",
       "      display: none;\n",
       "      fill: #1967D2;\n",
       "      height: 32px;\n",
       "      padding: 0 0 0 0;\n",
       "      width: 32px;\n",
       "    }\n",
       "\n",
       "    .colab-df-convert:hover {\n",
       "      background-color: #E2EBFA;\n",
       "      box-shadow: 0px 1px 2px rgba(60, 64, 67, 0.3), 0px 1px 3px 1px rgba(60, 64, 67, 0.15);\n",
       "      fill: #174EA6;\n",
       "    }\n",
       "\n",
       "    [theme=dark] .colab-df-convert {\n",
       "      background-color: #3B4455;\n",
       "      fill: #D2E3FC;\n",
       "    }\n",
       "\n",
       "    [theme=dark] .colab-df-convert:hover {\n",
       "      background-color: #434B5C;\n",
       "      box-shadow: 0px 1px 3px 1px rgba(0, 0, 0, 0.15);\n",
       "      filter: drop-shadow(0px 1px 2px rgba(0, 0, 0, 0.3));\n",
       "      fill: #FFFFFF;\n",
       "    }\n",
       "  </style>\n",
       "\n",
       "      <script>\n",
       "        const buttonEl =\n",
       "          document.querySelector('#df-badca36a-38e7-4abe-bb71-6fd9e2ae0551 button.colab-df-convert');\n",
       "        buttonEl.style.display =\n",
       "          google.colab.kernel.accessAllowed ? 'block' : 'none';\n",
       "\n",
       "        async function convertToInteractive(key) {\n",
       "          const element = document.querySelector('#df-badca36a-38e7-4abe-bb71-6fd9e2ae0551');\n",
       "          const dataTable =\n",
       "            await google.colab.kernel.invokeFunction('convertToInteractive',\n",
       "                                                     [key], {});\n",
       "          if (!dataTable) return;\n",
       "\n",
       "          const docLinkHtml = 'Like what you see? Visit the ' +\n",
       "            '<a target=\"_blank\" href=https://colab.research.google.com/notebooks/data_table.ipynb>data table notebook</a>'\n",
       "            + ' to learn more about interactive tables.';\n",
       "          element.innerHTML = '';\n",
       "          dataTable['output_type'] = 'display_data';\n",
       "          await google.colab.output.renderOutput(dataTable, element);\n",
       "          const docLink = document.createElement('div');\n",
       "          docLink.innerHTML = docLinkHtml;\n",
       "          element.appendChild(docLink);\n",
       "        }\n",
       "      </script>\n",
       "    </div>\n",
       "  </div>\n",
       "  "
      ],
      "text/plain": [
       "               salary_monthly_NETO                                         \\\n",
       "                             count           mean            std      min   \n",
       "profile_gender                                                              \n",
       "Hombre                      4815.0  101481.624343  102215.304684   1100.0   \n",
       "Mujer                        863.0   77328.913778   55082.760570   2000.0   \n",
       "Otros                         28.0  105660.714286   87235.710235  34000.0   \n",
       "\n",
       "                                                       \n",
       "                    25%      50%       75%        max  \n",
       "profile_gender                                         \n",
       "Hombre          55000.0  80000.0  110000.0  2080000.0  \n",
       "Mujer           47850.0  67200.0   93000.0   800000.0  \n",
       "Otros           43750.0  78900.0  122750.0   380000.0  "
      ]
     },
     "execution_count": 5,
     "metadata": {},
     "output_type": "execute_result"
    }
   ],
   "source": [
    "df[df.salary_monthly_NETO > 1000]\\\n",
    "  [['profile_gender', 'salary_monthly_NETO']].groupby('profile_gender').describe()"
   ]
  },
  {
   "cell_type": "markdown",
   "metadata": {
    "id": "uBjsDfHhOGRl"
   },
   "source": [
    "Procedimos a realizar un boxplot para analizar la existencia de outliers, o datos atípicos que pueden modificar el resultado del estudio."
   ]
  },
  {
   "cell_type": "code",
   "execution_count": 6,
   "metadata": {
    "colab": {
     "base_uri": "https://localhost:8080/",
     "height": 481
    },
    "id": "Z4j31BfZ41X9",
    "outputId": "021e45ae-5ffa-49bb-91ad-32fb213c2904"
   },
   "outputs": [
    {
     "data": {
      "text/plain": [
       "Text(0, 0.5, 'Genero')"
      ]
     },
     "execution_count": 6,
     "metadata": {},
     "output_type": "execute_result"
    },
    {
     "data": {
      "image/png": "[encoded data removed]",
      "text/plain": [
       "<Figure size 815.489x504 with 1 Axes>"
      ]
     },
     "metadata": {
      "needs_background": "light"
     },
     "output_type": "display_data"
    }
   ],
   "source": [
    "#Boxplot grupos con OUTLIERS\n",
    "plt.figure(figsize=(7*(1+np.sqrt(5))/2, 7))\n",
    "seaborn.boxplot(data = df, x='salary_monthly_NETO', y= 'profile_gender', color = 'steelblue')\n",
    "plt.ticklabel_format(style='plain', axis='x')\n",
    "plt.xlabel('Salario mensual NETO')\n",
    "plt.ylabel('Genero')"
   ]
  },
  {
   "cell_type": "markdown",
   "metadata": {
    "id": "VvMy6AYs9TV3"
   },
   "source": [
    "La variable ***salary_monthly_NETO*** presenta outliers para los distintos grupos. Como vamos a estar comparando las medias, realizamos un recorte para que estos valores atipicos no afecten tanto al centro de masa de las respectivas subpoblaciones a considerar."
   ]
  },
  {
   "cell_type": "code",
   "execution_count": 7,
   "metadata": {
    "colab": {
     "base_uri": "https://localhost:8080/",
     "height": 481
    },
    "id": "uZ1GxkLylHx0",
    "outputId": "9240a091-8c6a-495e-e528-8a436e9cd4d2"
   },
   "outputs": [
    {
     "data": {
      "text/plain": [
       "Text(0, 0.5, 'Genero')"
      ]
     },
     "execution_count": 7,
     "metadata": {},
     "output_type": "execute_result"
    },
    {
     "data": {
      "image/png": "[encoded data removed]",
      "text/plain": [
       "<Figure size 815.489x504 with 1 Axes>"
      ]
     },
     "metadata": {
      "needs_background": "light"
     },
     "output_type": "display_data"
    }
   ],
   "source": [
    "#Se eliminan los Outliers de la base original\n",
    "df_woo = df[ (df.salary_monthly_NETO > df.salary_monthly_NETO.quantile(0.1)) \\\n",
    "                & (df.salary_monthly_NETO < df.salary_monthly_NETO.quantile(0.97))]\n",
    "\n",
    "#Boxplot grupos sin OUTLIERS\n",
    "plt.figure(figsize=(7*(1+np.sqrt(5))/2, 7))\n",
    "seaborn.boxplot(data = df_woo, x='salary_monthly_NETO', y= 'profile_gender', color = 'steelblue')\n",
    "plt.ticklabel_format(style='plain', axis='x')\n",
    "plt.xlabel('Salario mensual NETO')\n",
    "plt.ylabel('Genero')"
   ]
  },
  {
   "cell_type": "code",
   "execution_count": 8,
   "metadata": {
    "colab": {
     "base_uri": "https://localhost:8080/",
     "height": 206
    },
    "id": "2wT8wYtc-RWn",
    "outputId": "faed8a23-6460-453f-fdfd-b2fc625c5dc4"
   },
   "outputs": [
    {
     "data": {
      "text/html": [
       "\n",
       "  <div id=\"df-d43cc0cd-0599-4d9e-b973-95018a63fa7c\">\n",
       "    <div class=\"colab-df-container\">\n",
       "      <div>\n",
       "<style scoped>\n",
       "    .dataframe tbody tr th:only-of-type {\n",
       "        vertical-align: middle;\n",
       "    }\n",
       "\n",
       "    .dataframe tbody tr th {\n",
       "        vertical-align: top;\n",
       "    }\n",
       "\n",
       "    .dataframe thead tr th {\n",
       "        text-align: left;\n",
       "    }\n",
       "\n",
       "    .dataframe thead tr:last-of-type th {\n",
       "        text-align: right;\n",
       "    }\n",
       "</style>\n",
       "<table border=\"1\" class=\"dataframe\">\n",
       "  <thead>\n",
       "    <tr>\n",
       "      <th></th>\n",
       "      <th colspan=\"8\" halign=\"left\">salary_monthly_NETO</th>\n",
       "    </tr>\n",
       "    <tr>\n",
       "      <th></th>\n",
       "      <th>count</th>\n",
       "      <th>mean</th>\n",
       "      <th>std</th>\n",
       "      <th>min</th>\n",
       "      <th>25%</th>\n",
       "      <th>50%</th>\n",
       "      <th>75%</th>\n",
       "      <th>max</th>\n",
       "    </tr>\n",
       "    <tr>\n",
       "      <th>profile_gender</th>\n",
       "      <th></th>\n",
       "      <th></th>\n",
       "      <th></th>\n",
       "      <th></th>\n",
       "      <th></th>\n",
       "      <th></th>\n",
       "      <th></th>\n",
       "      <th></th>\n",
       "    </tr>\n",
       "  </thead>\n",
       "  <tbody>\n",
       "    <tr>\n",
       "      <th>Hombre</th>\n",
       "      <td>4317.0</td>\n",
       "      <td>91238.189956</td>\n",
       "      <td>44410.676207</td>\n",
       "      <td>35100.0</td>\n",
       "      <td>60000.0</td>\n",
       "      <td>82000.0</td>\n",
       "      <td>109720.0</td>\n",
       "      <td>298000.0</td>\n",
       "    </tr>\n",
       "    <tr>\n",
       "      <th>Mujer</th>\n",
       "      <td>769.0</td>\n",
       "      <td>79321.556463</td>\n",
       "      <td>36136.964616</td>\n",
       "      <td>36000.0</td>\n",
       "      <td>54000.0</td>\n",
       "      <td>71000.0</td>\n",
       "      <td>95000.0</td>\n",
       "      <td>281250.0</td>\n",
       "    </tr>\n",
       "    <tr>\n",
       "      <th>Otros</th>\n",
       "      <td>25.0</td>\n",
       "      <td>89300.000000</td>\n",
       "      <td>56201.586573</td>\n",
       "      <td>35900.0</td>\n",
       "      <td>45000.0</td>\n",
       "      <td>76800.0</td>\n",
       "      <td>115000.0</td>\n",
       "      <td>260000.0</td>\n",
       "    </tr>\n",
       "  </tbody>\n",
       "</table>\n",
       "</div>\n",
       "      <button class=\"colab-df-convert\" onclick=\"convertToInteractive('df-d43cc0cd-0599-4d9e-b973-95018a63fa7c')\"\n",
       "              title=\"Convert this dataframe to an interactive table.\"\n",
       "              style=\"display:none;\">\n",
       "        \n",
       "  <svg xmlns=\"http://www.w3.org/2000/svg\" height=\"24px\"viewBox=\"0 0 24 24\"\n",
       "       width=\"24px\">\n",
       "    <path d=\"M0 0h24v24H0V0z\" fill=\"none\"/>\n",
       "    <path d=\"M18.56 5.44l.94 2.06.94-2.06 2.06-.94-2.06-.94-.94-2.06-.94 2.06-2.06.94zm-11 1L8.5 8.5l.94-2.06 2.06-.94-2.06-.94L8.5 2.5l-.94 2.06-2.06.94zm10 10l.94 2.06.94-2.06 2.06-.94-2.06-.94-.94-2.06-.94 2.06-2.06.94z\"/><path d=\"M17.41 7.96l-1.37-1.37c-.4-.4-.92-.59-1.43-.59-.52 0-1.04.2-1.43.59L10.3 9.45l-7.72 7.72c-.78.78-.78 2.05 0 2.83L4 21.41c.39.39.9.59 1.41.59.51 0 1.02-.2 1.41-.59l7.78-7.78 2.81-2.81c.8-.78.8-2.07 0-2.86zM5.41 20L4 18.59l7.72-7.72 1.47 1.35L5.41 20z\"/>\n",
       "  </svg>\n",
       "      </button>\n",
       "      \n",
       "  <style>\n",
       "    .colab-df-container {\n",
       "      display:flex;\n",
       "      flex-wrap:wrap;\n",
       "      gap: 12px;\n",
       "    }\n",
       "\n",
       "    .colab-df-convert {\n",
       "      background-color: #E8F0FE;\n",
       "      border: none;\n",
       "      border-radius: 50%;\n",
       "      cursor: pointer;\n",
       "      display: none;\n",
       "      fill: #1967D2;\n",
       "      height: 32px;\n",
       "      padding: 0 0 0 0;\n",
       "      width: 32px;\n",
       "    }\n",
       "\n",
       "    .colab-df-convert:hover {\n",
       "      background-color: #E2EBFA;\n",
       "      box-shadow: 0px 1px 2px rgba(60, 64, 67, 0.3), 0px 1px 3px 1px rgba(60, 64, 67, 0.15);\n",
       "      fill: #174EA6;\n",
       "    }\n",
       "\n",
       "    [theme=dark] .colab-df-convert {\n",
       "      background-color: #3B4455;\n",
       "      fill: #D2E3FC;\n",
       "    }\n",
       "\n",
       "    [theme=dark] .colab-df-convert:hover {\n",
       "      background-color: #434B5C;\n",
       "      box-shadow: 0px 1px 3px 1px rgba(0, 0, 0, 0.15);\n",
       "      filter: drop-shadow(0px 1px 2px rgba(0, 0, 0, 0.3));\n",
       "      fill: #FFFFFF;\n",
       "    }\n",
       "  </style>\n",
       "\n",
       "      <script>\n",
       "        const buttonEl =\n",
       "          document.querySelector('#df-d43cc0cd-0599-4d9e-b973-95018a63fa7c button.colab-df-convert');\n",
       "        buttonEl.style.display =\n",
       "          google.colab.kernel.accessAllowed ? 'block' : 'none';\n",
       "\n",
       "        async function convertToInteractive(key) {\n",
       "          const element = document.querySelector('#df-d43cc0cd-0599-4d9e-b973-95018a63fa7c');\n",
       "          const dataTable =\n",
       "            await google.colab.kernel.invokeFunction('convertToInteractive',\n",
       "                                                     [key], {});\n",
       "          if (!dataTable) return;\n",
       "\n",
       "          const docLinkHtml = 'Like what you see? Visit the ' +\n",
       "            '<a target=\"_blank\" href=https://colab.research.google.com/notebooks/data_table.ipynb>data table notebook</a>'\n",
       "            + ' to learn more about interactive tables.';\n",
       "          element.innerHTML = '';\n",
       "          dataTable['output_type'] = 'display_data';\n",
       "          await google.colab.output.renderOutput(dataTable, element);\n",
       "          const docLink = document.createElement('div');\n",
       "          docLink.innerHTML = docLinkHtml;\n",
       "          element.appendChild(docLink);\n",
       "        }\n",
       "      </script>\n",
       "    </div>\n",
       "  </div>\n",
       "  "
      ],
      "text/plain": [
       "               salary_monthly_NETO                                       \\\n",
       "                             count          mean           std      min   \n",
       "profile_gender                                                            \n",
       "Hombre                      4317.0  91238.189956  44410.676207  35100.0   \n",
       "Mujer                        769.0  79321.556463  36136.964616  36000.0   \n",
       "Otros                         25.0  89300.000000  56201.586573  35900.0   \n",
       "\n",
       "                                                      \n",
       "                    25%      50%       75%       max  \n",
       "profile_gender                                        \n",
       "Hombre          60000.0  82000.0  109720.0  298000.0  \n",
       "Mujer           54000.0  71000.0   95000.0  281250.0  \n",
       "Otros           45000.0  76800.0  115000.0  260000.0  "
      ]
     },
     "execution_count": 8,
     "metadata": {},
     "output_type": "execute_result"
    }
   ],
   "source": [
    "df_woo[['profile_gender', 'salary_monthly_NETO']].groupby('profile_gender').describe()"
   ]
  },
  {
   "cell_type": "markdown",
   "metadata": {
    "id": "een9ISxD-0lx"
   },
   "source": [
    "Dado que las subpoblaciones Otros es considerablemente mas chica que la subpoblacion Hombres (grupo A) y subpoblacion Mujeres (grupo B) las descartamos."
   ]
  },
  {
   "cell_type": "code",
   "execution_count": 9,
   "metadata": {
    "id": "OfzFpDO-lYxk"
   },
   "outputs": [],
   "source": [
    "is_man = df_woo.profile_gender == 'Hombre'\n",
    "is_woman = df_woo.profile_gender == 'Mujer'\n",
    "groupA = df_woo[is_man].salary_monthly_NETO # Hombres\n",
    "groupB = df_woo[is_woman].salary_monthly_NETO # Mujeres"
   ]
  },
  {
   "cell_type": "code",
   "execution_count": 10,
   "metadata": {
    "colab": {
     "base_uri": "https://localhost:8080/"
    },
    "id": "lGMFdyD9mOJ5",
    "outputId": "c0d975b6-e3b0-4169-8c5d-2c8158b9aa12"
   },
   "outputs": [
    {
     "name": "stdout",
     "output_type": "stream",
     "text": [
      "HOMBRES:\n",
      " count      4317.00\n",
      "mean      91238.19\n",
      "std       44410.68\n",
      "min       35100.00\n",
      "25%       60000.00\n",
      "50%       82000.00\n",
      "75%      109720.00\n",
      "max      298000.00\n",
      "Name: salary_monthly_NETO, dtype: float64 \n",
      "\n",
      "MUJERES:\n",
      " count       769.00\n",
      "mean      79321.56\n",
      "std       36136.96\n",
      "min       36000.00\n",
      "25%       54000.00\n",
      "50%       71000.00\n",
      "75%       95000.00\n",
      "max      281250.00\n",
      "Name: salary_monthly_NETO, dtype: float64 \n",
      "\n"
     ]
    }
   ],
   "source": [
    "print(f\"HOMBRES:\\n {groupA.describe().round(2)} \\n\")\n",
    "print(f\"MUJERES:\\n {groupB.describe().round(2)} \\n\")"
   ]
  },
  {
   "cell_type": "markdown",
   "metadata": {
    "id": "co_0M_ojtmUh"
   },
   "source": [
    "## Ejercicio 1: Estimación\n",
    "\n",
    "**Consigna:**  Calcular una estimación puntual y un intervalo de confianza de nivel (1-alpha) para la resta entre la media del salario Neto para Hombres menos la media del salario Neto para otros géneros(diferencia de las medias entre el grupoA y grupoB). \n",
    "¿Cómo se relaciona este intervalo de confianza con el test de hipótesis?"
   ]
  },
  {
   "cell_type": "markdown",
   "metadata": {
    "id": "YmouMLEWP_GG"
   },
   "source": [
    "###**Estimación puntual**"
   ]
  },
  {
   "cell_type": "markdown",
   "metadata": {
    "id": "qgU3PYMWQFL2"
   },
   "source": [
    "Para  hacer una estimación puntual de la diferencia de las medias de ambas subpoblaciones, vamos a considerar los siguientes **estimadores**\n",
    "\n",
    "$ \\hat{\\theta_A} = \\bar{X_A} $\n",
    "\n",
    "$ \\hat{\\theta_B} = \\bar{X_B} $\n",
    "\n",
    "$ \\hat{\\theta} = \\bar{X_A} - \\bar{X_B} $\n",
    "\n",
    "Donde:\n",
    "\n",
    "$\\bar{X} = \\frac{1}{n}\\sum_{i=1}^{n}{x_i}$\n",
    "\n",
    "Es la media muestral."
   ]
  },
  {
   "cell_type": "code",
   "execution_count": 11,
   "metadata": {
    "colab": {
     "base_uri": "https://localhost:8080/"
    },
    "id": "MeEusXgLkuVx",
    "outputId": "a728e222-74c3-4dcc-b9c6-9d547359f097"
   },
   "outputs": [
    {
     "name": "stdout",
     "output_type": "stream",
     "text": [
      "GRUPO A - HOMBRES\n",
      "Media: 91238.19 - σ_a.: 44410.68 - Var: 1972308161.2 - Size: 4317\n",
      "\n",
      "GRUPO B - MUJERES\n",
      "Media: 79321.56 - σ_b: 36136.96 - Var: 1305880211.68 - Size: 769\n",
      "\n",
      "Diferencia de medias\n",
      "  groupA - groupB: 11916.63\n",
      "\n",
      "La ESTIMACION PUNTUAL de la DIFERENCIA DE LA MEDIA de salarios mensuales NETOS entre ambas subpoblaciones es de:        \n",
      " 11916.63 ARS$\n"
     ]
    }
   ],
   "source": [
    "print(f\"GRUPO A - HOMBRES\\nMedia: {round(groupA.mean(),2)} - σ_a.: {round(groupA.std(),2)} - Var: {round(groupA.std()**2,2)} - Size: {groupA.size}\\n\")\n",
    "print(f\"GRUPO B - MUJERES\\nMedia: {round(groupB.mean(),2)} - σ_b: {round(groupB.std(),2)} - Var: {round(groupB.std()**2,2)} - Size: {groupB.size}\\n\")\n",
    "meanDifAB = groupA.mean()-groupB.mean()\n",
    "print(f\"Diferencia de medias\\n  groupA - groupB: {round(meanDifAB,2)}\\n\")\n",
    "print(f\"La ESTIMACION PUNTUAL de la DIFERENCIA DE LA MEDIA de salarios mensuales NETOS entre ambas subpoblaciones es de:\\\n",
    "        \\n {round(meanDifAB,2)} ARS$\")"
   ]
  },
  {
   "cell_type": "markdown",
   "metadata": {
    "id": "i5D8Y1WRj_hX"
   },
   "source": [
    "###**Intervalo de confianza**"
   ]
  },
  {
   "cell_type": "markdown",
   "metadata": {
    "id": "4sC1Q8GCB4EN"
   },
   "source": [
    "Para poder calcular el intervalo de confianza necesitamos un estadistico. Para decidir cuál usaremos es necesario identificar dos cosas:\n",
    "- En primer lugar si la distribución de las subpoblaciones es normal o no.\n",
    "- En segundo lugar si las subpoblaciones tienen la misma varianza.\n",
    "\n",
    "Una primera aproximación para identificar si las subpoblaciones tienen distribución normal es graficar las distribuciones de los datos de las mismas."
   ]
  },
  {
   "cell_type": "code",
   "execution_count": 12,
   "metadata": {
    "colab": {
     "base_uri": "https://localhost:8080/",
     "height": 338
    },
    "id": "jgQb1jESB1wj",
    "outputId": "5d18f599-a7a4-4be3-b5af-9bbc2337d78a"
   },
   "outputs": [
    {
     "data": {
      "text/plain": [
       "<matplotlib.legend.Legend at 0x7f4ba96d9ad0>"
      ]
     },
     "execution_count": 12,
     "metadata": {},
     "output_type": "execute_result"
    },
    {
     "data": {
      "image/png": "[encoded data removed]",
      "text/plain": [
       "<Figure size 1080x288 with 1 Axes>"
      ]
     },
     "metadata": {
      "needs_background": "light"
     },
     "output_type": "display_data"
    }
   ],
   "source": [
    "#Grafico distribuciones grupo A y grupo B\n",
    "fig, ax = plt.subplots(ncols=1, nrows=1, figsize=(15,4))\n",
    "#ax.hist(data, bins=30, density=True, color='#3182bd', alpha=0.5)\n",
    "seaborn.kdeplot(groupA, shade=True, color='lightseagreen', label=\"GroupA\")\n",
    "seaborn.kdeplot(groupB, shade=True, color='firebrick', label=\"GroupB\")\n",
    "ax.axvline(x=groupA.mean(), color='darkslategray', label=f'x̄_a: {round(groupA.mean(),2)}')\n",
    "ax.axvline(x=groupB.mean(), color='firebrick', label=f'x̄_b: {round(groupB.mean(),2)}')\n",
    "#ax.axvline(x=groupA.mean()- groupB.mean(), color='darkorange', label=f'x̄_1-x̄_2: {round(groupA.mean()-groupB.mean(),2)}')\n",
    "ax.set_title('Distribuciones Grupo A y GrupoB')\n",
    "ax.legend()"
   ]
  },
  {
   "cell_type": "markdown",
   "metadata": {
    "id": "wui7jmIXGh8Q"
   },
   "source": [
    "Podemos intuir graficamente, por las colas, que ninguna de las subpoblaciones vaya a seguir una distribucion normal. De todas formas para asegurarnos realizaremos un test de Shapiro-Wilk para verificar normalidad.\n",
    "\n",
    "Asumimos un nivel de significancia $\\alpha = 0,05 $, que de aquí en adelante se empleará en todos los test de hipotesis a realizar y para los calculos de intervalos de confianza."
   ]
  },
  {
   "cell_type": "code",
   "execution_count": 13,
   "metadata": {
    "id": "xsPglaZMJ30V"
   },
   "outputs": [],
   "source": [
    "#Nivel de significancia del test\n",
    "alpha = 0.05\n",
    "#Criterio de decision\n",
    "def decision_citeria(p,alpha):\n",
    "  if(p > alpha):\n",
    "    return \"No se puede rechazar hipotesis nula\"\n",
    "  elif(p < alpha):\n",
    "    return \"Se rechaza hipotesis nula\"\n",
    "  else:\n",
    "    return \"El test no decide\""
   ]
  },
  {
   "cell_type": "markdown",
   "metadata": {
    "id": "FvvEV_sQLJzx"
   },
   "source": [
    "Realizando el test bajo hipotesis nula suponemos las siguientes hipotesis nulas:\n",
    "\n",
    "- $H_{0A} :$ El salario mensual NETO de los HOMBRES sigue una distribucion normal\n",
    "- $H_{0B} :$ El salario mensual NETO de las MUJERES sigue una distribucion normal\n",
    "\n",
    "(En ambos casos la hipotesis alternativa es que el salario mensual NETO no siga una distribucion normal)\n"
   ]
  },
  {
   "cell_type": "code",
   "execution_count": 14,
   "metadata": {
    "colab": {
     "base_uri": "https://localhost:8080/"
    },
    "id": "_XBjKQoRImx6",
    "outputId": "25c2acab-9610-453f-d851-0f6b4bfc3548"
   },
   "outputs": [
    {
     "name": "stdout",
     "output_type": "stream",
     "text": [
      "GroupA(HOMBRES):\n",
      " - W = 0.8716506361961365 \n",
      " - p = 0.0\n",
      " - Se rechaza hipotesis nula \n",
      "        \n",
      "GroupB(MUJERES):\n",
      " - W = 0.8647454380989075 \n",
      " - p = 3.3203448858401516e-25\n",
      " - Se rechaza hipotesis nula\n"
     ]
    }
   ],
   "source": [
    "#Estadistico Shapiro-Wilk para verificar normalidad de las subpoblaciones\n",
    "w_shap_a, p_shap_a = st.shapiro(groupA)\n",
    "w_shap_b, p_shap_b = st.shapiro(groupB)\n",
    "print(f\"GroupA(HOMBRES):\\n - W = {w_shap_a} \\n - p = {p_shap_a}\\n - {decision_citeria(p_shap_a,alpha)} \\n\\\n",
    "        \\nGroupB(MUJERES):\\n - W = {w_shap_b} \\n - p = {p_shap_b}\\n - {decision_citeria(p_shap_b,alpha)}\" )"
   ]
  },
  {
   "cell_type": "markdown",
   "metadata": {
    "id": "aJT1l3PqQgN1"
   },
   "source": [
    "A partir del test podemos deducir que ninguna de las subpoblaciones sigue una distribucion normal. Se observa de los ***p-valores*** obtenidos que el rechazo de la hipotesis nula es mucho mas significativo para la subpoblacion de **MUJERES** que para la subpoblacion de **HOMBRES**\n",
    "\n",
    "Dado que las distribuciones no son normales, buscaremos un test de igualdad de varianzas generalizado para muestras que sigan cualquier distribucion. En este orden aplicamos el **Test de Levene**, asumiendo nuevamente un $\\alpha = 0.05$. La Hipotesis nula queda definida en este caso como:\n",
    "- $H_0$: Las varianzas del Grupo A (HOMBRES) y del Grupo B (MUJERES) son iguales\n",
    "- $H_1$: Las varianzas del Grupo A (HOMBRES) y del Grupo B (MUJERES) son diferentes"
   ]
  },
  {
   "cell_type": "code",
   "execution_count": 15,
   "metadata": {
    "colab": {
     "base_uri": "https://localhost:8080/"
    },
    "id": "1_e-gQKq6oCu",
    "outputId": "5df5ce4b-eff3-4684-cc97-879cd810547e"
   },
   "outputs": [
    {
     "name": "stdout",
     "output_type": "stream",
     "text": [
      "Prueba igualdad de Varianzas Grupo A y Grupo B:\n",
      " - W = 19.976007832164598 \n",
      " - p = 8.012402789892865e-06\n",
      " - Se rechaza hipotesis nula\n"
     ]
    }
   ],
   "source": [
    "#Prueba igualdad de varianzas\n",
    "w_lev, p_lev = st.levene(groupA,groupB)\n",
    "print(f\"Prueba igualdad de Varianzas Grupo A y Grupo B:\\n - W = {w_lev} \\n - p = {p_lev}\\n - {decision_citeria(p_lev,alpha)}\")"
   ]
  },
  {
   "cell_type": "markdown",
   "metadata": {
    "id": "lFKBkV-1Ug01"
   },
   "source": [
    "Al realizar el test de Levene, las varianzas del grupo A y del grupo B son diferentes. Considerando esto, podemos determinar que el estadístico a emplear para el cálculo de los intervalos de confianza es el de Welch o t para varianzas desiguales.\n",
    "\n",
    "***Nota al margen***\n",
    "\n",
    "_Se podría haber empleado el estadistico de Welch directamente, dado que el mismo tiende a un t cuando las varianzas son iguales, pero se hizo el desarrollo para poner en practica la teoría y jugar un poco con los test de hipótesis :)_"
   ]
  },
  {
   "cell_type": "markdown",
   "metadata": {
    "id": "dNCpPaOZz6kJ"
   },
   "source": [
    "Entonces, procederemos a armar el **I**ntervalo de **C**onfianza para diferencias de medias $\\mu_a - \\mu_b$, empleando el Método de Welch (usa t de student con k.. grados de libertad)\n",
    "\n",
    "$ (\\bar{X_1} - \\bar{X_2}) - t_{{\\alpha/2},k} \\sqrt{\\frac{\\sigma_1^2}{n_1} + \\frac{\\sigma_2^2}{n_2}} < \\mu_1 - \\mu_2 < (\\bar{X_1} - \\bar{X_2}) + t_{{\\alpha/2},k} \\sqrt{\\frac{\\sigma_1^2}{n_1} + \\frac{\\sigma_2^2}{n_2}}$\n",
    "\n",
    "$ LI< \\mu_1 - \\mu_2 < LS$\n",
    "\n",
    "$k_{grados de libertad} = \\frac{(\\frac{\\sigma_1^2}{n_1}+\\frac{\\sigma_2^2}{n_2})^2}{\\frac{(\\frac{\\sigma_1^2}{n_1})^2}{n_1 - 1}+\\frac{(\\frac{\\sigma_2^2}{n_2})^2}{n_2 - 1}}$"
   ]
  },
  {
   "cell_type": "code",
   "execution_count": 16,
   "metadata": {
    "colab": {
     "base_uri": "https://localhost:8080/",
     "height": 517
    },
    "id": "0fA1RQ0upe6N",
    "outputId": "edf4c400-2f43-4faa-f9af-49577cc5c066"
   },
   "outputs": [
    {
     "name": "stdout",
     "output_type": "stream",
     "text": [
      "Media muestral A: 91238.19 - σ_1: 44410.68 - Var: 1972308161.2 - Size: 4317\n",
      "Media muestral B: 79321.56 - σ_2: 44410.68 - Var: 1305880211.68 - Size: 769\n",
      "valor stdt = 1.65 - k(grados de libertad) = 1221.11 \n",
      "LI: 9500.16 , LS:14333.11\n",
      "Long intervalo: 4832.96\n"
     ]
    },
    {
     "data": {
      "image/png": "[encoded data removed]",
      "text/plain": [
       "<Figure size 1080x432 with 1 Axes>"
      ]
     },
     "metadata": {
      "needs_background": "light"
     },
     "output_type": "display_data"
    }
   ],
   "source": [
    "def get_k_df(std1,std2,n1,n2):\n",
    "  k= ((std1**2/n1 + std2**2/n2)**2) / ((((std1**2/n1)**2)/(n1-1)) + (((std2**2/n2)**2)/(n2-1)))\n",
    "  return k\n",
    "\n",
    "def get_intervalos_longitud_tstudent(alpha,samples_1,samples_2,n1,n2):\n",
    "  data1 = samples_1.sample(n1, replace=False) # muestra de tamaño n\n",
    "  data2 = samples_2.sample(n2, replace=False) # muestra de tamaño n\n",
    "  n1 = data1.size\n",
    "  n2 = data2.size\n",
    "  std_1 = data1.std()\n",
    "  std_2 = data2.std()\n",
    "  media_1 = data1.mean()\n",
    "  media_2 = data2.mean()\n",
    "  k = get_k_df(std_1,std_2,n1,n2)\n",
    "  print(f\"Media muestral A: {round(media_1,2)} - σ_1: {round(std_1,2)} - Var: {round(std_1**2,2)} - Size: {n1}\")\n",
    "  print(f\"Media muestral B: {round(media_2,2)} - σ_2: {round(std_1,2)} - Var: {round(std_2**2,2)} - Size: {n2}\")\n",
    "  t_std = -scipy.stats.t.ppf(q = alpha, df=k)\n",
    "  print(f\"valor stdt = {round(t_std,2)} - k(grados de libertad) = {round(k,2)} \")\n",
    "  estadistico_liminf = (media_1-media_2) - t_std*np.sqrt((std_1**2/n1)+(std_2**2/n2))\n",
    "  estadistico_limsup = (media_1-media_2) + t_std*np.sqrt((std_1**2/n1)+(std_2**2/n2))\n",
    "  print(f\"LI: {round(estadistico_liminf,2)} , LS:{round(estadistico_limsup,2)}\")\n",
    "  long_intervalo = estadistico_limsup - estadistico_liminf\n",
    "  print(f\"Long intervalo: {round(long_intervalo,2)}\")\n",
    "  return data1,data2,estadistico_liminf,estadistico_limsup\n",
    "\n",
    "def hist_conf_plot(data_1,data_2,LI,LS,alpha):\n",
    "  fig, ax = plt.subplots(ncols=1, nrows=1, figsize=(15,6))\n",
    "  #ax.hist(data, bins=30, density=True, color='#3182bd', alpha=0.5)\n",
    "  seaborn.kdeplot(data_1, shade=True, color='lightseagreen', label=\"Muestra 1\")\n",
    "  seaborn.kdeplot(data_2, shade=True, color='firebrick', label=\"Muestra 2\")\n",
    "  ax.axvline(x=data_1.mean(), color='darkslategray', label=f'x̄_a: {round(data_1.mean(),2)}')\n",
    "  ax.axvline(x=data_2.mean(), color='firebrick', label=f'x̄_b: {round(data_2.mean(),2)}')\n",
    "  ax.axvline(x=data_1.mean()- data_2.mean(), color='darkorange', label=f'x̄_a-x̄_b: {round(data_1.mean()-data_2.mean(),2)}')\n",
    "  ax.axvline(x=LI, color='black', linestyle='--', label=f'IC {(1-alpha)*100}%')\n",
    "  ax.axvline(x=LS, color='black', linestyle='--')\n",
    "  ax.set_title('Muestra 1 vs Muestra 2')\n",
    "  ax.legend()\n",
    "  #ax.set_xlabel('media')\n",
    "  #ax.set_ylabel('densidad')\n",
    "  #ax.legend()\n",
    "\n",
    "n1=groupA.size\n",
    "n2=groupB.size\n",
    "groupA,groupB,LI,LS = get_intervalos_longitud_tstudent(alpha,groupA,groupB,n1,n2)\n",
    "hist_conf_plot(groupA,groupB,LI,LS,alpha)"
   ]
  },
  {
   "cell_type": "markdown",
   "metadata": {
    "id": "-r3HSsSt9fIt"
   },
   "source": [
    "¿Cómo se relaciona este intervalo de confianza con el test de hipótesis?\n",
    "\n",
    "Ambos trabajan buscando determinar la diferencia de las medias, por lo tanto emplean el mismo estadistico."
   ]
  },
  {
   "cell_type": "markdown",
   "metadata": {
    "id": "IFi2T7Y6nM92"
   },
   "source": [
    "## Ejercicio 2: Test de hipótesis\n"
   ]
  },
  {
   "cell_type": "markdown",
   "metadata": {
    "id": "Rzxe8UYU6EfJ"
   },
   "source": [
    "### 2.1 Formalización\n",
    "Describir formalmente los distintos compenentes de un test de hipótesis para comprobar si la distribución de los salarios es distinta entre los grupos A y B.\n",
    "\n",
    "**Hipótesis Nula**\n",
    "\n",
    "* $H_0:$ La media del salario mensual neto del grupo $A$ es **igual** a la media salario mensual neto  del grupo $B$ \n",
    "\n",
    "* $H_1:$ La media del salario mensual neto del grupo $A$ es **diferente** a la media salario mensual neto del grupo $B$ \n",
    "\n",
    "|   **$H_0$**   |    **Rechazo**    |     **Acepto**    |\n",
    "|:-------------:|:-----------------:|:-----------------:|\n",
    "| **Verdadero** |      Error I ($E1$)      | Decision Correcta | \n",
    "|   **Falso**   | Decision Correcta |      Error 2 ($E2$)      | \n",
    "\n",
    "\n",
    "**Nivel de Significancia**\n",
    "\n",
    "$P(E1) = P(Rechazo H_0 | H_0 = True) = \\alpha : \\hspace{0.5cm} $ Probabilidad de rechazar que las medias del Grupo A y del Grupo B sean iguales cuando estas verifiquen igualdad.\n",
    "\n",
    "Definimos el nivel de significancia $\\alpha$, en otras palabras, el margen de error de tipo I que estoy dispuesto a aceptar. En este caso empleamos nuevamente\n",
    "\n",
    "$\\alpha = 0.05$\n",
    "\n",
    "\n",
    "**Estadístico**\n",
    "\n",
    "Como hay que verificar la diferencia de medias podemos considerar lo analizado anteriormente para el cálculo del intervalo de confianza empleando nuevamente el test de Welch. Donde nos queda:\n",
    "\n",
    "$ T = \\frac{\\bar{X}_A - \\bar{X_B}}{\\sqrt{\\frac{S_A}{n_A}+\\frac{S_B}{n_B}}} \\hspace{0.25cm} $ : Estadistico de contraste\n",
    "\n",
    "$d.f. = \\frac{(\\frac{S_A^2}{n_A}+\\frac{S_B^2}{n_B})^2}{(\\frac{S_A^2/n_A}{n_A-1}+\\frac{S_B^2/n_B}{n_B-1})^2} \\hspace{0.25cm} $ : Grados de libertad\n",
    "\n",
    "\n",
    "\n",
    "\n",
    "\n"
   ]
  },
  {
   "cell_type": "markdown",
   "metadata": {
    "id": "EB0v_Bm4fa8g"
   },
   "source": [
    "**Regla de decision**\n",
    "\n",
    "Considerando que mediante el estadístico ***T*** y el ajuste de los grados de libertad ***d.f.*** obtendremos un ***p-valor***, el criterio de decisión queda:\n",
    "\n",
    "$p-valor < alpha ⇒ $ Rechazo $H_0$\n",
    "\n",
    "$p-valor > alpha ⇒ $ No se puede rechazar $H_0$"
   ]
  },
  {
   "cell_type": "markdown",
   "metadata": {
    "id": "3Ip_5YdenC8u"
   },
   "source": [
    "### 2.2 P-valor\n",
    "\n",
    "1. Calcule el p-valor y decida si rechazar o no la hipótesis nula.\n",
    "2. Interprete el resultado.\n",
    "3. Los dos grupos de nuestra muestra tienen tamaños muy distintos. ¿Esto afecta al tests?\n",
    "\n",
    "Links útiles:\n",
    "* [Test de hipótesis usando scipy](https://docs.scipy.org/doc/scipy/reference/generated/scipy.stats.ttest_ind.html)\n",
    "* [Test de Welch](http://daniellakens.blogspot.com/2015/01/always-use-welchs-t-test-instead-of.html)"
   ]
  },
  {
   "cell_type": "markdown",
   "metadata": {
    "id": "KgvaRo1w9yIY"
   },
   "source": [
    "Calculando del p-valor\n"
   ]
  },
  {
   "cell_type": "code",
   "execution_count": 17,
   "metadata": {
    "colab": {
     "base_uri": "https://localhost:8080/"
    },
    "id": "DiOTPWBE9gNk",
    "outputId": "6a657c12-bd4d-456c-d993-98ac474ac46d"
   },
   "outputs": [
    {
     "name": "stdout",
     "output_type": "stream",
     "text": [
      "Prueba igualdad de Medias Grupo A y Grupo B:\n",
      " - T = 8.117598110271688 \n",
      " - p = 1.1513756388194103e-15\n",
      " - Se rechaza hipotesis nula\n"
     ]
    }
   ],
   "source": [
    "#Prueba igualdad de medias\n",
    "t_welch, p_welch = st.ttest_ind(groupA, groupB, equal_var = False)\n",
    "print(f\"Prueba igualdad de Medias Grupo A y Grupo B:\\n - T = {t_welch} \\n - p = {p_welch}\\n - {decision_citeria(p_welch,alpha)}\")"
   ]
  },
  {
   "cell_type": "markdown",
   "metadata": {
    "id": "Bab5oAu2h3gE"
   },
   "source": [
    "Se puede decir que se rechaza con bastante seguridad la hipotesis nula. En otras palabras, las medias del grupo A y del grupo B van a ser distintas a nivel poblacional con mucha seguridad."
   ]
  },
  {
   "cell_type": "markdown",
   "metadata": {
    "id": "bMMX8-If92Ez"
   },
   "source": [
    "Los dos grupos de nuestra muestra tienen tamaños muy distintos. ¿Esto afecta al tests?\n",
    "\n",
    "Para responder a esta pregunta, lo mejor va a ser jugar con las muestras que se vayan tomando, para esto consideramos:"
   ]
  },
  {
   "cell_type": "code",
   "execution_count": 18,
   "metadata": {
    "colab": {
     "base_uri": "https://localhost:8080/"
    },
    "id": "gVyNUPlTiaZd",
    "outputId": "ff15597a-a452-467a-95a5-af9f79bf8951"
   },
   "outputs": [
    {
     "name": "stdout",
     "output_type": "stream",
     "text": [
      "Prueba igualdad de Medias Grupo A y Grupo B (100 datos en ambas muestras):\n",
      " - T = -1.2192020261030496 \n",
      " - p = 0.22432898385717295\n",
      " - No se puede rechazar hipotesis nula\n",
      "\n",
      "Prueba igualdad de Medias Grupo A y Grupo B (250 datos en ambas muestras):\n",
      " - T = 4.487320959017718 \n",
      " - p = 9.112769064476211e-06\n",
      " - Se rechaza hipotesis nula\n",
      "\n",
      "Prueba igualdad de Medias Grupo A y Grupo B (500 datos en ambas muestras):\n",
      " - T = 3.2368382444469512 \n",
      " - p = 0.0012488925810669367\n",
      " - Se rechaza hipotesis nula\n",
      "\n",
      "Prueba igualdad de Medias Grupo A y Grupo B (nB datos en ambas muestras):\n",
      " - T = 5.932471799465085 \n",
      " - p = 3.7084562493739507e-09\n",
      " - Se rechaza hipotesis nula\n",
      "\n"
     ]
    }
   ],
   "source": [
    "#Conocemos a priori que nA > nB\n",
    "nA = groupA.count() # cantidad de Hombres\n",
    "nB = groupB.count() # cantidad de Otros Generos\n",
    "\n",
    "#Consideramos como afecta la cantidad de datos\n",
    "#Quedaria mas lindo con un for-loop\n",
    "t_welch, p_welch = st.ttest_ind(groupA.sample(100, replace=False), groupB.sample(100, replace=False), equal_var = False)\n",
    "print(f\"Prueba igualdad de Medias Grupo A y Grupo B (100 datos en ambas muestras):\\n\\\n",
    " - T = {t_welch} \\n - p = {p_welch}\\n - {decision_citeria(p_welch,alpha)}\\n\")\n",
    "\n",
    "t_welch, p_welch = st.ttest_ind(groupA.sample(250, replace=False), groupB.sample(250, replace=False), equal_var = False)\n",
    "print(f\"Prueba igualdad de Medias Grupo A y Grupo B (250 datos en ambas muestras):\\n\\\n",
    " - T = {t_welch} \\n - p = {p_welch}\\n - {decision_citeria(p_welch,alpha)}\\n\")\n",
    "\n",
    "t_welch, p_welch = st.ttest_ind(groupA.sample(500, replace=False), groupB.sample(500, replace=False), equal_var = False)\n",
    "print(f\"Prueba igualdad de Medias Grupo A y Grupo B (500 datos en ambas muestras):\\n\\\n",
    " - T = {t_welch} \\n - p = {p_welch}\\n - {decision_citeria(p_welch,alpha)}\\n\")\n",
    "\n",
    "t_welch, p_welch = st.ttest_ind(groupA.sample(nB, replace=False), groupB, equal_var = False)\n",
    "print(f\"Prueba igualdad de Medias Grupo A y Grupo B (nB datos en ambas muestras):\\n\\\n",
    " - T = {t_welch} \\n - p = {p_welch}\\n - {decision_citeria(p_welch,alpha)}\\n\")\n",
    "\n"
   ]
  },
  {
   "cell_type": "markdown",
   "metadata": {
    "id": "bOUg00usmR7F"
   },
   "source": [
    "A medida que se incrementan la cantidad de datos en ambos grupos, vemos que el test tiende a asegurar que se rechaza la hipotesis nula. Para pocos datos, es como si el test nos dijera:\n",
    " \n",
    "\"Gente, tienen pocos datos, no puedo rechazar la hipotesis nula así por que sí, por que eso seria cometer un error de tipo 1 y yo soy un test serio\"\n",
    "\n",
    "Lo cual es bastante interesante de observar.\n",
    "\n",
    "Consideramos el efecto de la diferencia en los datos:"
   ]
  },
  {
   "cell_type": "code",
   "execution_count": 19,
   "metadata": {
    "colab": {
     "base_uri": "https://localhost:8080/"
    },
    "id": "gWuQ4_EznsTV",
    "outputId": "2eeecd76-48f8-4114-d435-8b21599511e6"
   },
   "outputs": [
    {
     "name": "stdout",
     "output_type": "stream",
     "text": [
      "Prueba igualdad de Medias Grupo A y Grupo B (dif=4217):\n",
      " - T = 3.4488647856688868 \n",
      " - p = 0.0008081619525793072\n",
      " - Se rechaza hipotesis nula\n",
      "\n",
      "Prueba igualdad de Medias Grupo A y Grupo B (dif=3548):\n",
      " - T = 8.117598110271688 \n",
      " - p = 1.1513756388194103e-15\n",
      " - Se rechaza hipotesis nula\n",
      "\n",
      "Prueba igualdad de Medias Grupo A y Grupo B (dif=669):\n",
      " - T = 2.1506915189138733 \n",
      " - p = 0.03355248185386989\n",
      " - Se rechaza hipotesis nula\n",
      "\n",
      "Prueba igualdad de Medias Grupo A y Grupo B (dif=519):\n",
      " - T = 3.21806909004689 \n",
      " - p = 0.0013759362982945333\n",
      " - Se rechaza hipotesis nula\n",
      "\n",
      "Prueba igualdad de Medias Grupo A y Grupo B (dif=269):\n",
      " - T = 5.2181132686154275 \n",
      " - p = 2.222745674527069e-07\n",
      " - Se rechaza hipotesis nula\n",
      "\n",
      "Prueba igualdad de Medias Grupo A y Grupo B (dif=250):\n",
      " - T = 4.251035525705581 \n",
      " - p = 2.621371205426001e-05\n",
      " - Se rechaza hipotesis nula\n",
      "\n"
     ]
    }
   ],
   "source": [
    "#Si quedaria mas lindo con un for i know\n",
    "t_welch, p_welch = st.ttest_ind(groupA, groupB.sample(100, replace=False), equal_var = False)\n",
    "print(f\"Prueba igualdad de Medias Grupo A y Grupo B (dif={abs(nA-100)}):\\n\\\n",
    " - T = {t_welch} \\n - p = {p_welch}\\n - {decision_citeria(p_welch,alpha)}\\n\")\n",
    "\n",
    "t_welch, p_welch = st.ttest_ind(groupA, groupB, equal_var = False)\n",
    "print(f\"Prueba igualdad de Medias Grupo A y Grupo B (dif={abs(nA-nB)}):\\n\\\n",
    " - T = {t_welch} \\n - p = {p_welch}\\n - {decision_citeria(p_welch,alpha)}\\n\")\n",
    "\n",
    "t_welch, p_welch = st.ttest_ind(groupA.sample(100, replace=False), groupB, equal_var = False)\n",
    "print(f\"Prueba igualdad de Medias Grupo A y Grupo B (dif={abs(100-nB)}):\\n\\\n",
    " - T = {t_welch} \\n - p = {p_welch}\\n - {decision_citeria(p_welch,alpha)}\\n\")\n",
    "\n",
    "t_welch, p_welch = st.ttest_ind(groupA.sample(nB, replace=False), groupB.sample(250, replace=False), equal_var = False)\n",
    "print(f\"Prueba igualdad de Medias Grupo A y Grupo B (dif={abs(nB-250)}):\\n\\\n",
    " - T = {t_welch} \\n - p = {p_welch}\\n - {decision_citeria(p_welch,alpha)}\\n\")\n",
    "\n",
    "t_welch, p_welch = st.ttest_ind(groupA.sample(500, replace=False), groupB, equal_var = False)\n",
    "print(f\"Prueba igualdad de Medias Grupo A y Grupo B (dif={abs(nB-500)}):\\n\\\n",
    " - T = {t_welch} \\n - p = {p_welch}\\n - {decision_citeria(p_welch,alpha)}\\n\")\n",
    "\n",
    "t_welch, p_welch = st.ttest_ind(groupA.sample(250, replace=False), groupB.sample(500, replace=False), equal_var = False)\n",
    "print(f\"Prueba igualdad de Medias Grupo A y Grupo B (dif={abs(250-500)}):\\n\\\n",
    " - T = {t_welch} \\n - p = {p_welch}\\n - {decision_citeria(p_welch,alpha)}\\n\")\n",
    "\n"
   ]
  },
  {
   "cell_type": "markdown",
   "metadata": {
    "id": "VRLAmiy9pPFO"
   },
   "source": [
    "Se observa que la diferencia de los datos no tiene un efecto considerable sobre el analisis, aunque nuevamente se verifica que cuando alguna de las subpoblaciones toma muestras pequeñas, el test tiende a ser un poco mas conservativo en terminos de rechazar la hipotesis nula.\n",
    "\n",
    "En base al analisis anterior, podemos concluir que no nos afectaria en nuestro caso el tamaño de las muestras ya que ambas son lo suficientemente grandes y la diferencia de las mismas no tiene un efecto significativo en el analisis."
   ]
  },
  {
   "cell_type": "markdown",
   "metadata": {
    "id": "8VxiQr5YrQYR"
   },
   "source": [
    "### [Opcional] 2.3 Potencia del test\n",
    "\n",
    "Nuestra muestra, ¿era lo suficientemente grande para detectar si existe o no una diferencia entre los grupos?\n",
    "\n",
    "1. Utilice la función `tt_ind_solve_power` para calcular el tamaño necesario de la muestra para un poder estadístico de 0.8, 0.9 y 0.95, asumiendo una significancia estadística de 0.05.\n",
    "2. ¿Cómo intepretan el poder estadístico de un test? Dado su conocimiento de dominio sobre los datos, ¿les parece que esta muestra es lo suficientemente grande para ser representativo de la tendencia general? ¿y para utilizarlo en un juicio penal contra una empresa XX por una causa de discriminación?\n",
    "\n",
    "[Documentación](https://www.statsmodels.org/stable/generated/statsmodels.stats.power.tt_ind_solve_power.html)\n",
    "\n",
    "NOTA: este análisis debería hacerse ANTES de recolectar los datos."
   ]
  },
  {
   "cell_type": "code",
   "execution_count": 20,
   "metadata": {
    "colab": {
     "base_uri": "https://localhost:8080/"
    },
    "id": "_IiqGfo4t6Db",
    "outputId": "e1db0d88-c799-480c-9972-c51ffc9af971"
   },
   "outputs": [
    {
     "name": "stderr",
     "output_type": "stream",
     "text": [
      "/usr/local/lib/python3.7/dist-packages/statsmodels/tools/_testing.py:19: FutureWarning: pandas.util.testing is deprecated. Use the functions in the public API at pandas.testing instead.\n",
      "  import pandas.util.testing as tm\n"
     ]
    }
   ],
   "source": [
    "from statsmodels.stats.power import tt_ind_solve_power"
   ]
  },
  {
   "cell_type": "code",
   "execution_count": 21,
   "metadata": {
    "id": "LUQ7MA2Apj9x"
   },
   "outputs": [],
   "source": [
    "effect_size = (groupA.mean() - groupB.mean()) / groupB.std()\n",
    "# nobs1=None  - What we want to know\n",
    "alpha = 0.05\n",
    "ratio = len(groupB) / len(groupA)"
   ]
  },
  {
   "cell_type": "code",
   "execution_count": 22,
   "metadata": {
    "colab": {
     "base_uri": "https://localhost:8080/"
    },
    "id": "cvHcpY-3ty8Q",
    "outputId": "c9e888d3-3685-4299-c92e-0315f2acaecb"
   },
   "outputs": [
    {
     "name": "stdout",
     "output_type": "stream",
     "text": [
      "Tamaño de muestra para una potencia del Test del Pot = 1 - beta = 0.8 \n",
      "  n = 479.0\n",
      "Size GroupA: 4317 |  Nuestros cantidad de datos son 9.01 veces mayores a los necesarios para una Potencia de test del 0.8% \n",
      "Size GroupB: 769  |  Nuestros cantidad de datos son 1.61 veces mayores a los necesarios para una Potencia de test del 0.8% \n",
      "\n",
      "Tamaño de muestra para una potencia del Test del Pot = 1 - beta = 0.9 \n",
      "  n = 640.7\n",
      "Size GroupA: 4317 |  Nuestros cantidad de datos son 6.74 veces mayores a los necesarios para una Potencia de test del 0.9% \n",
      "Size GroupB: 769  |  Nuestros cantidad de datos son 1.2 veces mayores a los necesarios para una Potencia de test del 0.9% \n",
      "\n",
      "Tamaño de muestra para una potencia del Test del Pot = 1 - beta = 0.95 \n",
      "  n = 791.97\n",
      "Size GroupA: 4317 |  Nuestros cantidad de datos son 5.45 veces mayores a los necesarios para una Potencia de test del 0.95% \n",
      "Size GroupB: 769  |  Nuestros cantidad de datos son 0.97 veces mayores a los necesarios para una Potencia de test del 0.95% \n",
      "\n"
     ]
    }
   ],
   "source": [
    "#Potencia del Test\n",
    "power_list = [0.8, 0.9 ,0.95]\n",
    "for i in power_list:\n",
    "  n = tt_ind_solve_power(effect_size=effect_size, alpha=alpha, power=i, ratio=ratio)\n",
    "  print(f\"Tamaño de muestra para una potencia del Test del Pot = 1 - beta = {i} \\n\\\n",
    "  n = {round(n,2)}\")\n",
    "  print(f\"Size GroupA: {groupA.size} |\\\n",
    "  Nuestros cantidad de datos son {round((groupA.size/n),2)} veces mayores a los necesarios para una Potencia de test del {i}% \")\n",
    "  print(f\"Size GroupB: {groupB.size}  |\\\n",
    "  Nuestros cantidad de datos son {round((groupB.size/n),2)} veces mayores a los necesarios para una Potencia de test del {i}% \\n\")\n",
    "  "
   ]
  },
  {
   "cell_type": "markdown",
   "metadata": {
    "id": "MqR19_PfC5dU"
   },
   "source": [
    "El **poder estadístico o potencia** de un Test representa la probabilidad de rechazar la hipótesis nula cuando esta es realmente falsa.\n",
    "\n",
    "Poder estadístico o Potencia $ = P(rechazar H_0 | H_0 es falsa)$\n",
    "\n",
    "En terminos generales es una medida de qué tan valido es el tests, a los fines de la prueba que hace y en relacion al tamaño de las muestras que se estan considerando para el mismo.\n",
    "\n",
    "**¿les parece que esta muestra es lo suficientemente grande para ser representativo de la tendencia general?**\n",
    "\n",
    "- Observando que el tamaño de muestra que se recomienda para potencias del 0.8 y 0.9 son fracciones tanto del tamaño del grupo B como del grupo A, podemos concluir que estas muestras son representativas de la tendencia general, aunque para el grupo B no por mucho. Por otro lado para una potencia de 0.95, vemos que el tamaño de muestra del grupo B no es lo suficientemente grande como para ser representativo. Podemos decir que para nuestros datos estamos limitados como mucho a una potencia del 0.9.\n",
    "\n",
    "**¿y para utilizarlo en un juicio penal contra una empresa XX por una causa de discriminación?**\n",
    "\n",
    "- Aunque las muestras son lo suficientemente representativas hasta potencias del 0.9 y 0.8 (estandar de adecuación) y considerando lo engorroso del procedimiento de un juicio penal, quizas lo recomendable sea en la medida de las posibilidades tratar de conseguir una muestra mas representativa del grupo B a los fines de no dejar lugar para la ambigüedad y poder obtener potencias del orden de 0.95 o mayores."
   ]
  },
  {
   "cell_type": "markdown",
   "metadata": {
    "id": "vc9Ckhrky9zH"
   },
   "source": [
    "# Conclusiones\n",
    "\n",
    "* El salario mensual NETO tanto de HOMBRES como de MUJERES no sigue una distribucion NORMAL.\n",
    "\n",
    "* Las varianzas del salario mensual NETO no presenta Homocedasticidad, por lo tanto podemos decir que no son iguales para la subpoblacion HOMBRES y MUJERES de nuesta muestra.\n",
    "\n",
    "* Dado que las muestras de nuestras subpoblaciones son lo suficientemente representativas y la diferencia de datos no afecta a los test realizados, podemos decir con mucha seguridad que hay una diferencia entre el salario medio mensual NETO que percibe un HOMBRE y el salario medio mensual NETO que percibe una MUJER aunque el tamaño de cada subpoblacion difiera bastante.\n",
    "\n",
    "* La diferencia de salarios medios mensuales netos ronda los 11917 ARS\\$ pudiendo alcanzar los 14333 ARS\\$ solo por la diferencia de GENERO.\n",
    "\n",
    "* En proporciones podemos decir que la diferencia de los salarios mensuales netos es del 14%, pudiendo llegar a ser la brecha de hasta el 17%. \n",
    "\n",
    "* En el mejor de los casos una MUJER que se desempeñe como programadora en Argentina cobraria en promedio 9500 ARS\\$ menos que un HOMBRE.\n",
    "\n",
    "* En proporciones, esto equivaldria a decir que una MUJER cobra en el mejor de los casos un 11% menos que un HOMBRE.\n",
    "\n",
    "* En otras palabras se podria expresar que por cada 1 ARS$ que gana un HOMBRE que se desempeña como programador una MUJER que se desemepeña como programadora gana entre 0.85 ARS\\$ y 0.90 ARS\\$, solo por ser MUJER.\n",
    "\n",
    "* Ambas muestras son lo suficientemente grandes para indicar que estos valores son representativos de la tendencia general de los salarios mensuales NETOS que perciben los programadores en Argentina.(hasta un poder estadistico del 0.9)\n",
    "\n",
    "* Lamentablemente podemos decir con un buen nivel de seguridad que actualmente las MUJERES que trabajan como programadoras en Argentina, solo por ser MUJERES, cobran en promedio menos que los HOMBRES que trabajan como programadores en Argentina  :(  .\n",
    "\n",
    "\n",
    "\n"
   ]
  },
  {
   "cell_type": "markdown",
   "metadata": {
    "id": "useKMdPyMod5"
   },
   "source": [
    "## Ejercicio 3: Comunicación y visualización\n",
    "\n",
    "**Consigna:** Seleccionen un resultado que les parezca relevante a partir de alguno de los ejercicios del entregable. Diseñe e implemente una comunicación en base a este mensaje, en un archivo PDF.\n",
    "\n",
    "Elija las palabras y visualización más adecuada para que la comunicación sea entendible, efectiva y se dapte a UNA de las siguientes situaciones:\n",
    "\n",
    "1. Una sección en un artículo de difusión a presentar como parte de una organización sin fines de lucro.\n",
    "No más de 1 página A4 (o dos si los gráficos son muy grandes).\n",
    "  1. Ejemplo: Alguna de las secciones [Los ecosistemas de emprendimiento de América Latina y el Caribe frente al COVID-19: Impactos, necesidades y recomendaciones](https://publications.iadb.org/es/los-ecosistemas-de-emprendimiento-de-america-latina-y-el-caribe-frente-al-covid-19-impactos-necesidades-y-recomendaciones), por ejemplo la sección *2.2. Reacciones de los emprendedores*.\n",
    "  2. Ejemplo: Alguna de las secciones de [The state of gender pay gap in 2021](https://www.payscale.com/data/gender-pay-gap?tk=carousel-ps-rc-job)\n",
    "  3. Puntos clave: \n",
    "    1. Simpleza de los gráficos.\n",
    "    2. Comunicación en lenguaje simple a personas que no son necesariamente expertos de dominio.\n",
    "    2. Selección de UNA oración sobre la que se hace énfasis.\n",
    "    3. No es necesario que mencionen objetivos ni descripciones del conjunto de datos, se supone que eso ya estaría explicado en otras secciones del informe.\n",
    "\n",
    "2. Una publicación científica o reporte técnico interno. No más de una página A4:\n",
    "  2. Ejemplo: La sección de resultados de [IZA DP No. 12914: The Impact of a Minimum Wage Change on the Distribution of Wages and Household Income](https://www.iza.org/publications/dp/12914/the-impact-of-a-minimum-wage-change-on-the-distribution-of-wages-and-household-income).\n",
    "  2. Ejemplo: Alguna de las secciones de [Temporary reduction in daily global CO2 emissions during the COVID-19 forced confinement](https://www.nature.com/articles/s41558-020-0797-x)\n",
    "  3. Puntos clave:\n",
    "    3. Nivel de detalle técnico requerido. Es necesario justificar la validez del análisis.\n",
    "    4. La idea presentada puede ser más compleja. Pueden asumir que la audiencia tiene conocimiento técnico y va a analizar las visualizaciones en detalle. \n",
    "    5. Pueden presentar más en detalle las limitaciones del análisis (significancia estadística, etc.)\n",
    "    2. No es necesario que mencionen objetivos ni descripciones del conjunto de datos, se supone que eso ya estaría explicado en otras secciones del informe.\n",
    "\n",
    "3. Un tweet (o post de LinkedIn) para la cuenta de su empresa consultora que hace análisis de datos. El objetivo es promocionar un análisis de datos abiertos que van a incluir en su portfolio:\n",
    "  1. Ejemplo: [Comparación vacunas covid](https://twitter.com/infobeautiful/status/1381577746527236098?s=20)\n",
    "  2. Ejemplo: [Tweet del BID](https://twitter.com/el_BID/status/1388508583944507396?s=20). Lo valioso de este tweet es que usaron un único número para transmitir un mensaje. Puede ser algo así, o con un gráfico muy simple.\n",
    "  3. Ejemplo: [Cambio climático](https://twitter.com/UNFCCC/status/1387732156190011394?s=20) Es un muy buen ejemplo, excepto que el gráfico no se lee nada y hay que entrar a la publicación original.\n",
    "  3. Ejemplo: [¿Cuánto están los programadores en las empresas?](https://www.linkedin.com/posts/denis-rothman-0b034043_tech-career-work-activity-6793861923269054464-gS6y) (No verificamos la veracidad o seriedad de la fuente).\n",
    "  4. Puntos clave:\n",
    "    1. Su audiencia no va a mirar la visualización por más de unos segundos, y no tiene conocimiento técnico.\n",
    "  3. Tienen que incluir además una *breve* descripción de cómo obtuvieron los datos que están presentando, que no entraría en el tweet.\n"
   ]
  },
  {
   "cell_type": "code",
   "execution_count": 23,
   "metadata": {
    "id": "twwYHUztt45L"
   },
   "outputs": [],
   "source": [
    "rango_edades =[30,50,70]\n",
    "min_a = groupA.mean() - LI\n",
    "min_b = groupB.mean() - LI\n",
    "media_a = groupA.mean()\n",
    "media_b = groupB.mean()\n",
    "max_a = groupA.mean() + LS\n",
    "max_b = groupB.mean() + LS\n",
    "min_b_a = round(min_b/min_a,2)\n",
    "med_b_a = round(media_b/media_a,2)\n",
    "max_b_a = round(max_b/max_a,2)"
   ]
  },
  {
   "cell_type": "code",
   "execution_count": 24,
   "metadata": {
    "colab": {
     "base_uri": "https://localhost:8080/",
     "height": 625
    },
    "id": "k6MKYEZ4sQyT",
    "outputId": "2a78fdb1-ee04-4add-e7dc-06d8ae694291"
   },
   "outputs": [
    {
     "data": {
      "image/png": "[encoded data removed]",
      "text/plain": [
       "<Figure size 648x720 with 1 Axes>"
      ]
     },
     "metadata": {},
     "output_type": "display_data"
    }
   ],
   "source": [
    "fig, ax = plt.subplots(ncols=1, nrows=1, figsize=(9,10))\n",
    "fig.patch.set_facecolor('white')\n",
    "rango = ['Min', 'Med', 'Max']\n",
    "salarios = {'Hombre':[1, 1, 1], 'Mujer':[min_b_a, med_b_a, max_b_a]}\n",
    "ax.plot(rango, salarios['Hombre'], marker = 'o', label=\"Sal. Hombre\", color ='lightseagreen')\n",
    "ax.plot(rango, salarios['Mujer'], marker = 'o', label=\"Sal. Mujer\",color='firebrick')\n",
    "\n",
    "ax.set_title('Brecha salarial programadores en Argentina')\n",
    "ax.legend()\n",
    "#plt.xlabel(\"Rango\")\n",
    "plt.ylabel(\"ARS$\")\n",
    "plt.grid(axis= 'y',color='lightgrey', linestyle='--', linewidth=2)\n",
    "for i in range(len(rango)):\n",
    "  ax.text(rango[i],salarios['Hombre'][i]+0.02, f\"${salarios['Hombre'][i]}\", fontsize =12, horizontalalignment = 'center', fontweight='demibold')\n",
    "  ax.text(rango[i],salarios['Mujer'][i]+0.02, f\"${salarios['Mujer'][i]}\", fontsize =12, horizontalalignment = 'center', fontweight='demibold')\n",
    "\n",
    "plt.ylim(min_b_a-0.85,1.04)\n",
    "plt.show()"
   ]
  },
  {
   "cell_type": "markdown",
   "metadata": {
    "id": "IHVaHWPzE709"
   },
   "source": []
  }
 ],
 "metadata": {
  "colab": {
   "collapsed_sections": [],
   "name": "Entregable_Parte_2_Grupo_21_v2.ipynb",
   "provenance": []
  },
  "kernelspec": {
   "display_name": "Python 3 (ipykernel)",
   "language": "python",
   "name": "python3"
  },
  "language_info": {
   "codemirror_mode": {
    "name": "ipython",
    "version": 3
   },
   "file_extension": ".py",
   "mimetype": "text/x-python",
   "name": "python",
   "nbconvert_exporter": "python",
   "pygments_lexer": "ipython3",
   "version": "3.9.1"
  }
 },
 "nbformat": 4,
 "nbformat_minor": 1
}
