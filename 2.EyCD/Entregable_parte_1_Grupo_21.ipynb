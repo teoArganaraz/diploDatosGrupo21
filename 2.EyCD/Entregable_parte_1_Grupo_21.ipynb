{
 "cells": [
  {
   "cell_type": "markdown",
   "id": "e0ff301b-5595-4a0b-a2b8-3d5609a0485d",
   "metadata": {
    "id": "e0ff301b-5595-4a0b-a2b8-3d5609a0485d"
   },
   "source": [
    "**Diplomatura en Ciencia de Datos, Aprendizaje Automático y sus Aplicaciones**\n",
    "\n",
    "**Exploración y Curación de Datos**\n",
    "\n",
    "*Edición 2022*\n",
    "\n",
    "----\n",
    "\n",
    "# Trabajo práctico entregable - parte 1\n",
    "\n",
    "En esta notebook, vamos a cargar el conjunto de datos de [la compentencia Kaggle](https://www.kaggle.com/dansbecker/melbourne-housing-snapshot) sobre estimación de precios de ventas de propiedades en Melbourne, Australia.\n",
    "\n",
    "Utilizaremos el conjunto de datos reducido producido por [DanB](https://www.kaggle.com/dansbecker). Hemos subido una copia a un servidor de la Universidad Nacional de Córdoba para facilitar su acceso remoto."
   ]
  },
  {
   "cell_type": "code",
   "execution_count": 1,
   "id": "f5ac98f7-51f3-4f91-ac49-60ef5fe249be",
   "metadata": {
    "colab": {
     "base_uri": "https://localhost:8080/"
    },
    "executionInfo": {
     "elapsed": 3070,
     "status": "ok",
     "timestamp": 1656110472887,
     "user": {
      "displayName": "Federico Bosack",
      "userId": "11160353378770070862"
     },
     "user_tz": 180
    },
    "id": "f5ac98f7-51f3-4f91-ac49-60ef5fe249be",
    "outputId": "c03c5f06-7276-4942-ced5-1b3be5e84d56"
   },
   "outputs": [],
   "source": [
    "import matplotlib.pyplot as plt\n",
    "import numpy\n",
    "import pandas as pd\n",
    "\n",
    "import seaborn\n",
    "seaborn.set_context('talk')\n",
    "\n",
    "#!pip install python-decouple\n",
    "#from decouple import config\n",
    "from sqlalchemy import create_engine, text\n"
   ]
  },
  {
   "cell_type": "code",
   "execution_count": 2,
   "id": "ce478cbd-0f49-4f15-8dc5-1fe1a5b39f17",
   "metadata": {
    "colab": {
     "base_uri": "https://localhost:8080/",
     "height": 35
    },
    "executionInfo": {
     "elapsed": 25,
     "status": "ok",
     "timestamp": 1656110472888,
     "user": {
      "displayName": "Federico Bosack",
      "userId": "11160353378770070862"
     },
     "user_tz": 180
    },
    "id": "ce478cbd-0f49-4f15-8dc5-1fe1a5b39f17",
    "outputId": "dec9a5aa-76f1-497f-aeb7-83e46ec2b88b"
   },
   "outputs": [
    {
     "data": {
      "text/plain": [
       "'5.7.0'"
      ]
     },
     "execution_count": 2,
     "metadata": {},
     "output_type": "execute_result"
    }
   ],
   "source": [
    "import plotly\n",
    "plotly.__version__\n",
    "# Make sure it's 4.14.3"
   ]
  },
  {
   "cell_type": "code",
   "execution_count": 3,
   "id": "5ba8bfd5-199a-4390-a5b4-11ec9669b3e1",
   "metadata": {
    "colab": {
     "base_uri": "https://localhost:8080/",
     "height": 260
    },
    "executionInfo": {
     "elapsed": 3233,
     "status": "ok",
     "timestamp": 1656110476105,
     "user": {
      "displayName": "Federico Bosack",
      "userId": "11160353378770070862"
     },
     "user_tz": 180
    },
    "id": "5ba8bfd5-199a-4390-a5b4-11ec9669b3e1",
    "outputId": "b50d04d5-1162-4f6b-e893-81afc68693bd"
   },
   "outputs": [
    {
     "name": "stdout",
     "output_type": "stream",
     "text": [
      "Index(['Suburb', 'Address', 'Rooms', 'Type', 'Price', 'Method', 'SellerG',\n",
      "       'Date', 'Distance', 'Postcode', 'Bedroom2', 'Bathroom', 'Car',\n",
      "       'Landsize', 'BuildingArea', 'YearBuilt', 'CouncilArea', 'Lattitude',\n",
      "       'Longtitude', 'Regionname', 'Propertycount'],\n",
      "      dtype='object')\n"
     ]
    },
    {
     "data": {
      "text/html": [
       "<div>\n",
       "<style scoped>\n",
       "    .dataframe tbody tr th:only-of-type {\n",
       "        vertical-align: middle;\n",
       "    }\n",
       "\n",
       "    .dataframe tbody tr th {\n",
       "        vertical-align: top;\n",
       "    }\n",
       "\n",
       "    .dataframe thead th {\n",
       "        text-align: right;\n",
       "    }\n",
       "</style>\n",
       "<table border=\"1\" class=\"dataframe\">\n",
       "  <thead>\n",
       "    <tr style=\"text-align: right;\">\n",
       "      <th></th>\n",
       "      <th>Suburb</th>\n",
       "      <th>Address</th>\n",
       "      <th>Rooms</th>\n",
       "      <th>Type</th>\n",
       "      <th>Price</th>\n",
       "      <th>Method</th>\n",
       "      <th>SellerG</th>\n",
       "      <th>Date</th>\n",
       "      <th>Distance</th>\n",
       "      <th>Postcode</th>\n",
       "      <th>...</th>\n",
       "      <th>Bathroom</th>\n",
       "      <th>Car</th>\n",
       "      <th>Landsize</th>\n",
       "      <th>BuildingArea</th>\n",
       "      <th>YearBuilt</th>\n",
       "      <th>CouncilArea</th>\n",
       "      <th>Lattitude</th>\n",
       "      <th>Longtitude</th>\n",
       "      <th>Regionname</th>\n",
       "      <th>Propertycount</th>\n",
       "    </tr>\n",
       "  </thead>\n",
       "  <tbody>\n",
       "    <tr>\n",
       "      <th>0</th>\n",
       "      <td>Abbotsford</td>\n",
       "      <td>85 Turner St</td>\n",
       "      <td>2</td>\n",
       "      <td>h</td>\n",
       "      <td>1480000.0</td>\n",
       "      <td>S</td>\n",
       "      <td>Biggin</td>\n",
       "      <td>3/12/2016</td>\n",
       "      <td>2.5</td>\n",
       "      <td>3067.0</td>\n",
       "      <td>...</td>\n",
       "      <td>1.0</td>\n",
       "      <td>1.0</td>\n",
       "      <td>202.0</td>\n",
       "      <td>NaN</td>\n",
       "      <td>NaN</td>\n",
       "      <td>Yarra</td>\n",
       "      <td>-37.7996</td>\n",
       "      <td>144.9984</td>\n",
       "      <td>Northern Metropolitan</td>\n",
       "      <td>4019.0</td>\n",
       "    </tr>\n",
       "    <tr>\n",
       "      <th>1</th>\n",
       "      <td>Abbotsford</td>\n",
       "      <td>25 Bloomburg St</td>\n",
       "      <td>2</td>\n",
       "      <td>h</td>\n",
       "      <td>1035000.0</td>\n",
       "      <td>S</td>\n",
       "      <td>Biggin</td>\n",
       "      <td>4/02/2016</td>\n",
       "      <td>2.5</td>\n",
       "      <td>3067.0</td>\n",
       "      <td>...</td>\n",
       "      <td>1.0</td>\n",
       "      <td>0.0</td>\n",
       "      <td>156.0</td>\n",
       "      <td>79.0</td>\n",
       "      <td>1900.0</td>\n",
       "      <td>Yarra</td>\n",
       "      <td>-37.8079</td>\n",
       "      <td>144.9934</td>\n",
       "      <td>Northern Metropolitan</td>\n",
       "      <td>4019.0</td>\n",
       "    </tr>\n",
       "    <tr>\n",
       "      <th>2</th>\n",
       "      <td>Abbotsford</td>\n",
       "      <td>5 Charles St</td>\n",
       "      <td>3</td>\n",
       "      <td>h</td>\n",
       "      <td>1465000.0</td>\n",
       "      <td>SP</td>\n",
       "      <td>Biggin</td>\n",
       "      <td>4/03/2017</td>\n",
       "      <td>2.5</td>\n",
       "      <td>3067.0</td>\n",
       "      <td>...</td>\n",
       "      <td>2.0</td>\n",
       "      <td>0.0</td>\n",
       "      <td>134.0</td>\n",
       "      <td>150.0</td>\n",
       "      <td>1900.0</td>\n",
       "      <td>Yarra</td>\n",
       "      <td>-37.8093</td>\n",
       "      <td>144.9944</td>\n",
       "      <td>Northern Metropolitan</td>\n",
       "      <td>4019.0</td>\n",
       "    </tr>\n",
       "  </tbody>\n",
       "</table>\n",
       "<p>3 rows × 21 columns</p>\n",
       "</div>"
      ],
      "text/plain": [
       "       Suburb          Address  Rooms Type      Price Method SellerG  \\\n",
       "0  Abbotsford     85 Turner St      2    h  1480000.0      S  Biggin   \n",
       "1  Abbotsford  25 Bloomburg St      2    h  1035000.0      S  Biggin   \n",
       "2  Abbotsford     5 Charles St      3    h  1465000.0     SP  Biggin   \n",
       "\n",
       "        Date  Distance  Postcode  ...  Bathroom  Car  Landsize  BuildingArea  \\\n",
       "0  3/12/2016       2.5    3067.0  ...       1.0  1.0     202.0           NaN   \n",
       "1  4/02/2016       2.5    3067.0  ...       1.0  0.0     156.0          79.0   \n",
       "2  4/03/2017       2.5    3067.0  ...       2.0  0.0     134.0         150.0   \n",
       "\n",
       "   YearBuilt  CouncilArea Lattitude  Longtitude             Regionname  \\\n",
       "0        NaN        Yarra  -37.7996    144.9984  Northern Metropolitan   \n",
       "1     1900.0        Yarra  -37.8079    144.9934  Northern Metropolitan   \n",
       "2     1900.0        Yarra  -37.8093    144.9944  Northern Metropolitan   \n",
       "\n",
       "  Propertycount  \n",
       "0        4019.0  \n",
       "1        4019.0  \n",
       "2        4019.0  \n",
       "\n",
       "[3 rows x 21 columns]"
      ]
     },
     "execution_count": 3,
     "metadata": {},
     "output_type": "execute_result"
    }
   ],
   "source": [
    "melb_df = pd.read_csv(\n",
    "    'https://cs.famaf.unc.edu.ar/~mteruel/datasets/diplodatos/melb_data.csv')\n",
    "print(melb_df.columns)\n",
    "melb_df[:3]"
   ]
  },
  {
   "cell_type": "code",
   "execution_count": 4,
   "id": "ZUT3hm6ra713",
   "metadata": {
    "colab": {
     "base_uri": "https://localhost:8080/",
     "height": 222
    },
    "executionInfo": {
     "elapsed": 15605,
     "status": "ok",
     "timestamp": 1656110491695,
     "user": {
      "displayName": "Federico Bosack",
      "userId": "11160353378770070862"
     },
     "user_tz": 180
    },
    "id": "ZUT3hm6ra713",
    "outputId": "aeb720fe-b095-49fe-ba0d-92b5ff351624"
   },
   "outputs": [
    {
     "name": "stderr",
     "output_type": "stream",
     "text": [
      "C:\\Users\\teoas\\AppData\\Local\\Temp\\ipykernel_19084\\2563720529.py:6: DtypeWarning: Columns (35) have mixed types. Specify dtype option on import or set low_memory=False.\n",
      "  airbnb_df = pd.read_csv(\n"
     ]
    },
    {
     "data": {
      "text/html": [
       "<div>\n",
       "<style scoped>\n",
       "    .dataframe tbody tr th:only-of-type {\n",
       "        vertical-align: middle;\n",
       "    }\n",
       "\n",
       "    .dataframe tbody tr th {\n",
       "        vertical-align: top;\n",
       "    }\n",
       "\n",
       "    .dataframe thead th {\n",
       "        text-align: right;\n",
       "    }\n",
       "</style>\n",
       "<table border=\"1\" class=\"dataframe\">\n",
       "  <thead>\n",
       "    <tr style=\"text-align: right;\">\n",
       "      <th></th>\n",
       "      <th>description</th>\n",
       "      <th>neighborhood_overview</th>\n",
       "      <th>street</th>\n",
       "      <th>neighborhood</th>\n",
       "      <th>city</th>\n",
       "      <th>suburb</th>\n",
       "      <th>state</th>\n",
       "      <th>zipcode</th>\n",
       "      <th>latitude</th>\n",
       "      <th>longitude</th>\n",
       "      <th>price</th>\n",
       "      <th>weekly_price</th>\n",
       "      <th>monthly_price</th>\n",
       "    </tr>\n",
       "  </thead>\n",
       "  <tbody>\n",
       "    <tr>\n",
       "      <th>0</th>\n",
       "      <td>House: Clean, New, Modern, Quite, Safe. 10Km f...</td>\n",
       "      <td>Very safe! Family oriented. Older age group.</td>\n",
       "      <td>Bulleen, VIC, Australia</td>\n",
       "      <td>Balwyn North</td>\n",
       "      <td>Manningham</td>\n",
       "      <td>Bulleen</td>\n",
       "      <td>VIC</td>\n",
       "      <td>3105</td>\n",
       "      <td>-37.772684</td>\n",
       "      <td>145.092133</td>\n",
       "      <td>60</td>\n",
       "      <td>NaN</td>\n",
       "      <td>NaN</td>\n",
       "    </tr>\n",
       "    <tr>\n",
       "      <th>1</th>\n",
       "      <td>A large air conditioned room with queen spring...</td>\n",
       "      <td>This hip area is a crossroads between two grea...</td>\n",
       "      <td>Brunswick East, VIC, Australia</td>\n",
       "      <td>Brunswick</td>\n",
       "      <td>Moreland</td>\n",
       "      <td>Brunswick East</td>\n",
       "      <td>VIC</td>\n",
       "      <td>3057</td>\n",
       "      <td>-37.766505</td>\n",
       "      <td>144.980736</td>\n",
       "      <td>35</td>\n",
       "      <td>200.0</td>\n",
       "      <td>803.0</td>\n",
       "    </tr>\n",
       "    <tr>\n",
       "      <th>2</th>\n",
       "      <td>RIGHT IN THE HEART OF ST KILDA! It doesn't get...</td>\n",
       "      <td>A stay at our apartment means you can enjoy so...</td>\n",
       "      <td>St Kilda, VIC, Australia</td>\n",
       "      <td>St Kilda</td>\n",
       "      <td>Port Phillip</td>\n",
       "      <td>St Kilda</td>\n",
       "      <td>VIC</td>\n",
       "      <td>3182</td>\n",
       "      <td>-37.859755</td>\n",
       "      <td>144.977369</td>\n",
       "      <td>159</td>\n",
       "      <td>1253.0</td>\n",
       "      <td>4452.0</td>\n",
       "    </tr>\n",
       "  </tbody>\n",
       "</table>\n",
       "</div>"
      ],
      "text/plain": [
       "                                         description  \\\n",
       "0  House: Clean, New, Modern, Quite, Safe. 10Km f...   \n",
       "1  A large air conditioned room with queen spring...   \n",
       "2  RIGHT IN THE HEART OF ST KILDA! It doesn't get...   \n",
       "\n",
       "                               neighborhood_overview  \\\n",
       "0       Very safe! Family oriented. Older age group.   \n",
       "1  This hip area is a crossroads between two grea...   \n",
       "2  A stay at our apartment means you can enjoy so...   \n",
       "\n",
       "                           street  neighborhood          city          suburb  \\\n",
       "0         Bulleen, VIC, Australia  Balwyn North    Manningham         Bulleen   \n",
       "1  Brunswick East, VIC, Australia     Brunswick      Moreland  Brunswick East   \n",
       "2        St Kilda, VIC, Australia      St Kilda  Port Phillip        St Kilda   \n",
       "\n",
       "  state zipcode   latitude   longitude  price  weekly_price  monthly_price  \n",
       "0   VIC    3105 -37.772684  145.092133     60           NaN            NaN  \n",
       "1   VIC    3057 -37.766505  144.980736     35         200.0          803.0  \n",
       "2   VIC    3182 -37.859755  144.977369    159        1253.0         4452.0  "
      ]
     },
     "execution_count": 4,
     "metadata": {},
     "output_type": "execute_result"
    }
   ],
   "source": [
    "interesting_cols = [\n",
    "  'description', 'neighborhood_overview',\n",
    "  'street', 'neighborhood', 'city', 'suburb', 'state', 'zipcode',\n",
    "  'price', 'weekly_price', 'monthly_price',\n",
    "  'latitude', 'longitude']\n",
    "airbnb_df = pd.read_csv(\n",
    "    'https://cs.famaf.unc.edu.ar/~mteruel/datasets/diplodatos/cleansed_listings_dec18.csv',\n",
    "    usecols=interesting_cols)\n",
    "\n",
    "airbnb_df[:3]"
   ]
  },
  {
   "cell_type": "markdown",
   "id": "6cffe5bf-2498-498c-aa06-3e61422d91e6",
   "metadata": {
    "id": "6cffe5bf-2498-498c-aa06-3e61422d91e6"
   },
   "source": [
    "## Ejercicio 1 SQL: \n",
    "\n",
    "1. Crear una base de datos en SQLite utilizando la libreria [SQLalchemy](https://stackoverflow.com/questions/2268050/execute-sql-from-file-in-sqlalchemy).\n",
    "https://docs.sqlalchemy.org/en/14/core/engines.html#sqlite\n",
    "\n",
    "2. Ingestar los datos provistos en 'https://cs.famaf.unc.edu.ar/~mteruel/datasets/diplodatos/melb_data.csv' en una tabla y el dataset generado en clase con datos de airbnb y sus precios por codigo postal en otra.\n",
    "\n",
    "3. Implementar consultas en SQL que respondan con la siguiente información:\n",
    "\n",
    "    - cantidad de registros totales por ciudad.\n",
    "    - cantidad de registros totales por barrio y ciudad.\n",
    "\n",
    "4. Combinar los datasets de ambas tablas ingestadas utilizando el comando JOIN de SQL  para obtener un resultado similar a lo realizado con Pandas en clase.  \n",
    "\n"
   ]
  },
  {
   "cell_type": "markdown",
   "id": "Jv50jv1fOudA",
   "metadata": {
    "id": "Jv50jv1fOudA"
   },
   "source": [
    "### 1.1 y 1.2"
   ]
  },
  {
   "cell_type": "code",
   "execution_count": 5,
   "id": "McrleRdcC8YW",
   "metadata": {
    "executionInfo": {
     "elapsed": 8332,
     "status": "ok",
     "timestamp": 1656110500017,
     "user": {
      "displayName": "Federico Bosack",
      "userId": "11160353378770070862"
     },
     "user_tz": 180
    },
    "id": "McrleRdcC8YW"
   },
   "outputs": [
    {
     "data": {
      "text/plain": [
       "22895"
      ]
     },
     "execution_count": 5,
     "metadata": {},
     "output_type": "execute_result"
    }
   ],
   "source": [
    "#1.1\n",
    "#Creamos conexion base de datos\n",
    "engine = create_engine('sqlite:///grupo_21.sqlite3')\n",
    "#1.2\n",
    "#Escribe registros a la tabla SQL creada para los datos de Melbourne\n",
    "melb_df.to_sql('melbourneData', con=engine, if_exists=\"replace\")\n",
    "#Escribe registros a la tabla SQL creada para los datos de Airbnb\n",
    "airbnb_df.to_sql('airbnbData', con=engine, if_exists=\"replace\")"
   ]
  },
  {
   "cell_type": "markdown",
   "id": "3n3j6doGgr59",
   "metadata": {
    "id": "3n3j6doGgr59"
   },
   "source": [
    "###1.3. Implementar consultas en SQL que respondan con la siguiente información:"
   ]
  },
  {
   "cell_type": "markdown",
   "id": "UjIwCRiBg2fj",
   "metadata": {
    "id": "UjIwCRiBg2fj"
   },
   "source": [
    "####**1.3.1 Cantidad de registros totales por ciudad.**"
   ]
  },
  {
   "cell_type": "markdown",
   "id": "U5PCMNGfH3d2",
   "metadata": {
    "id": "U5PCMNGfH3d2"
   },
   "source": [
    "#####**melbourneData**\n",
    "es CouncilArea ciudad?"
   ]
  },
  {
   "cell_type": "code",
   "execution_count": 6,
   "id": "rUCMIfNOG22W",
   "metadata": {
    "colab": {
     "base_uri": "https://localhost:8080/",
     "height": 1000
    },
    "executionInfo": {
     "elapsed": 53,
     "status": "ok",
     "timestamp": 1656110500019,
     "user": {
      "displayName": "Federico Bosack",
      "userId": "11160353378770070862"
     },
     "user_tz": 180
    },
    "id": "rUCMIfNOG22W",
    "outputId": "1d6dbc71-61f9-4741-fce0-613119226f6b"
   },
   "outputs": [
    {
     "data": {
      "text/html": [
       "<div>\n",
       "<style scoped>\n",
       "    .dataframe tbody tr th:only-of-type {\n",
       "        vertical-align: middle;\n",
       "    }\n",
       "\n",
       "    .dataframe tbody tr th {\n",
       "        vertical-align: top;\n",
       "    }\n",
       "\n",
       "    .dataframe thead th {\n",
       "        text-align: right;\n",
       "    }\n",
       "</style>\n",
       "<table border=\"1\" class=\"dataframe\">\n",
       "  <thead>\n",
       "    <tr style=\"text-align: right;\">\n",
       "      <th></th>\n",
       "      <th>City</th>\n",
       "      <th>Registros_Totales</th>\n",
       "    </tr>\n",
       "  </thead>\n",
       "  <tbody>\n",
       "    <tr>\n",
       "      <th>0</th>\n",
       "      <td>Moreland</td>\n",
       "      <td>1163</td>\n",
       "    </tr>\n",
       "    <tr>\n",
       "      <th>1</th>\n",
       "      <td>Boroondara</td>\n",
       "      <td>1160</td>\n",
       "    </tr>\n",
       "    <tr>\n",
       "      <th>2</th>\n",
       "      <td>Moonee Valley</td>\n",
       "      <td>997</td>\n",
       "    </tr>\n",
       "    <tr>\n",
       "      <th>3</th>\n",
       "      <td>Darebin</td>\n",
       "      <td>934</td>\n",
       "    </tr>\n",
       "    <tr>\n",
       "      <th>4</th>\n",
       "      <td>Glen Eira</td>\n",
       "      <td>848</td>\n",
       "    </tr>\n",
       "    <tr>\n",
       "      <th>5</th>\n",
       "      <td>Stonnington</td>\n",
       "      <td>719</td>\n",
       "    </tr>\n",
       "    <tr>\n",
       "      <th>6</th>\n",
       "      <td>Maribyrnong</td>\n",
       "      <td>692</td>\n",
       "    </tr>\n",
       "    <tr>\n",
       "      <th>7</th>\n",
       "      <td>Yarra</td>\n",
       "      <td>647</td>\n",
       "    </tr>\n",
       "    <tr>\n",
       "      <th>8</th>\n",
       "      <td>Port Phillip</td>\n",
       "      <td>628</td>\n",
       "    </tr>\n",
       "    <tr>\n",
       "      <th>9</th>\n",
       "      <td>Banyule</td>\n",
       "      <td>594</td>\n",
       "    </tr>\n",
       "    <tr>\n",
       "      <th>10</th>\n",
       "      <td>Bayside</td>\n",
       "      <td>489</td>\n",
       "    </tr>\n",
       "    <tr>\n",
       "      <th>11</th>\n",
       "      <td>Melbourne</td>\n",
       "      <td>470</td>\n",
       "    </tr>\n",
       "    <tr>\n",
       "      <th>12</th>\n",
       "      <td>Hobsons Bay</td>\n",
       "      <td>434</td>\n",
       "    </tr>\n",
       "    <tr>\n",
       "      <th>13</th>\n",
       "      <td>Brimbank</td>\n",
       "      <td>424</td>\n",
       "    </tr>\n",
       "    <tr>\n",
       "      <th>14</th>\n",
       "      <td>Monash</td>\n",
       "      <td>333</td>\n",
       "    </tr>\n",
       "    <tr>\n",
       "      <th>15</th>\n",
       "      <td>Manningham</td>\n",
       "      <td>311</td>\n",
       "    </tr>\n",
       "    <tr>\n",
       "      <th>16</th>\n",
       "      <td>Whitehorse</td>\n",
       "      <td>304</td>\n",
       "    </tr>\n",
       "    <tr>\n",
       "      <th>17</th>\n",
       "      <td>Kingston</td>\n",
       "      <td>207</td>\n",
       "    </tr>\n",
       "    <tr>\n",
       "      <th>18</th>\n",
       "      <td>Whittlesea</td>\n",
       "      <td>167</td>\n",
       "    </tr>\n",
       "    <tr>\n",
       "      <th>19</th>\n",
       "      <td>Hume</td>\n",
       "      <td>164</td>\n",
       "    </tr>\n",
       "    <tr>\n",
       "      <th>20</th>\n",
       "      <td>Wyndham</td>\n",
       "      <td>86</td>\n",
       "    </tr>\n",
       "    <tr>\n",
       "      <th>21</th>\n",
       "      <td>Knox</td>\n",
       "      <td>80</td>\n",
       "    </tr>\n",
       "    <tr>\n",
       "      <th>22</th>\n",
       "      <td>Maroondah</td>\n",
       "      <td>80</td>\n",
       "    </tr>\n",
       "    <tr>\n",
       "      <th>23</th>\n",
       "      <td>Melton</td>\n",
       "      <td>66</td>\n",
       "    </tr>\n",
       "    <tr>\n",
       "      <th>24</th>\n",
       "      <td>Frankston</td>\n",
       "      <td>53</td>\n",
       "    </tr>\n",
       "    <tr>\n",
       "      <th>25</th>\n",
       "      <td>Greater Dandenong</td>\n",
       "      <td>52</td>\n",
       "    </tr>\n",
       "    <tr>\n",
       "      <th>26</th>\n",
       "      <td>Casey</td>\n",
       "      <td>38</td>\n",
       "    </tr>\n",
       "    <tr>\n",
       "      <th>27</th>\n",
       "      <td>Nillumbik</td>\n",
       "      <td>36</td>\n",
       "    </tr>\n",
       "    <tr>\n",
       "      <th>28</th>\n",
       "      <td>Yarra Ranges</td>\n",
       "      <td>18</td>\n",
       "    </tr>\n",
       "    <tr>\n",
       "      <th>29</th>\n",
       "      <td>Cardinia</td>\n",
       "      <td>8</td>\n",
       "    </tr>\n",
       "    <tr>\n",
       "      <th>30</th>\n",
       "      <td>Macedon Ranges</td>\n",
       "      <td>7</td>\n",
       "    </tr>\n",
       "    <tr>\n",
       "      <th>31</th>\n",
       "      <td>Moorabool</td>\n",
       "      <td>1</td>\n",
       "    </tr>\n",
       "    <tr>\n",
       "      <th>32</th>\n",
       "      <td>Unavailable</td>\n",
       "      <td>1</td>\n",
       "    </tr>\n",
       "  </tbody>\n",
       "</table>\n",
       "</div>"
      ],
      "text/plain": [
       "                 City  Registros_Totales\n",
       "0            Moreland               1163\n",
       "1          Boroondara               1160\n",
       "2       Moonee Valley                997\n",
       "3             Darebin                934\n",
       "4           Glen Eira                848\n",
       "5         Stonnington                719\n",
       "6         Maribyrnong                692\n",
       "7               Yarra                647\n",
       "8        Port Phillip                628\n",
       "9             Banyule                594\n",
       "10            Bayside                489\n",
       "11          Melbourne                470\n",
       "12        Hobsons Bay                434\n",
       "13           Brimbank                424\n",
       "14             Monash                333\n",
       "15         Manningham                311\n",
       "16         Whitehorse                304\n",
       "17           Kingston                207\n",
       "18         Whittlesea                167\n",
       "19               Hume                164\n",
       "20            Wyndham                 86\n",
       "21               Knox                 80\n",
       "22          Maroondah                 80\n",
       "23             Melton                 66\n",
       "24          Frankston                 53\n",
       "25  Greater Dandenong                 52\n",
       "26              Casey                 38\n",
       "27          Nillumbik                 36\n",
       "28       Yarra Ranges                 18\n",
       "29           Cardinia                  8\n",
       "30     Macedon Ranges                  7\n",
       "31          Moorabool                  1\n",
       "32        Unavailable                  1"
      ]
     },
     "execution_count": 6,
     "metadata": {},
     "output_type": "execute_result"
    }
   ],
   "source": [
    "query_1 = \"\"\"\n",
    "SELECT CouncilArea as City,count(*) as Registros_Totales FROM melbourneData \n",
    "where CouncilArea is not null \n",
    "group by CouncilArea \n",
    "order by Registros_Totales desc,City;\"\"\"\n",
    "pd.read_sql_query(query_1,engine)"
   ]
  },
  {
   "cell_type": "markdown",
   "id": "k8TnYZQ2H6yP",
   "metadata": {
    "id": "k8TnYZQ2H6yP"
   },
   "source": [
    "#####**airbnbData**"
   ]
  },
  {
   "cell_type": "code",
   "execution_count": 7,
   "id": "TYt4c7ixb3Oi",
   "metadata": {
    "colab": {
     "base_uri": "https://localhost:8080/",
     "height": 990
    },
    "executionInfo": {
     "elapsed": 49,
     "status": "ok",
     "timestamp": 1656110500020,
     "user": {
      "displayName": "Federico Bosack",
      "userId": "11160353378770070862"
     },
     "user_tz": 180
    },
    "id": "TYt4c7ixb3Oi",
    "outputId": "64bfb115-85c5-44ce-e0f2-f8ca5cc34cd1"
   },
   "outputs": [
    {
     "data": {
      "text/html": [
       "<div>\n",
       "<style scoped>\n",
       "    .dataframe tbody tr th:only-of-type {\n",
       "        vertical-align: middle;\n",
       "    }\n",
       "\n",
       "    .dataframe tbody tr th {\n",
       "        vertical-align: top;\n",
       "    }\n",
       "\n",
       "    .dataframe thead th {\n",
       "        text-align: right;\n",
       "    }\n",
       "</style>\n",
       "<table border=\"1\" class=\"dataframe\">\n",
       "  <thead>\n",
       "    <tr style=\"text-align: right;\">\n",
       "      <th></th>\n",
       "      <th>city</th>\n",
       "      <th>Registros_Totales</th>\n",
       "    </tr>\n",
       "  </thead>\n",
       "  <tbody>\n",
       "    <tr>\n",
       "      <th>0</th>\n",
       "      <td>Melbourne</td>\n",
       "      <td>7368</td>\n",
       "    </tr>\n",
       "    <tr>\n",
       "      <th>1</th>\n",
       "      <td>Port Phillip</td>\n",
       "      <td>2808</td>\n",
       "    </tr>\n",
       "    <tr>\n",
       "      <th>2</th>\n",
       "      <td>Yarra</td>\n",
       "      <td>2049</td>\n",
       "    </tr>\n",
       "    <tr>\n",
       "      <th>3</th>\n",
       "      <td>Stonnington</td>\n",
       "      <td>1621</td>\n",
       "    </tr>\n",
       "    <tr>\n",
       "      <th>4</th>\n",
       "      <td>Moreland</td>\n",
       "      <td>967</td>\n",
       "    </tr>\n",
       "    <tr>\n",
       "      <th>5</th>\n",
       "      <td>Yarra Ranges</td>\n",
       "      <td>771</td>\n",
       "    </tr>\n",
       "    <tr>\n",
       "      <th>6</th>\n",
       "      <td>Darebin</td>\n",
       "      <td>698</td>\n",
       "    </tr>\n",
       "    <tr>\n",
       "      <th>7</th>\n",
       "      <td>Boroondara</td>\n",
       "      <td>664</td>\n",
       "    </tr>\n",
       "    <tr>\n",
       "      <th>8</th>\n",
       "      <td>Glen Eira</td>\n",
       "      <td>631</td>\n",
       "    </tr>\n",
       "    <tr>\n",
       "      <th>9</th>\n",
       "      <td>Whitehorse</td>\n",
       "      <td>614</td>\n",
       "    </tr>\n",
       "    <tr>\n",
       "      <th>10</th>\n",
       "      <td>Monash</td>\n",
       "      <td>571</td>\n",
       "    </tr>\n",
       "    <tr>\n",
       "      <th>11</th>\n",
       "      <td>Maribyrnong</td>\n",
       "      <td>436</td>\n",
       "    </tr>\n",
       "    <tr>\n",
       "      <th>12</th>\n",
       "      <td>Wyndham</td>\n",
       "      <td>426</td>\n",
       "    </tr>\n",
       "    <tr>\n",
       "      <th>13</th>\n",
       "      <td>Bayside</td>\n",
       "      <td>375</td>\n",
       "    </tr>\n",
       "    <tr>\n",
       "      <th>14</th>\n",
       "      <td>Moonee Valley</td>\n",
       "      <td>344</td>\n",
       "    </tr>\n",
       "    <tr>\n",
       "      <th>15</th>\n",
       "      <td>Manningham</td>\n",
       "      <td>313</td>\n",
       "    </tr>\n",
       "    <tr>\n",
       "      <th>16</th>\n",
       "      <td>Kingston</td>\n",
       "      <td>309</td>\n",
       "    </tr>\n",
       "    <tr>\n",
       "      <th>17</th>\n",
       "      <td>Hobsons Bay</td>\n",
       "      <td>239</td>\n",
       "    </tr>\n",
       "    <tr>\n",
       "      <th>18</th>\n",
       "      <td>Banyule</td>\n",
       "      <td>203</td>\n",
       "    </tr>\n",
       "    <tr>\n",
       "      <th>19</th>\n",
       "      <td>Frankston</td>\n",
       "      <td>177</td>\n",
       "    </tr>\n",
       "    <tr>\n",
       "      <th>20</th>\n",
       "      <td>Knox</td>\n",
       "      <td>175</td>\n",
       "    </tr>\n",
       "    <tr>\n",
       "      <th>21</th>\n",
       "      <td>Hume</td>\n",
       "      <td>170</td>\n",
       "    </tr>\n",
       "    <tr>\n",
       "      <th>22</th>\n",
       "      <td>Casey</td>\n",
       "      <td>153</td>\n",
       "    </tr>\n",
       "    <tr>\n",
       "      <th>23</th>\n",
       "      <td>Greater Dandenong</td>\n",
       "      <td>147</td>\n",
       "    </tr>\n",
       "    <tr>\n",
       "      <th>24</th>\n",
       "      <td>Whittlesea</td>\n",
       "      <td>137</td>\n",
       "    </tr>\n",
       "    <tr>\n",
       "      <th>25</th>\n",
       "      <td>Cardinia</td>\n",
       "      <td>123</td>\n",
       "    </tr>\n",
       "    <tr>\n",
       "      <th>26</th>\n",
       "      <td>Maroondah</td>\n",
       "      <td>115</td>\n",
       "    </tr>\n",
       "    <tr>\n",
       "      <th>27</th>\n",
       "      <td>Brimbank</td>\n",
       "      <td>108</td>\n",
       "    </tr>\n",
       "    <tr>\n",
       "      <th>28</th>\n",
       "      <td>Melton</td>\n",
       "      <td>95</td>\n",
       "    </tr>\n",
       "    <tr>\n",
       "      <th>29</th>\n",
       "      <td>Nillumbik</td>\n",
       "      <td>88</td>\n",
       "    </tr>\n",
       "  </tbody>\n",
       "</table>\n",
       "</div>"
      ],
      "text/plain": [
       "                 city  Registros_Totales\n",
       "0           Melbourne               7368\n",
       "1        Port Phillip               2808\n",
       "2               Yarra               2049\n",
       "3         Stonnington               1621\n",
       "4            Moreland                967\n",
       "5        Yarra Ranges                771\n",
       "6             Darebin                698\n",
       "7          Boroondara                664\n",
       "8           Glen Eira                631\n",
       "9          Whitehorse                614\n",
       "10             Monash                571\n",
       "11        Maribyrnong                436\n",
       "12            Wyndham                426\n",
       "13            Bayside                375\n",
       "14      Moonee Valley                344\n",
       "15         Manningham                313\n",
       "16           Kingston                309\n",
       "17        Hobsons Bay                239\n",
       "18            Banyule                203\n",
       "19          Frankston                177\n",
       "20               Knox                175\n",
       "21               Hume                170\n",
       "22              Casey                153\n",
       "23  Greater Dandenong                147\n",
       "24         Whittlesea                137\n",
       "25           Cardinia                123\n",
       "26          Maroondah                115\n",
       "27           Brimbank                108\n",
       "28             Melton                 95\n",
       "29          Nillumbik                 88"
      ]
     },
     "execution_count": 7,
     "metadata": {},
     "output_type": "execute_result"
    }
   ],
   "source": [
    "query_2 = \"\"\"\n",
    "SELECT city,count(*) as Registros_Totales FROM airbnbData \n",
    "where city is not null \n",
    "group by city \n",
    "order by Registros_Totales desc,city;\"\"\"\n",
    "pd.read_sql_query(query_2,engine)"
   ]
  },
  {
   "cell_type": "markdown",
   "id": "feYBpg-9g69r",
   "metadata": {
    "id": "feYBpg-9g69r"
   },
   "source": [
    "####**1.3.2 Cantidad de registros totales por barrio y ciudad.**"
   ]
  },
  {
   "cell_type": "markdown",
   "id": "DZfecc6KIM-J",
   "metadata": {
    "id": "DZfecc6KIM-J"
   },
   "source": [
    "#####**melbourneData**\n",
    "es CouncilArea ciudad?"
   ]
  },
  {
   "cell_type": "code",
   "execution_count": 8,
   "id": "0evpP_nYIAsV",
   "metadata": {
    "colab": {
     "base_uri": "https://localhost:8080/",
     "height": 424
    },
    "executionInfo": {
     "elapsed": 49,
     "status": "ok",
     "timestamp": 1656110500023,
     "user": {
      "displayName": "Federico Bosack",
      "userId": "11160353378770070862"
     },
     "user_tz": 180
    },
    "id": "0evpP_nYIAsV",
    "outputId": "b9dffa0b-7dc8-4c57-f6ae-3399615d040f"
   },
   "outputs": [
    {
     "data": {
      "text/html": [
       "<div>\n",
       "<style scoped>\n",
       "    .dataframe tbody tr th:only-of-type {\n",
       "        vertical-align: middle;\n",
       "    }\n",
       "\n",
       "    .dataframe tbody tr th {\n",
       "        vertical-align: top;\n",
       "    }\n",
       "\n",
       "    .dataframe thead th {\n",
       "        text-align: right;\n",
       "    }\n",
       "</style>\n",
       "<table border=\"1\" class=\"dataframe\">\n",
       "  <thead>\n",
       "    <tr style=\"text-align: right;\">\n",
       "      <th></th>\n",
       "      <th>neighborhood</th>\n",
       "      <th>City</th>\n",
       "      <th>Registros_Totales</th>\n",
       "    </tr>\n",
       "  </thead>\n",
       "  <tbody>\n",
       "    <tr>\n",
       "      <th>0</th>\n",
       "      <td>Reservoir</td>\n",
       "      <td>Darebin</td>\n",
       "      <td>323</td>\n",
       "    </tr>\n",
       "    <tr>\n",
       "      <th>1</th>\n",
       "      <td>Richmond</td>\n",
       "      <td>Yarra</td>\n",
       "      <td>251</td>\n",
       "    </tr>\n",
       "    <tr>\n",
       "      <th>2</th>\n",
       "      <td>Bentleigh East</td>\n",
       "      <td>Glen Eira</td>\n",
       "      <td>234</td>\n",
       "    </tr>\n",
       "    <tr>\n",
       "      <th>3</th>\n",
       "      <td>Preston</td>\n",
       "      <td>Darebin</td>\n",
       "      <td>228</td>\n",
       "    </tr>\n",
       "    <tr>\n",
       "      <th>4</th>\n",
       "      <td>Brunswick</td>\n",
       "      <td>Moreland</td>\n",
       "      <td>208</td>\n",
       "    </tr>\n",
       "    <tr>\n",
       "      <th>...</th>\n",
       "      <td>...</td>\n",
       "      <td>...</td>\n",
       "      <td>...</td>\n",
       "    </tr>\n",
       "    <tr>\n",
       "      <th>333</th>\n",
       "      <td>Waterways</td>\n",
       "      <td>Kingston</td>\n",
       "      <td>1</td>\n",
       "    </tr>\n",
       "    <tr>\n",
       "      <th>334</th>\n",
       "      <td>Whittlesea</td>\n",
       "      <td>Whittlesea</td>\n",
       "      <td>1</td>\n",
       "    </tr>\n",
       "    <tr>\n",
       "      <th>335</th>\n",
       "      <td>Williams Landing</td>\n",
       "      <td>Wyndham</td>\n",
       "      <td>1</td>\n",
       "    </tr>\n",
       "    <tr>\n",
       "      <th>336</th>\n",
       "      <td>Wonga Park</td>\n",
       "      <td>Manningham</td>\n",
       "      <td>1</td>\n",
       "    </tr>\n",
       "    <tr>\n",
       "      <th>337</th>\n",
       "      <td>Yarra Glen</td>\n",
       "      <td>Yarra Ranges</td>\n",
       "      <td>1</td>\n",
       "    </tr>\n",
       "  </tbody>\n",
       "</table>\n",
       "<p>338 rows × 3 columns</p>\n",
       "</div>"
      ],
      "text/plain": [
       "         neighborhood          City  Registros_Totales\n",
       "0           Reservoir       Darebin                323\n",
       "1            Richmond         Yarra                251\n",
       "2      Bentleigh East     Glen Eira                234\n",
       "3             Preston       Darebin                228\n",
       "4           Brunswick      Moreland                208\n",
       "..                ...           ...                ...\n",
       "333         Waterways      Kingston                  1\n",
       "334        Whittlesea    Whittlesea                  1\n",
       "335  Williams Landing       Wyndham                  1\n",
       "336        Wonga Park    Manningham                  1\n",
       "337        Yarra Glen  Yarra Ranges                  1\n",
       "\n",
       "[338 rows x 3 columns]"
      ]
     },
     "execution_count": 8,
     "metadata": {},
     "output_type": "execute_result"
    }
   ],
   "source": [
    "query_3 = \"\"\"\n",
    "SELECT Suburb as neighborhood,CouncilArea as City ,count(*) as Registros_Totales FROM melbourneData \n",
    "where Suburb is not null and CouncilArea is not null\n",
    "group by Suburb,CouncilArea \n",
    "order by Registros_Totales desc,Suburb,CouncilArea\"\"\"\n",
    "pd.read_sql_query(query_3,engine)"
   ]
  },
  {
   "cell_type": "markdown",
   "id": "-1AtidoRH9zV",
   "metadata": {
    "id": "-1AtidoRH9zV"
   },
   "source": [
    "#####**airbnbData**"
   ]
  },
  {
   "cell_type": "code",
   "execution_count": 9,
   "id": "XaIf-9HKf1OM",
   "metadata": {
    "colab": {
     "base_uri": "https://localhost:8080/",
     "height": 424
    },
    "executionInfo": {
     "elapsed": 49,
     "status": "ok",
     "timestamp": 1656110500025,
     "user": {
      "displayName": "Federico Bosack",
      "userId": "11160353378770070862"
     },
     "user_tz": 180
    },
    "id": "XaIf-9HKf1OM",
    "outputId": "1f79e99a-7523-499f-efe2-63e6b94826f2"
   },
   "outputs": [
    {
     "data": {
      "text/html": [
       "<div>\n",
       "<style scoped>\n",
       "    .dataframe tbody tr th:only-of-type {\n",
       "        vertical-align: middle;\n",
       "    }\n",
       "\n",
       "    .dataframe tbody tr th {\n",
       "        vertical-align: top;\n",
       "    }\n",
       "\n",
       "    .dataframe thead th {\n",
       "        text-align: right;\n",
       "    }\n",
       "</style>\n",
       "<table border=\"1\" class=\"dataframe\">\n",
       "  <thead>\n",
       "    <tr style=\"text-align: right;\">\n",
       "      <th></th>\n",
       "      <th>neighborhood</th>\n",
       "      <th>city</th>\n",
       "      <th>Registros_Totales</th>\n",
       "    </tr>\n",
       "  </thead>\n",
       "  <tbody>\n",
       "    <tr>\n",
       "      <th>0</th>\n",
       "      <td>Central Business District</td>\n",
       "      <td>Melbourne</td>\n",
       "      <td>3726</td>\n",
       "    </tr>\n",
       "    <tr>\n",
       "      <th>1</th>\n",
       "      <td>Southbank</td>\n",
       "      <td>Melbourne</td>\n",
       "      <td>1204</td>\n",
       "    </tr>\n",
       "    <tr>\n",
       "      <th>2</th>\n",
       "      <td>St Kilda</td>\n",
       "      <td>Port Phillip</td>\n",
       "      <td>1082</td>\n",
       "    </tr>\n",
       "    <tr>\n",
       "      <th>3</th>\n",
       "      <td>South Yarra</td>\n",
       "      <td>Stonnington</td>\n",
       "      <td>759</td>\n",
       "    </tr>\n",
       "    <tr>\n",
       "      <th>4</th>\n",
       "      <td>Brunswick</td>\n",
       "      <td>Moreland</td>\n",
       "      <td>681</td>\n",
       "    </tr>\n",
       "    <tr>\n",
       "      <th>...</th>\n",
       "      <td>...</td>\n",
       "      <td>...</td>\n",
       "      <td>...</td>\n",
       "    </tr>\n",
       "    <tr>\n",
       "      <th>99</th>\n",
       "      <td>Bentleigh</td>\n",
       "      <td>Bayside</td>\n",
       "      <td>1</td>\n",
       "    </tr>\n",
       "    <tr>\n",
       "      <th>100</th>\n",
       "      <td>Elwood</td>\n",
       "      <td>Bayside</td>\n",
       "      <td>1</td>\n",
       "    </tr>\n",
       "    <tr>\n",
       "      <th>101</th>\n",
       "      <td>Glen Iris</td>\n",
       "      <td>Whitehorse</td>\n",
       "      <td>1</td>\n",
       "    </tr>\n",
       "    <tr>\n",
       "      <th>102</th>\n",
       "      <td>Kensington</td>\n",
       "      <td>Moonee Valley</td>\n",
       "      <td>1</td>\n",
       "    </tr>\n",
       "    <tr>\n",
       "      <th>103</th>\n",
       "      <td>South Melbourne</td>\n",
       "      <td>Melbourne</td>\n",
       "      <td>1</td>\n",
       "    </tr>\n",
       "  </tbody>\n",
       "</table>\n",
       "<p>104 rows × 3 columns</p>\n",
       "</div>"
      ],
      "text/plain": [
       "                  neighborhood           city  Registros_Totales\n",
       "0    Central Business District      Melbourne               3726\n",
       "1                    Southbank      Melbourne               1204\n",
       "2                     St Kilda   Port Phillip               1082\n",
       "3                  South Yarra    Stonnington                759\n",
       "4                    Brunswick       Moreland                681\n",
       "..                         ...            ...                ...\n",
       "99                   Bentleigh        Bayside                  1\n",
       "100                     Elwood        Bayside                  1\n",
       "101                  Glen Iris     Whitehorse                  1\n",
       "102                 Kensington  Moonee Valley                  1\n",
       "103            South Melbourne      Melbourne                  1\n",
       "\n",
       "[104 rows x 3 columns]"
      ]
     },
     "execution_count": 9,
     "metadata": {},
     "output_type": "execute_result"
    }
   ],
   "source": [
    "query_4 = \"\"\"\n",
    "SELECT neighborhood,city,count(*) as Registros_Totales FROM airbnbData \n",
    "where neighborhood is not null and city is not null  \n",
    "group by neighborhood,city \n",
    "order by Registros_Totales desc,neighborhood,city\"\"\"\n",
    "pd.read_sql_query(query_4,engine)"
   ]
  },
  {
   "cell_type": "markdown",
   "id": "-zttEwngiKjD",
   "metadata": {
    "id": "-zttEwngiKjD"
   },
   "source": [
    "###1.4. Combinar los datasets de ambas tablas ingestadas utilizando el comando JOIN de SQL  para obtener un resultado similar a lo realizado con Pandas en clase."
   ]
  },
  {
   "cell_type": "markdown",
   "id": "wtaPvgPXiZbV",
   "metadata": {
    "id": "wtaPvgPXiZbV"
   },
   "source": [
    "Combinaremos ambas tablas a travez del `Postcode` y `zipcode`, para eso se utilizo el csv creado en clase que tiene los precios por zipcode, el cual se subio en un repositorio de github para usarse"
   ]
  },
  {
   "cell_type": "code",
   "execution_count": 10,
   "id": "bEPGiaCuis-o",
   "metadata": {
    "colab": {
     "base_uri": "https://localhost:8080/",
     "height": 143
    },
    "executionInfo": {
     "elapsed": 49,
     "status": "ok",
     "timestamp": 1656110500026,
     "user": {
      "displayName": "Federico Bosack",
      "userId": "11160353378770070862"
     },
     "user_tz": 180
    },
    "id": "bEPGiaCuis-o",
    "outputId": "e161e6df-9cbd-404e-bb05-35efcbe42415"
   },
   "outputs": [
    {
     "data": {
      "text/html": [
       "<div>\n",
       "<style scoped>\n",
       "    .dataframe tbody tr th:only-of-type {\n",
       "        vertical-align: middle;\n",
       "    }\n",
       "\n",
       "    .dataframe tbody tr th {\n",
       "        vertical-align: top;\n",
       "    }\n",
       "\n",
       "    .dataframe thead th {\n",
       "        text-align: right;\n",
       "    }\n",
       "</style>\n",
       "<table border=\"1\" class=\"dataframe\">\n",
       "  <thead>\n",
       "    <tr style=\"text-align: right;\">\n",
       "      <th></th>\n",
       "      <th>zipcode</th>\n",
       "      <th>airbnb_price_mean</th>\n",
       "      <th>airbnb_record_count</th>\n",
       "      <th>airbnb_weekly_price_mean</th>\n",
       "      <th>airbnb_monthly_price_mean</th>\n",
       "    </tr>\n",
       "  </thead>\n",
       "  <tbody>\n",
       "    <tr>\n",
       "      <th>0</th>\n",
       "      <td>2010.0</td>\n",
       "      <td>40.0</td>\n",
       "      <td>1</td>\n",
       "      <td>NaN</td>\n",
       "      <td>NaN</td>\n",
       "    </tr>\n",
       "    <tr>\n",
       "      <th>1</th>\n",
       "      <td>2134.0</td>\n",
       "      <td>50.0</td>\n",
       "      <td>1</td>\n",
       "      <td>NaN</td>\n",
       "      <td>NaN</td>\n",
       "    </tr>\n",
       "    <tr>\n",
       "      <th>2</th>\n",
       "      <td>2582.0</td>\n",
       "      <td>104.0</td>\n",
       "      <td>1</td>\n",
       "      <td>NaN</td>\n",
       "      <td>NaN</td>\n",
       "    </tr>\n",
       "  </tbody>\n",
       "</table>\n",
       "</div>"
      ],
      "text/plain": [
       "   zipcode  airbnb_price_mean  airbnb_record_count  airbnb_weekly_price_mean  \\\n",
       "0   2010.0               40.0                    1                       NaN   \n",
       "1   2134.0               50.0                    1                       NaN   \n",
       "2   2582.0              104.0                    1                       NaN   \n",
       "\n",
       "   airbnb_monthly_price_mean  \n",
       "0                        NaN  \n",
       "1                        NaN  \n",
       "2                        NaN  "
      ]
     },
     "execution_count": 10,
     "metadata": {},
     "output_type": "execute_result"
    }
   ],
   "source": [
    "url = 'https://raw.githubusercontent.com/FedeBosack/bases_de_datos_DiploDatos2022/main/datasets_diplo/airbnb_price_by_zipcode.csv'\n",
    "df_airbnb_price_b_zc = pd.read_csv(url)\n",
    "df_airbnb_price_b_zc[:3]"
   ]
  },
  {
   "cell_type": "code",
   "execution_count": 11,
   "id": "wv5YJTJXi9z4",
   "metadata": {
    "executionInfo": {
     "elapsed": 49,
     "status": "ok",
     "timestamp": 1656110500028,
     "user": {
      "displayName": "Federico Bosack",
      "userId": "11160353378770070862"
     },
     "user_tz": 180
    },
    "id": "wv5YJTJXi9z4"
   },
   "outputs": [
    {
     "data": {
      "text/plain": [
       "247"
      ]
     },
     "execution_count": 11,
     "metadata": {},
     "output_type": "execute_result"
    }
   ],
   "source": [
    "#Escribe registros a la tabla SQL creada para los datos de Melbourne\n",
    "df_airbnb_price_b_zc.to_sql('airbnb_price_b_zc_Data', con=engine, if_exists=\"replace\")"
   ]
  },
  {
   "cell_type": "markdown",
   "id": "F9FNUcg_kXYh",
   "metadata": {
    "id": "F9FNUcg_kXYh"
   },
   "source": [
    "Haremos un join entre ambas tablas con un left join, como se realizo en clase, para obtener unicamente los datos de airbnb que continenen codigos postales presentes en la tabla de melb."
   ]
  },
  {
   "cell_type": "code",
   "execution_count": 12,
   "id": "c3Ca1R9plp0_",
   "metadata": {
    "colab": {
     "base_uri": "https://localhost:8080/",
     "height": 421
    },
    "executionInfo": {
     "elapsed": 1221,
     "status": "ok",
     "timestamp": 1656110501200,
     "user": {
      "displayName": "Federico Bosack",
      "userId": "11160353378770070862"
     },
     "user_tz": 180
    },
    "id": "c3Ca1R9plp0_",
    "outputId": "697fe40e-949b-4e03-b359-227a3036a041"
   },
   "outputs": [
    {
     "data": {
      "text/html": [
       "<div>\n",
       "<style scoped>\n",
       "    .dataframe tbody tr th:only-of-type {\n",
       "        vertical-align: middle;\n",
       "    }\n",
       "\n",
       "    .dataframe tbody tr th {\n",
       "        vertical-align: top;\n",
       "    }\n",
       "\n",
       "    .dataframe thead th {\n",
       "        text-align: right;\n",
       "    }\n",
       "</style>\n",
       "<table border=\"1\" class=\"dataframe\">\n",
       "  <thead>\n",
       "    <tr style=\"text-align: right;\">\n",
       "      <th></th>\n",
       "      <th>index</th>\n",
       "      <th>Suburb</th>\n",
       "      <th>Address</th>\n",
       "      <th>Rooms</th>\n",
       "      <th>Type</th>\n",
       "      <th>Price</th>\n",
       "      <th>Method</th>\n",
       "      <th>SellerG</th>\n",
       "      <th>Date</th>\n",
       "      <th>Distance</th>\n",
       "      <th>...</th>\n",
       "      <th>Lattitude</th>\n",
       "      <th>Longtitude</th>\n",
       "      <th>Regionname</th>\n",
       "      <th>Propertycount</th>\n",
       "      <th>index</th>\n",
       "      <th>zipcode</th>\n",
       "      <th>airbnb_price_mean</th>\n",
       "      <th>airbnb_record_count</th>\n",
       "      <th>airbnb_weekly_price_mean</th>\n",
       "      <th>airbnb_monthly_price_mean</th>\n",
       "    </tr>\n",
       "  </thead>\n",
       "  <tbody>\n",
       "    <tr>\n",
       "      <th>0</th>\n",
       "      <td>0</td>\n",
       "      <td>Abbotsford</td>\n",
       "      <td>85 Turner St</td>\n",
       "      <td>2</td>\n",
       "      <td>h</td>\n",
       "      <td>1480000.0</td>\n",
       "      <td>S</td>\n",
       "      <td>Biggin</td>\n",
       "      <td>3/12/2016</td>\n",
       "      <td>2.5</td>\n",
       "      <td>...</td>\n",
       "      <td>-37.7996</td>\n",
       "      <td>144.9984</td>\n",
       "      <td>Northern Metropolitan</td>\n",
       "      <td>4019.0</td>\n",
       "      <td>57.0</td>\n",
       "      <td>3067.0</td>\n",
       "      <td>130.624031</td>\n",
       "      <td>258.0</td>\n",
       "      <td>605.152174</td>\n",
       "      <td>2187.032258</td>\n",
       "    </tr>\n",
       "    <tr>\n",
       "      <th>1</th>\n",
       "      <td>1</td>\n",
       "      <td>Abbotsford</td>\n",
       "      <td>25 Bloomburg St</td>\n",
       "      <td>2</td>\n",
       "      <td>h</td>\n",
       "      <td>1035000.0</td>\n",
       "      <td>S</td>\n",
       "      <td>Biggin</td>\n",
       "      <td>4/02/2016</td>\n",
       "      <td>2.5</td>\n",
       "      <td>...</td>\n",
       "      <td>-37.8079</td>\n",
       "      <td>144.9934</td>\n",
       "      <td>Northern Metropolitan</td>\n",
       "      <td>4019.0</td>\n",
       "      <td>57.0</td>\n",
       "      <td>3067.0</td>\n",
       "      <td>130.624031</td>\n",
       "      <td>258.0</td>\n",
       "      <td>605.152174</td>\n",
       "      <td>2187.032258</td>\n",
       "    </tr>\n",
       "    <tr>\n",
       "      <th>2</th>\n",
       "      <td>2</td>\n",
       "      <td>Abbotsford</td>\n",
       "      <td>5 Charles St</td>\n",
       "      <td>3</td>\n",
       "      <td>h</td>\n",
       "      <td>1465000.0</td>\n",
       "      <td>SP</td>\n",
       "      <td>Biggin</td>\n",
       "      <td>4/03/2017</td>\n",
       "      <td>2.5</td>\n",
       "      <td>...</td>\n",
       "      <td>-37.8093</td>\n",
       "      <td>144.9944</td>\n",
       "      <td>Northern Metropolitan</td>\n",
       "      <td>4019.0</td>\n",
       "      <td>57.0</td>\n",
       "      <td>3067.0</td>\n",
       "      <td>130.624031</td>\n",
       "      <td>258.0</td>\n",
       "      <td>605.152174</td>\n",
       "      <td>2187.032258</td>\n",
       "    </tr>\n",
       "    <tr>\n",
       "      <th>3</th>\n",
       "      <td>3</td>\n",
       "      <td>Abbotsford</td>\n",
       "      <td>40 Federation La</td>\n",
       "      <td>3</td>\n",
       "      <td>h</td>\n",
       "      <td>850000.0</td>\n",
       "      <td>PI</td>\n",
       "      <td>Biggin</td>\n",
       "      <td>4/03/2017</td>\n",
       "      <td>2.5</td>\n",
       "      <td>...</td>\n",
       "      <td>-37.7969</td>\n",
       "      <td>144.9969</td>\n",
       "      <td>Northern Metropolitan</td>\n",
       "      <td>4019.0</td>\n",
       "      <td>57.0</td>\n",
       "      <td>3067.0</td>\n",
       "      <td>130.624031</td>\n",
       "      <td>258.0</td>\n",
       "      <td>605.152174</td>\n",
       "      <td>2187.032258</td>\n",
       "    </tr>\n",
       "    <tr>\n",
       "      <th>4</th>\n",
       "      <td>4</td>\n",
       "      <td>Abbotsford</td>\n",
       "      <td>55a Park St</td>\n",
       "      <td>4</td>\n",
       "      <td>h</td>\n",
       "      <td>1600000.0</td>\n",
       "      <td>VB</td>\n",
       "      <td>Nelson</td>\n",
       "      <td>4/06/2016</td>\n",
       "      <td>2.5</td>\n",
       "      <td>...</td>\n",
       "      <td>-37.8072</td>\n",
       "      <td>144.9941</td>\n",
       "      <td>Northern Metropolitan</td>\n",
       "      <td>4019.0</td>\n",
       "      <td>57.0</td>\n",
       "      <td>3067.0</td>\n",
       "      <td>130.624031</td>\n",
       "      <td>258.0</td>\n",
       "      <td>605.152174</td>\n",
       "      <td>2187.032258</td>\n",
       "    </tr>\n",
       "  </tbody>\n",
       "</table>\n",
       "<p>5 rows × 28 columns</p>\n",
       "</div>"
      ],
      "text/plain": [
       "   index      Suburb           Address  Rooms Type      Price Method SellerG  \\\n",
       "0      0  Abbotsford      85 Turner St      2    h  1480000.0      S  Biggin   \n",
       "1      1  Abbotsford   25 Bloomburg St      2    h  1035000.0      S  Biggin   \n",
       "2      2  Abbotsford      5 Charles St      3    h  1465000.0     SP  Biggin   \n",
       "3      3  Abbotsford  40 Federation La      3    h   850000.0     PI  Biggin   \n",
       "4      4  Abbotsford       55a Park St      4    h  1600000.0     VB  Nelson   \n",
       "\n",
       "        Date  Distance  ...  Lattitude  Longtitude             Regionname  \\\n",
       "0  3/12/2016       2.5  ...   -37.7996    144.9984  Northern Metropolitan   \n",
       "1  4/02/2016       2.5  ...   -37.8079    144.9934  Northern Metropolitan   \n",
       "2  4/03/2017       2.5  ...   -37.8093    144.9944  Northern Metropolitan   \n",
       "3  4/03/2017       2.5  ...   -37.7969    144.9969  Northern Metropolitan   \n",
       "4  4/06/2016       2.5  ...   -37.8072    144.9941  Northern Metropolitan   \n",
       "\n",
       "   Propertycount  index  zipcode  airbnb_price_mean airbnb_record_count  \\\n",
       "0         4019.0   57.0   3067.0         130.624031               258.0   \n",
       "1         4019.0   57.0   3067.0         130.624031               258.0   \n",
       "2         4019.0   57.0   3067.0         130.624031               258.0   \n",
       "3         4019.0   57.0   3067.0         130.624031               258.0   \n",
       "4         4019.0   57.0   3067.0         130.624031               258.0   \n",
       "\n",
       "   airbnb_weekly_price_mean  airbnb_monthly_price_mean  \n",
       "0                605.152174                2187.032258  \n",
       "1                605.152174                2187.032258  \n",
       "2                605.152174                2187.032258  \n",
       "3                605.152174                2187.032258  \n",
       "4                605.152174                2187.032258  \n",
       "\n",
       "[5 rows x 28 columns]"
      ]
     },
     "execution_count": 12,
     "metadata": {},
     "output_type": "execute_result"
    }
   ],
   "source": [
    "query_5 = \"\"\"\n",
    "SELECT me.*,ai.* FROM melbourneData as me\n",
    "left join airbnb_price_b_zc_Data as ai on me.Postcode = ai.zipcode\n",
    "\"\"\"\n",
    "pd.read_sql_query(query_5,engine)[:5]"
   ]
  },
  {
   "cell_type": "markdown",
   "id": "c5468c4f-5cdf-4df4-a317-60e1fb0c00db",
   "metadata": {
    "id": "c5468c4f-5cdf-4df4-a317-60e1fb0c00db"
   },
   "source": [
    "## Ejercicio 2: \n",
    "\n",
    "1. Seleccionar un subconjunto de columnas que les parezcan relevantes al problema de predicción del valor de la propiedad. Justificar las columnas seleccionadas y las que no lo fueron.\n",
    " - Eliminar los valores extremos que no sean relevantes para la predicción de valores de las propiedades.\n",
    "\n",
    "2. Agregar información adicional respectiva al entorno de una propiedad a partir del [conjunto de datos de AirBnB](https://www.kaggle.com/tylerx/melbourne-airbnb-open-data?select=cleansed_listings_dec18.csv) utilizado en el práctico. \n",
    "  1. Seleccionar qué variables agregar y qué combinaciones aplicar a cada una. Por ejemplo, pueden utilizar solo la columna `price`, o aplicar múltiples transformaciones como la mediana o el mínimo.\n",
    "  2. Utilizar la variable zipcode para unir los conjuntos de datos. Sólo incluir los zipcodes que tengan una cantidad mínima de registros (a elección) como para que la información agregada sea relevante.\n",
    "  3. Investigar al menos otras 2 variables que puedan servir para combinar los datos, y justificar si serían adecuadas o no. Pueden asumir que cuentan con la ayuda de anotadores expertos para encontrar equivalencias entre barrios o direcciones, o que cuentan con algoritmos para encontrar las n ubicaciones más cercanas a una propiedad a partir de sus coordenadas geográficas. **NO** es necesario que realicen la implementación.\n",
    "\n",
    "Pueden leer otras columnas del conjunto de AirBnB además de las que están en `interesting_cols`, si les parecen relevantes."
   ]
  },
  {
   "cell_type": "markdown",
   "id": "1bp5RP0cmAZp",
   "metadata": {
    "id": "1bp5RP0cmAZp"
   },
   "source": [
    "###**2.1. Seleccionar un subconjunto de columnas que les parezcan relevantes al problema de predicción del valor de la propiedad. Justificar las columnas seleccionadas y las que no lo fueron.**\n",
    " - Eliminar los valores extremos que no sean relevantes para la predicción de valores de las propiedades.\n"
   ]
  },
  {
   "cell_type": "code",
   "execution_count": 13,
   "id": "NRTzTMk8Sbhz",
   "metadata": {
    "colab": {
     "base_uri": "https://localhost:8080/"
    },
    "executionInfo": {
     "elapsed": 32,
     "status": "ok",
     "timestamp": 1656110501205,
     "user": {
      "displayName": "Federico Bosack",
      "userId": "11160353378770070862"
     },
     "user_tz": 180
    },
    "id": "NRTzTMk8Sbhz",
    "outputId": "423db397-8556-4862-f0a0-15322ce18658"
   },
   "outputs": [
    {
     "data": {
      "text/plain": [
       "Index(['Suburb', 'Address', 'Rooms', 'Type', 'Price', 'Method', 'SellerG',\n",
       "       'Date', 'Distance', 'Postcode', 'Bedroom2', 'Bathroom', 'Car',\n",
       "       'Landsize', 'BuildingArea', 'YearBuilt', 'CouncilArea', 'Lattitude',\n",
       "       'Longtitude', 'Regionname', 'Propertycount'],\n",
       "      dtype='object')"
      ]
     },
     "execution_count": 13,
     "metadata": {},
     "output_type": "execute_result"
    }
   ],
   "source": [
    "melb_df.columns"
   ]
  },
  {
   "cell_type": "markdown",
   "id": "0KYoNzQLSs0T",
   "metadata": {
    "id": "0KYoNzQLSs0T"
   },
   "source": [
    "¿Que son las columnas `Method` y `SellerG`?"
   ]
  },
  {
   "cell_type": "code",
   "execution_count": 14,
   "id": "Cm7E5UqjrhPl",
   "metadata": {
    "colab": {
     "base_uri": "https://localhost:8080/",
     "height": 382
    },
    "executionInfo": {
     "elapsed": 2031,
     "status": "ok",
     "timestamp": 1656110503209,
     "user": {
      "displayName": "Federico Bosack",
      "userId": "11160353378770070862"
     },
     "user_tz": 180
    },
    "id": "Cm7E5UqjrhPl",
    "outputId": "cc263001-debd-4218-f8aa-d26b29477c6b"
   },
   "outputs": [
    {
     "name": "stdout",
     "output_type": "stream",
     "text": [
      "            Rooms  Bedroom2\n",
      "Rooms     1.00000   0.94419\n",
      "Bedroom2  0.94419   1.00000\n",
      "Coef de correlación entra ambas variables:  0.94 \n",
      "\n"
     ]
    },
    {
     "data": {
      "image/png": "[encoded data removed]",
      "text/plain": [
       "<Figure size 576x288 with 1 Axes>"
      ]
     },
     "metadata": {
      "needs_background": "light"
     },
     "output_type": "display_data"
    }
   ],
   "source": [
    "#calculamos la correlacion entre las columnas rooms y Bedroom2 porque por el nombre parecen indicar el mismo dato\n",
    "seaborn.pairplot(data=melb_df, y_vars=['Rooms'],\n",
    "                 x_vars=['Bedroom2'],\n",
    "                 aspect=2, height=4)\n",
    "corr_df = melb_df[['Rooms','Bedroom2']].corr()\n",
    "print(corr_df)\n",
    "print('Coef de correlación entra ambas variables: ', round(corr_df.iloc[0]['Bedroom2'],2) ,'\\n')"
   ]
  },
  {
   "cell_type": "markdown",
   "id": "dk53FLI2qywo",
   "metadata": {
    "id": "dk53FLI2qywo"
   },
   "source": [
    "Para predececir el valor de las propiedades seleccionamos columnas que tengan que ver directamente con el precio como:\n",
    "- Precio: `'Price'`\n",
    "- Su ubicacion: `'Suburb' ,'Distance', 'Regionname', 'Postcode'` --> Aca en vez de Postcode y Regionname usaria CouncilArea\n",
    "- el tamaño del terreno: ` 'Landsize', 'BuildingArea' `\n",
    "- la cantidad de habitaciones y baños: `'Rooms' , 'Bathroom'` y no 'Bedroom2' por su grado de correlacion con Rooms\n",
    "- si cuenta o no con cochera: `'Car'`\n",
    "- Año de construcciòn: `'YearBuilt'`\n",
    "- El tipo de propiedad: `'Type'`"
   ]
  },
  {
   "cell_type": "code",
   "execution_count": 38,
   "id": "A7Rvb1LOl96f",
   "metadata": {
    "colab": {
     "base_uri": "https://localhost:8080/",
     "height": 293
    },
    "executionInfo": {
     "elapsed": 22,
     "status": "ok",
     "timestamp": 1656110503210,
     "user": {
      "displayName": "Federico Bosack",
      "userId": "11160353378770070862"
     },
     "user_tz": 180
    },
    "id": "A7Rvb1LOl96f",
    "outputId": "5267185d-3d20-4451-f5f1-73d9aad9e614"
   },
   "outputs": [
    {
     "name": "stdout",
     "output_type": "stream",
     "text": [
      "Index(['Suburb', 'Address', 'Rooms', 'Type', 'Price', 'Method', 'SellerG',\n",
      "       'Date', 'Distance', 'Postcode', 'Bedroom2', 'Bathroom', 'Car',\n",
      "       'Landsize', 'BuildingArea', 'YearBuilt', 'CouncilArea', 'Lattitude',\n",
      "       'Longtitude', 'Regionname', 'Propertycount'],\n",
      "      dtype='object')\n"
     ]
    },
    {
     "data": {
      "text/html": [
       "<div>\n",
       "<style scoped>\n",
       "    .dataframe tbody tr th:only-of-type {\n",
       "        vertical-align: middle;\n",
       "    }\n",
       "\n",
       "    .dataframe tbody tr th {\n",
       "        vertical-align: top;\n",
       "    }\n",
       "\n",
       "    .dataframe thead th {\n",
       "        text-align: right;\n",
       "    }\n",
       "</style>\n",
       "<table border=\"1\" class=\"dataframe\">\n",
       "  <thead>\n",
       "    <tr style=\"text-align: right;\">\n",
       "      <th></th>\n",
       "      <th>Price</th>\n",
       "      <th>Suburb</th>\n",
       "      <th>Distance</th>\n",
       "      <th>Regionname</th>\n",
       "      <th>Postcode</th>\n",
       "      <th>Landsize</th>\n",
       "      <th>BuildingArea</th>\n",
       "      <th>Rooms</th>\n",
       "      <th>Bathroom</th>\n",
       "      <th>Car</th>\n",
       "      <th>YearBuilt</th>\n",
       "      <th>Type</th>\n",
       "    </tr>\n",
       "  </thead>\n",
       "  <tbody>\n",
       "    <tr>\n",
       "      <th>0</th>\n",
       "      <td>1480000.0</td>\n",
       "      <td>Abbotsford</td>\n",
       "      <td>2.5</td>\n",
       "      <td>Northern Metropolitan</td>\n",
       "      <td>3067.0</td>\n",
       "      <td>202.0</td>\n",
       "      <td>NaN</td>\n",
       "      <td>2</td>\n",
       "      <td>1.0</td>\n",
       "      <td>1.0</td>\n",
       "      <td>NaN</td>\n",
       "      <td>h</td>\n",
       "    </tr>\n",
       "    <tr>\n",
       "      <th>1</th>\n",
       "      <td>1035000.0</td>\n",
       "      <td>Abbotsford</td>\n",
       "      <td>2.5</td>\n",
       "      <td>Northern Metropolitan</td>\n",
       "      <td>3067.0</td>\n",
       "      <td>156.0</td>\n",
       "      <td>79.0</td>\n",
       "      <td>2</td>\n",
       "      <td>1.0</td>\n",
       "      <td>0.0</td>\n",
       "      <td>1900.0</td>\n",
       "      <td>h</td>\n",
       "    </tr>\n",
       "    <tr>\n",
       "      <th>2</th>\n",
       "      <td>1465000.0</td>\n",
       "      <td>Abbotsford</td>\n",
       "      <td>2.5</td>\n",
       "      <td>Northern Metropolitan</td>\n",
       "      <td>3067.0</td>\n",
       "      <td>134.0</td>\n",
       "      <td>150.0</td>\n",
       "      <td>3</td>\n",
       "      <td>2.0</td>\n",
       "      <td>0.0</td>\n",
       "      <td>1900.0</td>\n",
       "      <td>h</td>\n",
       "    </tr>\n",
       "    <tr>\n",
       "      <th>3</th>\n",
       "      <td>850000.0</td>\n",
       "      <td>Abbotsford</td>\n",
       "      <td>2.5</td>\n",
       "      <td>Northern Metropolitan</td>\n",
       "      <td>3067.0</td>\n",
       "      <td>94.0</td>\n",
       "      <td>NaN</td>\n",
       "      <td>3</td>\n",
       "      <td>2.0</td>\n",
       "      <td>1.0</td>\n",
       "      <td>NaN</td>\n",
       "      <td>h</td>\n",
       "    </tr>\n",
       "    <tr>\n",
       "      <th>4</th>\n",
       "      <td>1600000.0</td>\n",
       "      <td>Abbotsford</td>\n",
       "      <td>2.5</td>\n",
       "      <td>Northern Metropolitan</td>\n",
       "      <td>3067.0</td>\n",
       "      <td>120.0</td>\n",
       "      <td>142.0</td>\n",
       "      <td>4</td>\n",
       "      <td>1.0</td>\n",
       "      <td>2.0</td>\n",
       "      <td>2014.0</td>\n",
       "      <td>h</td>\n",
       "    </tr>\n",
       "  </tbody>\n",
       "</table>\n",
       "</div>"
      ],
      "text/plain": [
       "       Price      Suburb  Distance             Regionname  Postcode  Landsize  \\\n",
       "0  1480000.0  Abbotsford       2.5  Northern Metropolitan    3067.0     202.0   \n",
       "1  1035000.0  Abbotsford       2.5  Northern Metropolitan    3067.0     156.0   \n",
       "2  1465000.0  Abbotsford       2.5  Northern Metropolitan    3067.0     134.0   \n",
       "3   850000.0  Abbotsford       2.5  Northern Metropolitan    3067.0      94.0   \n",
       "4  1600000.0  Abbotsford       2.5  Northern Metropolitan    3067.0     120.0   \n",
       "\n",
       "   BuildingArea  Rooms  Bathroom  Car  YearBuilt Type  \n",
       "0           NaN      2       1.0  1.0        NaN    h  \n",
       "1          79.0      2       1.0  0.0     1900.0    h  \n",
       "2         150.0      3       2.0  0.0     1900.0    h  \n",
       "3           NaN      3       2.0  1.0        NaN    h  \n",
       "4         142.0      4       1.0  2.0     2014.0    h  "
      ]
     },
     "execution_count": 38,
     "metadata": {},
     "output_type": "execute_result"
    }
   ],
   "source": [
    "print(melb_df.columns)\n",
    "#melb_df[:3]\n",
    "interesting_columns=['Price',\n",
    "        'Suburb','Distance','Regionname','Postcode',\n",
    "        'Landsize', 'BuildingArea','Rooms', 'Bathroom', \n",
    "        'Car','YearBuilt','Type']\n",
    "melb_df_ic = melb_df[interesting_columns]\n",
    "melb_df_ic[:5]"
   ]
  },
  {
   "cell_type": "code",
   "execution_count": 39,
   "id": "9Q4OrlGbwBJ_",
   "metadata": {
    "colab": {
     "base_uri": "https://localhost:8080/"
    },
    "executionInfo": {
     "elapsed": 23,
     "status": "ok",
     "timestamp": 1656110503215,
     "user": {
      "displayName": "Federico Bosack",
      "userId": "11160353378770070862"
     },
     "user_tz": 180
    },
    "id": "9Q4OrlGbwBJ_",
    "outputId": "77f19f8e-2e20-42a7-9c52-caad73d78687"
   },
   "outputs": [
    {
     "name": "stdout",
     "output_type": "stream",
     "text": [
      "              Price       Landsize      Distance  BuildingArea         Rooms  \\\n",
      "count  1.358000e+04   13580.000000  13580.000000   7130.000000  13580.000000   \n",
      "mean   1.075684e+06     558.416127     10.137776    151.967650      2.937997   \n",
      "std    6.393107e+05    3990.669241      5.868725    541.014538      0.955748   \n",
      "min    8.500000e+04       0.000000      0.000000      0.000000      1.000000   \n",
      "25%    6.500000e+05     177.000000      6.100000     93.000000      2.000000   \n",
      "50%    9.030000e+05     440.000000      9.200000    126.000000      3.000000   \n",
      "75%    1.330000e+06     651.000000     13.000000    174.000000      3.000000   \n",
      "max    9.000000e+06  433014.000000     48.100000  44515.000000     10.000000   \n",
      "\n",
      "           Bathroom           Car    YearBuilt  \n",
      "count  13580.000000  13518.000000  8205.000000  \n",
      "mean       1.534242      1.610075  1964.684217  \n",
      "std        0.691712      0.962634    37.273762  \n",
      "min        0.000000      0.000000  1196.000000  \n",
      "25%        1.000000      1.000000  1940.000000  \n",
      "50%        1.000000      2.000000  1970.000000  \n",
      "75%        2.000000      2.000000  1999.000000  \n",
      "max        8.000000     10.000000  2018.000000  \n"
     ]
    }
   ],
   "source": [
    "print(melb_df_ic[['Price','Landsize','Distance','BuildingArea',\n",
    "                  'Rooms','Bathroom','Car','YearBuilt']].describe())"
   ]
  },
  {
   "cell_type": "markdown",
   "id": "MHDych1yim8E",
   "metadata": {
    "id": "MHDych1yim8E"
   },
   "source": [
    "Quitamos outliers de las columnas correspondientes, el caso de las columnas Rooms, Bathroom, Car y YearBuilt los valores minimos y maximos son razonables por lo que no se quita outliers"
   ]
  },
  {
   "cell_type": "code",
   "execution_count": 40,
   "id": "W3Vq73h7woV_",
   "metadata": {
    "colab": {
     "base_uri": "https://localhost:8080/"
    },
    "executionInfo": {
     "elapsed": 23,
     "status": "ok",
     "timestamp": 1656110503217,
     "user": {
      "displayName": "Federico Bosack",
      "userId": "11160353378770070862"
     },
     "user_tz": 180
    },
    "id": "W3Vq73h7woV_",
    "outputId": "ee545b91-3d64-40f6-a487-8a0823086ecb"
   },
   "outputs": [
    {
     "name": "stdout",
     "output_type": "stream",
     "text": [
      "Long con ol: 13580\n",
      "Long sin ol: 11116\n",
      "Long ratio: 0.8185567010309278\n"
     ]
    }
   ],
   "source": [
    "#Eliminamos muchos datos asi\n",
    "print(f\"Long con ol: {len(melb_df_ic)}\")\n",
    "melb_df_ic_woo=melb_df_ic[(melb_df_ic.Price < melb_df_ic.Price.quantile(0.99)) & (melb_df_ic.Price > melb_df_ic.Price.quantile(0.01)) &\n",
    "                          (melb_df_ic.Landsize < melb_df_ic.Landsize.quantile(0.99)) & (melb_df_ic.Landsize > melb_df_ic.Landsize.quantile(0.01))&\n",
    "                          (melb_df_ic.Distance < melb_df_ic.Distance.quantile(0.99)) & (melb_df_ic.Distance > melb_df_ic.Distance.quantile(0.01)) ]\n",
    "                          #(melb_df_ic.BuildingArea < melb_df_ic.BuildingArea.quantile(0.99)) & (melb_df_ic.BuildingArea > melb_df_ic.BuildingArea.quantile(0.01))]\n",
    "print(f\"Long sin ol: {len(melb_df_ic_woo)}\")\n",
    "print(f\"Long ratio: {len(melb_df_ic_woo)/len(melb_df_ic)}\")"
   ]
  },
  {
   "cell_type": "code",
   "execution_count": 42,
   "id": "m4v1rAN4jH-P",
   "metadata": {
    "colab": {
     "base_uri": "https://localhost:8080/"
    },
    "executionInfo": {
     "elapsed": 453,
     "status": "ok",
     "timestamp": 1656110503651,
     "user": {
      "displayName": "Federico Bosack",
      "userId": "11160353378770070862"
     },
     "user_tz": 180
    },
    "id": "m4v1rAN4jH-P",
    "outputId": "75940738-0e19-4913-9f40-8ba847833f39"
   },
   "outputs": [
    {
     "name": "stdout",
     "output_type": "stream",
     "text": [
      "              Price      Distance      Postcode      Landsize  BuildingArea  \\\n",
      "count  1.111600e+04  11116.000000  11116.000000  11116.000000   5780.000000   \n",
      "mean   1.125082e+06     10.588980   3100.189187    508.604354    155.206224   \n",
      "std    5.513389e+05      5.135677     78.368112    317.180795    133.780408   \n",
      "min    3.010000e+05      1.800000   3000.000000      1.000000      0.000000   \n",
      "25%    7.228750e+05      7.000000   3044.000000    265.000000    105.000000   \n",
      "50%    9.800000e+05     10.400000   3081.000000    524.000000    134.000000   \n",
      "75%    1.400000e+06     13.500000   3146.000000    665.000000    181.000000   \n",
      "max    3.335000e+06     31.700000   3802.000000   2927.000000   6791.000000   \n",
      "\n",
      "              Rooms      Bathroom           Car    YearBuilt  \n",
      "count  11116.000000  11116.000000  11058.000000  6574.000000  \n",
      "mean       3.102735      1.572148      1.690089  1961.730453  \n",
      "std        0.875553      0.690475      0.982755    38.016632  \n",
      "min        1.000000      0.000000      0.000000  1196.000000  \n",
      "25%        3.000000      1.000000      1.000000  1935.000000  \n",
      "50%        3.000000      1.000000      2.000000  1965.000000  \n",
      "75%        4.000000      2.000000      2.000000  1995.000000  \n",
      "max       10.000000      8.000000     10.000000  2018.000000  \n"
     ]
    }
   ],
   "source": [
    "print(melb_df_ic_woo.describe())"
   ]
  },
  {
   "cell_type": "code",
   "execution_count": 43,
   "id": "loIV_TeRsmtY",
   "metadata": {
    "colab": {
     "base_uri": "https://localhost:8080/"
    },
    "executionInfo": {
     "elapsed": 13,
     "status": "ok",
     "timestamp": 1656110503652,
     "user": {
      "displayName": "Federico Bosack",
      "userId": "11160353378770070862"
     },
     "user_tz": 180
    },
    "id": "loIV_TeRsmtY",
    "outputId": "caae4182-06db-44c4-b53c-5e75b35f9443"
   },
   "outputs": [
    {
     "data": {
      "text/plain": [
       "3073.0    332\n",
       "3020.0    294\n",
       "3046.0    271\n",
       "3165.0    240\n",
       "3040.0    234\n",
       "         ... \n",
       "3099.0      2\n",
       "3335.0      2\n",
       "3158.0      1\n",
       "3765.0      1\n",
       "3775.0      1\n",
       "Name: Postcode, Length: 170, dtype: int64"
      ]
     },
     "execution_count": 43,
     "metadata": {},
     "output_type": "execute_result"
    }
   ],
   "source": [
    "melb_df_ic_woo.Postcode.value_counts()"
   ]
  },
  {
   "cell_type": "code",
   "execution_count": 20,
   "id": "kUrzYu1fuxca",
   "metadata": {
    "executionInfo": {
     "elapsed": 8,
     "status": "ok",
     "timestamp": 1656110503653,
     "user": {
      "displayName": "Federico Bosack",
      "userId": "11160353378770070862"
     },
     "user_tz": 180
    },
    "id": "kUrzYu1fuxca"
   },
   "outputs": [],
   "source": [
    "#import missingno as msno\n",
    "#msno.matrix(melb_df_ic);"
   ]
  },
  {
   "cell_type": "markdown",
   "id": "iy5jxjLnz54r",
   "metadata": {
    "id": "iy5jxjLnz54r"
   },
   "source": [
    "###**2. Agregar información adicional respectiva al entorno de una propiedad a partir del [conjunto de datos de AirBnB](https://www.kaggle.com/tylerx/melbourne-airbnb-open-data?select=cleansed_listings_dec18.csv) utilizado en el práctico.**"
   ]
  },
  {
   "cell_type": "code",
   "execution_count": 44,
   "id": "xuXUWHtA0UAT",
   "metadata": {
    "colab": {
     "base_uri": "https://localhost:8080/",
     "height": 372
    },
    "executionInfo": {
     "elapsed": 13801,
     "status": "ok",
     "timestamp": 1656110517447,
     "user": {
      "displayName": "Federico Bosack",
      "userId": "11160353378770070862"
     },
     "user_tz": 180
    },
    "id": "xuXUWHtA0UAT",
    "outputId": "0192f276-5336-4141-e456-a4ad1e356155"
   },
   "outputs": [
    {
     "name": "stderr",
     "output_type": "stream",
     "text": [
      "C:\\Users\\teoas\\AppData\\Local\\Temp\\ipykernel_19084\\3291690539.py:1: DtypeWarning: Columns (35,77) have mixed types. Specify dtype option on import or set low_memory=False.\n",
      "  airbnb_df_2 = pd.read_csv('https://cs.famaf.unc.edu.ar/~mteruel/datasets/diplodatos/cleansed_listings_dec18.csv')\n"
     ]
    },
    {
     "data": {
      "text/html": [
       "<div>\n",
       "<style scoped>\n",
       "    .dataframe tbody tr th:only-of-type {\n",
       "        vertical-align: middle;\n",
       "    }\n",
       "\n",
       "    .dataframe tbody tr th {\n",
       "        vertical-align: top;\n",
       "    }\n",
       "\n",
       "    .dataframe thead th {\n",
       "        text-align: right;\n",
       "    }\n",
       "</style>\n",
       "<table border=\"1\" class=\"dataframe\">\n",
       "  <thead>\n",
       "    <tr style=\"text-align: right;\">\n",
       "      <th></th>\n",
       "      <th>description</th>\n",
       "      <th>neighborhood_overview</th>\n",
       "      <th>street</th>\n",
       "      <th>neighborhood</th>\n",
       "      <th>city</th>\n",
       "      <th>suburb</th>\n",
       "      <th>state</th>\n",
       "      <th>zipcode</th>\n",
       "      <th>price</th>\n",
       "      <th>weekly_price</th>\n",
       "      <th>monthly_price</th>\n",
       "      <th>review_scores_value</th>\n",
       "      <th>review_scores_location</th>\n",
       "    </tr>\n",
       "  </thead>\n",
       "  <tbody>\n",
       "    <tr>\n",
       "      <th>0</th>\n",
       "      <td>House: Clean, New, Modern, Quite, Safe. 10Km f...</td>\n",
       "      <td>Very safe! Family oriented. Older age group.</td>\n",
       "      <td>Bulleen, VIC, Australia</td>\n",
       "      <td>Balwyn North</td>\n",
       "      <td>Manningham</td>\n",
       "      <td>Bulleen</td>\n",
       "      <td>VIC</td>\n",
       "      <td>3105</td>\n",
       "      <td>60</td>\n",
       "      <td>NaN</td>\n",
       "      <td>NaN</td>\n",
       "      <td>9.0</td>\n",
       "      <td>9.0</td>\n",
       "    </tr>\n",
       "    <tr>\n",
       "      <th>1</th>\n",
       "      <td>A large air conditioned room with queen spring...</td>\n",
       "      <td>This hip area is a crossroads between two grea...</td>\n",
       "      <td>Brunswick East, VIC, Australia</td>\n",
       "      <td>Brunswick</td>\n",
       "      <td>Moreland</td>\n",
       "      <td>Brunswick East</td>\n",
       "      <td>VIC</td>\n",
       "      <td>3057</td>\n",
       "      <td>35</td>\n",
       "      <td>200.0</td>\n",
       "      <td>803.0</td>\n",
       "      <td>9.0</td>\n",
       "      <td>9.0</td>\n",
       "    </tr>\n",
       "    <tr>\n",
       "      <th>2</th>\n",
       "      <td>RIGHT IN THE HEART OF ST KILDA! It doesn't get...</td>\n",
       "      <td>A stay at our apartment means you can enjoy so...</td>\n",
       "      <td>St Kilda, VIC, Australia</td>\n",
       "      <td>St Kilda</td>\n",
       "      <td>Port Phillip</td>\n",
       "      <td>St Kilda</td>\n",
       "      <td>VIC</td>\n",
       "      <td>3182</td>\n",
       "      <td>159</td>\n",
       "      <td>1253.0</td>\n",
       "      <td>4452.0</td>\n",
       "      <td>9.0</td>\n",
       "      <td>9.0</td>\n",
       "    </tr>\n",
       "    <tr>\n",
       "      <th>3</th>\n",
       "      <td>Comfortable, relaxed house, a home away from  ...</td>\n",
       "      <td>This is a great neighbourhood – it is quiet, y...</td>\n",
       "      <td>Thornbury, VIC, Australia</td>\n",
       "      <td>Thornbury</td>\n",
       "      <td>Darebin</td>\n",
       "      <td>Thornbury</td>\n",
       "      <td>VIC</td>\n",
       "      <td>3071</td>\n",
       "      <td>50</td>\n",
       "      <td>250.0</td>\n",
       "      <td>920.0</td>\n",
       "      <td>9.0</td>\n",
       "      <td>9.0</td>\n",
       "    </tr>\n",
       "    <tr>\n",
       "      <th>4</th>\n",
       "      <td>We offer comfortable accommodation in Inner Me...</td>\n",
       "      <td>NaN</td>\n",
       "      <td>St Kilda East, VIC, Australia</td>\n",
       "      <td>St Kilda East</td>\n",
       "      <td>Port Phillip</td>\n",
       "      <td>St Kilda East</td>\n",
       "      <td>VIC</td>\n",
       "      <td>3183</td>\n",
       "      <td>69</td>\n",
       "      <td>400.0</td>\n",
       "      <td>1900.0</td>\n",
       "      <td>9.0</td>\n",
       "      <td>10.0</td>\n",
       "    </tr>\n",
       "  </tbody>\n",
       "</table>\n",
       "</div>"
      ],
      "text/plain": [
       "                                         description  \\\n",
       "0  House: Clean, New, Modern, Quite, Safe. 10Km f...   \n",
       "1  A large air conditioned room with queen spring...   \n",
       "2  RIGHT IN THE HEART OF ST KILDA! It doesn't get...   \n",
       "3  Comfortable, relaxed house, a home away from  ...   \n",
       "4  We offer comfortable accommodation in Inner Me...   \n",
       "\n",
       "                               neighborhood_overview  \\\n",
       "0       Very safe! Family oriented. Older age group.   \n",
       "1  This hip area is a crossroads between two grea...   \n",
       "2  A stay at our apartment means you can enjoy so...   \n",
       "3  This is a great neighbourhood – it is quiet, y...   \n",
       "4                                                NaN   \n",
       "\n",
       "                           street   neighborhood          city  \\\n",
       "0         Bulleen, VIC, Australia   Balwyn North    Manningham   \n",
       "1  Brunswick East, VIC, Australia      Brunswick      Moreland   \n",
       "2        St Kilda, VIC, Australia       St Kilda  Port Phillip   \n",
       "3       Thornbury, VIC, Australia      Thornbury       Darebin   \n",
       "4   St Kilda East, VIC, Australia  St Kilda East  Port Phillip   \n",
       "\n",
       "           suburb state zipcode  price  weekly_price  monthly_price  \\\n",
       "0         Bulleen   VIC    3105     60           NaN            NaN   \n",
       "1  Brunswick East   VIC    3057     35         200.0          803.0   \n",
       "2        St Kilda   VIC    3182    159        1253.0         4452.0   \n",
       "3       Thornbury   VIC    3071     50         250.0          920.0   \n",
       "4   St Kilda East   VIC    3183     69         400.0         1900.0   \n",
       "\n",
       "   review_scores_value  review_scores_location  \n",
       "0                  9.0                     9.0  \n",
       "1                  9.0                     9.0  \n",
       "2                  9.0                     9.0  \n",
       "3                  9.0                     9.0  \n",
       "4                  9.0                    10.0  "
      ]
     },
     "execution_count": 44,
     "metadata": {},
     "output_type": "execute_result"
    }
   ],
   "source": [
    "airbnb_df_2 = pd.read_csv('https://cs.famaf.unc.edu.ar/~mteruel/datasets/diplodatos/cleansed_listings_dec18.csv')\n",
    "#print(airbnb_df_2.columns)\n",
    "interesting_cols = [\n",
    "  'description', 'neighborhood_overview',\n",
    "  'street','neighborhood', 'city', 'suburb', 'state',\n",
    "  'zipcode','price', 'weekly_price', 'monthly_price',\n",
    "  'review_scores_value','review_scores_location']\n",
    "airbnb_df_ic = airbnb_df_2[interesting_cols]\n",
    "airbnb_df_ic.head()"
   ]
  },
  {
   "cell_type": "markdown",
   "id": "S1TJ9q4_tuNw",
   "metadata": {
    "id": "S1TJ9q4_tuNw"
   },
   "source": [
    "Es necesario que Postcode y zipcode tengan el mismo formato"
   ]
  },
  {
   "cell_type": "code",
   "execution_count": 45,
   "id": "pbF8bjLPs1a3",
   "metadata": {
    "colab": {
     "base_uri": "https://localhost:8080/"
    },
    "executionInfo": {
     "elapsed": 72,
     "status": "ok",
     "timestamp": 1656110517449,
     "user": {
      "displayName": "Federico Bosack",
      "userId": "11160353378770070862"
     },
     "user_tz": 180
    },
    "id": "pbF8bjLPs1a3",
    "outputId": "35c15d70-8b3a-46a4-e29c-7d960ea35ce5"
   },
   "outputs": [
    {
     "name": "stderr",
     "output_type": "stream",
     "text": [
      "C:\\Users\\teoas\\AppData\\Local\\Temp\\ipykernel_19084\\1900259708.py:2: SettingWithCopyWarning: \n",
      "A value is trying to be set on a copy of a slice from a DataFrame.\n",
      "Try using .loc[row_indexer,col_indexer] = value instead\n",
      "\n",
      "See the caveats in the documentation: https://pandas.pydata.org/pandas-docs/stable/user_guide/indexing.html#returning-a-view-versus-a-copy\n",
      "  airbnb_df_ic['zipcode'] = pd.to_numeric(airbnb_df_ic.zipcode, errors='coerce')\n"
     ]
    }
   ],
   "source": [
    "#airbnb_df_ic.zipcode.value_counts().head(5)\n",
    "airbnb_df_ic['zipcode'] = pd.to_numeric(airbnb_df_ic.zipcode, errors='coerce')\n",
    "#airbnb_df_ic.zipcode.value_counts().head(5)"
   ]
  },
  {
   "cell_type": "markdown",
   "id": "m3o-EYqsz-AC",
   "metadata": {
    "id": "m3o-EYqsz-AC"
   },
   "source": [
    "####1. Seleccionar qué variables agregar y qué combinaciones aplicar a cada una. Por ejemplo, pueden utilizar solo la columna `price`, o aplicar múltiples transformaciones como la mediana o el mínimo."
   ]
  },
  {
   "cell_type": "markdown",
   "id": "TtlnbY8pnbsX",
   "metadata": {
    "id": "TtlnbY8pnbsX"
   },
   "source": [
    "Utilizaremos el precio y reviews del valor y localizacion"
   ]
  },
  {
   "cell_type": "code",
   "execution_count": 46,
   "id": "2pQOW8u-kNcf",
   "metadata": {
    "colab": {
     "base_uri": "https://localhost:8080/",
     "height": 300
    },
    "executionInfo": {
     "elapsed": 66,
     "status": "ok",
     "timestamp": 1656110517450,
     "user": {
      "displayName": "Federico Bosack",
      "userId": "11160353378770070862"
     },
     "user_tz": 180
    },
    "id": "2pQOW8u-kNcf",
    "outputId": "644d44aa-b752-4985-dafa-09b43044b839"
   },
   "outputs": [
    {
     "data": {
      "text/html": [
       "<div>\n",
       "<style scoped>\n",
       "    .dataframe tbody tr th:only-of-type {\n",
       "        vertical-align: middle;\n",
       "    }\n",
       "\n",
       "    .dataframe tbody tr th {\n",
       "        vertical-align: top;\n",
       "    }\n",
       "\n",
       "    .dataframe thead th {\n",
       "        text-align: right;\n",
       "    }\n",
       "</style>\n",
       "<table border=\"1\" class=\"dataframe\">\n",
       "  <thead>\n",
       "    <tr style=\"text-align: right;\">\n",
       "      <th></th>\n",
       "      <th>price</th>\n",
       "      <th>review_scores_value</th>\n",
       "      <th>review_scores_location</th>\n",
       "    </tr>\n",
       "  </thead>\n",
       "  <tbody>\n",
       "    <tr>\n",
       "      <th>count</th>\n",
       "      <td>22895.000000</td>\n",
       "      <td>17160.000000</td>\n",
       "      <td>17162.000000</td>\n",
       "    </tr>\n",
       "    <tr>\n",
       "      <th>mean</th>\n",
       "      <td>148.004368</td>\n",
       "      <td>9.478205</td>\n",
       "      <td>9.714078</td>\n",
       "    </tr>\n",
       "    <tr>\n",
       "      <th>std</th>\n",
       "      <td>210.883253</td>\n",
       "      <td>0.892818</td>\n",
       "      <td>0.697961</td>\n",
       "    </tr>\n",
       "    <tr>\n",
       "      <th>min</th>\n",
       "      <td>0.000000</td>\n",
       "      <td>2.000000</td>\n",
       "      <td>2.000000</td>\n",
       "    </tr>\n",
       "    <tr>\n",
       "      <th>25%</th>\n",
       "      <td>71.000000</td>\n",
       "      <td>9.000000</td>\n",
       "      <td>10.000000</td>\n",
       "    </tr>\n",
       "    <tr>\n",
       "      <th>50%</th>\n",
       "      <td>111.000000</td>\n",
       "      <td>10.000000</td>\n",
       "      <td>10.000000</td>\n",
       "    </tr>\n",
       "    <tr>\n",
       "      <th>75%</th>\n",
       "      <td>165.000000</td>\n",
       "      <td>10.000000</td>\n",
       "      <td>10.000000</td>\n",
       "    </tr>\n",
       "    <tr>\n",
       "      <th>max</th>\n",
       "      <td>12624.000000</td>\n",
       "      <td>10.000000</td>\n",
       "      <td>10.000000</td>\n",
       "    </tr>\n",
       "  </tbody>\n",
       "</table>\n",
       "</div>"
      ],
      "text/plain": [
       "              price  review_scores_value  review_scores_location\n",
       "count  22895.000000         17160.000000            17162.000000\n",
       "mean     148.004368             9.478205                9.714078\n",
       "std      210.883253             0.892818                0.697961\n",
       "min        0.000000             2.000000                2.000000\n",
       "25%       71.000000             9.000000               10.000000\n",
       "50%      111.000000            10.000000               10.000000\n",
       "75%      165.000000            10.000000               10.000000\n",
       "max    12624.000000            10.000000               10.000000"
      ]
     },
     "execution_count": 46,
     "metadata": {},
     "output_type": "execute_result"
    }
   ],
   "source": [
    "airbnb_df_ic[['price','review_scores_value','review_scores_location']].describe()"
   ]
  },
  {
   "cell_type": "markdown",
   "id": "IBVS7kbVn0XB",
   "metadata": {
    "id": "IBVS7kbVn0XB"
   },
   "source": [
    "Crearemos un df agrupado con la media de los tres datos y agrupados por zipcode para luego unirla al df de melbourne"
   ]
  },
  {
   "cell_type": "code",
   "execution_count": 47,
   "id": "Bl2TKxAcqjCh",
   "metadata": {
    "colab": {
     "base_uri": "https://localhost:8080/",
     "height": 424
    },
    "executionInfo": {
     "elapsed": 14,
     "status": "ok",
     "timestamp": 1656110520594,
     "user": {
      "displayName": "Federico Bosack",
      "userId": "11160353378770070862"
     },
     "user_tz": 180
    },
    "id": "Bl2TKxAcqjCh",
    "outputId": "ded34176-2082-42e2-d2c5-0a7a63539391"
   },
   "outputs": [
    {
     "data": {
      "text/html": [
       "<div>\n",
       "<style scoped>\n",
       "    .dataframe tbody tr th:only-of-type {\n",
       "        vertical-align: middle;\n",
       "    }\n",
       "\n",
       "    .dataframe tbody tr th {\n",
       "        vertical-align: top;\n",
       "    }\n",
       "\n",
       "    .dataframe thead th {\n",
       "        text-align: right;\n",
       "    }\n",
       "</style>\n",
       "<table border=\"1\" class=\"dataframe\">\n",
       "  <thead>\n",
       "    <tr style=\"text-align: right;\">\n",
       "      <th></th>\n",
       "      <th>price</th>\n",
       "      <th>review_scores_value</th>\n",
       "      <th>review_scores_location</th>\n",
       "      <th>zipcode</th>\n",
       "    </tr>\n",
       "  </thead>\n",
       "  <tbody>\n",
       "    <tr>\n",
       "      <th>0</th>\n",
       "      <td>60</td>\n",
       "      <td>9.0</td>\n",
       "      <td>9.0</td>\n",
       "      <td>3105.0</td>\n",
       "    </tr>\n",
       "    <tr>\n",
       "      <th>1</th>\n",
       "      <td>35</td>\n",
       "      <td>9.0</td>\n",
       "      <td>9.0</td>\n",
       "      <td>3057.0</td>\n",
       "    </tr>\n",
       "    <tr>\n",
       "      <th>2</th>\n",
       "      <td>159</td>\n",
       "      <td>9.0</td>\n",
       "      <td>9.0</td>\n",
       "      <td>3182.0</td>\n",
       "    </tr>\n",
       "    <tr>\n",
       "      <th>3</th>\n",
       "      <td>50</td>\n",
       "      <td>9.0</td>\n",
       "      <td>9.0</td>\n",
       "      <td>3071.0</td>\n",
       "    </tr>\n",
       "    <tr>\n",
       "      <th>4</th>\n",
       "      <td>69</td>\n",
       "      <td>9.0</td>\n",
       "      <td>10.0</td>\n",
       "      <td>3183.0</td>\n",
       "    </tr>\n",
       "    <tr>\n",
       "      <th>...</th>\n",
       "      <td>...</td>\n",
       "      <td>...</td>\n",
       "      <td>...</td>\n",
       "      <td>...</td>\n",
       "    </tr>\n",
       "    <tr>\n",
       "      <th>22890</th>\n",
       "      <td>55</td>\n",
       "      <td>NaN</td>\n",
       "      <td>NaN</td>\n",
       "      <td>3053.0</td>\n",
       "    </tr>\n",
       "    <tr>\n",
       "      <th>22891</th>\n",
       "      <td>129</td>\n",
       "      <td>NaN</td>\n",
       "      <td>NaN</td>\n",
       "      <td>3338.0</td>\n",
       "    </tr>\n",
       "    <tr>\n",
       "      <th>22892</th>\n",
       "      <td>53</td>\n",
       "      <td>NaN</td>\n",
       "      <td>NaN</td>\n",
       "      <td>3150.0</td>\n",
       "    </tr>\n",
       "    <tr>\n",
       "      <th>22893</th>\n",
       "      <td>130</td>\n",
       "      <td>NaN</td>\n",
       "      <td>NaN</td>\n",
       "      <td>3006.0</td>\n",
       "    </tr>\n",
       "    <tr>\n",
       "      <th>22894</th>\n",
       "      <td>179</td>\n",
       "      <td>NaN</td>\n",
       "      <td>NaN</td>\n",
       "      <td>3053.0</td>\n",
       "    </tr>\n",
       "  </tbody>\n",
       "</table>\n",
       "<p>22895 rows × 4 columns</p>\n",
       "</div>"
      ],
      "text/plain": [
       "       price  review_scores_value  review_scores_location  zipcode\n",
       "0         60                  9.0                     9.0   3105.0\n",
       "1         35                  9.0                     9.0   3057.0\n",
       "2        159                  9.0                     9.0   3182.0\n",
       "3         50                  9.0                     9.0   3071.0\n",
       "4         69                  9.0                    10.0   3183.0\n",
       "...      ...                  ...                     ...      ...\n",
       "22890     55                  NaN                     NaN   3053.0\n",
       "22891    129                  NaN                     NaN   3338.0\n",
       "22892     53                  NaN                     NaN   3150.0\n",
       "22893    130                  NaN                     NaN   3006.0\n",
       "22894    179                  NaN                     NaN   3053.0\n",
       "\n",
       "[22895 rows x 4 columns]"
      ]
     },
     "execution_count": 47,
     "metadata": {},
     "output_type": "execute_result"
    }
   ],
   "source": [
    "relevant_cols = ['price','review_scores_value','review_scores_location', 'zipcode']\n",
    "airbnb_df_ic[relevant_cols]"
   ]
  },
  {
   "cell_type": "code",
   "execution_count": 48,
   "id": "EyIqmvItoKEs",
   "metadata": {
    "colab": {
     "base_uri": "https://localhost:8080/",
     "height": 441
    },
    "executionInfo": {
     "elapsed": 351,
     "status": "ok",
     "timestamp": 1656110523410,
     "user": {
      "displayName": "Federico Bosack",
      "userId": "11160353378770070862"
     },
     "user_tz": 180
    },
    "id": "EyIqmvItoKEs",
    "outputId": "38792364-9092-4f19-8597-527a835df08f"
   },
   "outputs": [
    {
     "name": "stdout",
     "output_type": "stream",
     "text": [
      "Long: 247\n"
     ]
    },
    {
     "data": {
      "text/html": [
       "<div>\n",
       "<style scoped>\n",
       "    .dataframe tbody tr th:only-of-type {\n",
       "        vertical-align: middle;\n",
       "    }\n",
       "\n",
       "    .dataframe tbody tr th {\n",
       "        vertical-align: top;\n",
       "    }\n",
       "\n",
       "    .dataframe thead th {\n",
       "        text-align: right;\n",
       "    }\n",
       "</style>\n",
       "<table border=\"1\" class=\"dataframe\">\n",
       "  <thead>\n",
       "    <tr style=\"text-align: right;\">\n",
       "      <th></th>\n",
       "      <th>zipcode</th>\n",
       "      <th>airbnb_price_mean</th>\n",
       "      <th>airbnb_record_count</th>\n",
       "      <th>review_scores_value_mean</th>\n",
       "      <th>review_scores_location_mean</th>\n",
       "    </tr>\n",
       "  </thead>\n",
       "  <tbody>\n",
       "    <tr>\n",
       "      <th>0</th>\n",
       "      <td>2010.0</td>\n",
       "      <td>40.000000</td>\n",
       "      <td>1</td>\n",
       "      <td>NaN</td>\n",
       "      <td>NaN</td>\n",
       "    </tr>\n",
       "    <tr>\n",
       "      <th>1</th>\n",
       "      <td>2134.0</td>\n",
       "      <td>50.000000</td>\n",
       "      <td>1</td>\n",
       "      <td>NaN</td>\n",
       "      <td>NaN</td>\n",
       "    </tr>\n",
       "    <tr>\n",
       "      <th>2</th>\n",
       "      <td>2582.0</td>\n",
       "      <td>104.000000</td>\n",
       "      <td>1</td>\n",
       "      <td>NaN</td>\n",
       "      <td>NaN</td>\n",
       "    </tr>\n",
       "    <tr>\n",
       "      <th>3</th>\n",
       "      <td>3000.0</td>\n",
       "      <td>150.504307</td>\n",
       "      <td>3367</td>\n",
       "      <td>9.380022</td>\n",
       "      <td>9.912808</td>\n",
       "    </tr>\n",
       "    <tr>\n",
       "      <th>4</th>\n",
       "      <td>3001.0</td>\n",
       "      <td>132.500000</td>\n",
       "      <td>2</td>\n",
       "      <td>8.500000</td>\n",
       "      <td>9.000000</td>\n",
       "    </tr>\n",
       "    <tr>\n",
       "      <th>...</th>\n",
       "      <td>...</td>\n",
       "      <td>...</td>\n",
       "      <td>...</td>\n",
       "      <td>...</td>\n",
       "      <td>...</td>\n",
       "    </tr>\n",
       "    <tr>\n",
       "      <th>242</th>\n",
       "      <td>7367.0</td>\n",
       "      <td>230.000000</td>\n",
       "      <td>1</td>\n",
       "      <td>NaN</td>\n",
       "      <td>NaN</td>\n",
       "    </tr>\n",
       "    <tr>\n",
       "      <th>243</th>\n",
       "      <td>8938.0</td>\n",
       "      <td>296.000000</td>\n",
       "      <td>1</td>\n",
       "      <td>NaN</td>\n",
       "      <td>NaN</td>\n",
       "    </tr>\n",
       "    <tr>\n",
       "      <th>244</th>\n",
       "      <td>9004.0</td>\n",
       "      <td>226.000000</td>\n",
       "      <td>1</td>\n",
       "      <td>NaN</td>\n",
       "      <td>NaN</td>\n",
       "    </tr>\n",
       "    <tr>\n",
       "      <th>245</th>\n",
       "      <td>9540.0</td>\n",
       "      <td>245.000000</td>\n",
       "      <td>1</td>\n",
       "      <td>NaN</td>\n",
       "      <td>NaN</td>\n",
       "    </tr>\n",
       "    <tr>\n",
       "      <th>246</th>\n",
       "      <td>30122.0</td>\n",
       "      <td>75.000000</td>\n",
       "      <td>1</td>\n",
       "      <td>10.000000</td>\n",
       "      <td>10.000000</td>\n",
       "    </tr>\n",
       "  </tbody>\n",
       "</table>\n",
       "<p>247 rows × 5 columns</p>\n",
       "</div>"
      ],
      "text/plain": [
       "     zipcode  airbnb_price_mean  airbnb_record_count  \\\n",
       "0     2010.0          40.000000                    1   \n",
       "1     2134.0          50.000000                    1   \n",
       "2     2582.0         104.000000                    1   \n",
       "3     3000.0         150.504307                 3367   \n",
       "4     3001.0         132.500000                    2   \n",
       "..       ...                ...                  ...   \n",
       "242   7367.0         230.000000                    1   \n",
       "243   8938.0         296.000000                    1   \n",
       "244   9004.0         226.000000                    1   \n",
       "245   9540.0         245.000000                    1   \n",
       "246  30122.0          75.000000                    1   \n",
       "\n",
       "     review_scores_value_mean  review_scores_location_mean  \n",
       "0                         NaN                          NaN  \n",
       "1                         NaN                          NaN  \n",
       "2                         NaN                          NaN  \n",
       "3                    9.380022                     9.912808  \n",
       "4                    8.500000                     9.000000  \n",
       "..                        ...                          ...  \n",
       "242                       NaN                          NaN  \n",
       "243                       NaN                          NaN  \n",
       "244                       NaN                          NaN  \n",
       "245                       NaN                          NaN  \n",
       "246                 10.000000                    10.000000  \n",
       "\n",
       "[247 rows x 5 columns]"
      ]
     },
     "execution_count": 48,
     "metadata": {},
     "output_type": "execute_result"
    }
   ],
   "source": [
    "## Option 1\n",
    "# Pass a dictionary where the keys are the original columns to aggregate and\n",
    "# the values are the operations (or list of operations).\n",
    "airbnb_price_by_zipcode = airbnb_df_ic[relevant_cols].groupby('zipcode')\\\n",
    "  .agg({'price': ['mean', 'count'], 'review_scores_value': 'mean',\n",
    "        'review_scores_location': 'mean'})\\\n",
    "  .reset_index()\n",
    "\n",
    "\n",
    "# Flatten the two level columns\n",
    "airbnb_price_by_zipcode.columns = [\n",
    "  '_'.join(col).strip()\n",
    "  for col in airbnb_price_by_zipcode.columns.values]\n",
    "# Rename columns\n",
    "airbnb_price_by_zipcode = airbnb_price_by_zipcode.rename(\n",
    "    columns={'zipcode_': 'zipcode',\n",
    "             'price_mean': 'airbnb_price_mean',\n",
    "             'price_count': 'airbnb_record_count',\n",
    "             'review_scores_value mean': 'review_scores_value_mean',\n",
    "             'review_scores_location mean': 'review_scores_location_mean'}\n",
    ")\n",
    "print(f\"Long: {len(airbnb_price_by_zipcode)}\")\n",
    "\n",
    "airbnb_price_by_zipcode"
   ]
  },
  {
   "cell_type": "markdown",
   "id": "FwJJlWgW0AvP",
   "metadata": {
    "id": "FwJJlWgW0AvP"
   },
   "source": [
    "####2. Utilizar la variable zipcode para unir los conjuntos de datos. Sólo incluir los zipcodes que tengan una cantidad mínima de registros (a elección) como para que la información agregada sea relevante."
   ]
  },
  {
   "cell_type": "markdown",
   "id": "RWh-E_popfz-",
   "metadata": {
    "id": "RWh-E_popfz-"
   },
   "source": [
    "Nos quedamos con los zipcodes que tengan una cantidad minima de 2 registros ya que 5 es el quantil 25% suena razonable"
   ]
  },
  {
   "cell_type": "code",
   "execution_count": 49,
   "id": "IYXmMFImqnLz",
   "metadata": {
    "colab": {
     "base_uri": "https://localhost:8080/",
     "height": 441
    },
    "executionInfo": {
     "elapsed": 389,
     "status": "ok",
     "timestamp": 1656110526420,
     "user": {
      "displayName": "Federico Bosack",
      "userId": "11160353378770070862"
     },
     "user_tz": 180
    },
    "id": "IYXmMFImqnLz",
    "outputId": "0fd02bb0-fb11-4d75-87b0-b12512d9310f"
   },
   "outputs": [
    {
     "name": "stdout",
     "output_type": "stream",
     "text": [
      "Long: 226\n"
     ]
    },
    {
     "data": {
      "text/html": [
       "<div>\n",
       "<style scoped>\n",
       "    .dataframe tbody tr th:only-of-type {\n",
       "        vertical-align: middle;\n",
       "    }\n",
       "\n",
       "    .dataframe tbody tr th {\n",
       "        vertical-align: top;\n",
       "    }\n",
       "\n",
       "    .dataframe thead th {\n",
       "        text-align: right;\n",
       "    }\n",
       "</style>\n",
       "<table border=\"1\" class=\"dataframe\">\n",
       "  <thead>\n",
       "    <tr style=\"text-align: right;\">\n",
       "      <th></th>\n",
       "      <th>zipcode</th>\n",
       "      <th>airbnb_price_mean</th>\n",
       "      <th>airbnb_record_count</th>\n",
       "      <th>review_scores_value_mean</th>\n",
       "      <th>review_scores_location_mean</th>\n",
       "    </tr>\n",
       "  </thead>\n",
       "  <tbody>\n",
       "    <tr>\n",
       "      <th>3</th>\n",
       "      <td>3000.0</td>\n",
       "      <td>150.504307</td>\n",
       "      <td>3367</td>\n",
       "      <td>9.380022</td>\n",
       "      <td>9.912808</td>\n",
       "    </tr>\n",
       "    <tr>\n",
       "      <th>4</th>\n",
       "      <td>3001.0</td>\n",
       "      <td>132.500000</td>\n",
       "      <td>2</td>\n",
       "      <td>8.500000</td>\n",
       "      <td>9.000000</td>\n",
       "    </tr>\n",
       "    <tr>\n",
       "      <th>5</th>\n",
       "      <td>3002.0</td>\n",
       "      <td>200.979695</td>\n",
       "      <td>197</td>\n",
       "      <td>9.513699</td>\n",
       "      <td>9.890411</td>\n",
       "    </tr>\n",
       "    <tr>\n",
       "      <th>6</th>\n",
       "      <td>3003.0</td>\n",
       "      <td>130.205993</td>\n",
       "      <td>267</td>\n",
       "      <td>9.533654</td>\n",
       "      <td>9.658654</td>\n",
       "    </tr>\n",
       "    <tr>\n",
       "      <th>7</th>\n",
       "      <td>3004.0</td>\n",
       "      <td>158.271978</td>\n",
       "      <td>728</td>\n",
       "      <td>9.375899</td>\n",
       "      <td>9.782374</td>\n",
       "    </tr>\n",
       "    <tr>\n",
       "      <th>...</th>\n",
       "      <td>...</td>\n",
       "      <td>...</td>\n",
       "      <td>...</td>\n",
       "      <td>...</td>\n",
       "      <td>...</td>\n",
       "    </tr>\n",
       "    <tr>\n",
       "      <th>231</th>\n",
       "      <td>3975.0</td>\n",
       "      <td>99.500000</td>\n",
       "      <td>6</td>\n",
       "      <td>9.500000</td>\n",
       "      <td>9.500000</td>\n",
       "    </tr>\n",
       "    <tr>\n",
       "      <th>232</th>\n",
       "      <td>3976.0</td>\n",
       "      <td>55.000000</td>\n",
       "      <td>2</td>\n",
       "      <td>10.000000</td>\n",
       "      <td>9.000000</td>\n",
       "    </tr>\n",
       "    <tr>\n",
       "      <th>233</th>\n",
       "      <td>3977.0</td>\n",
       "      <td>92.955556</td>\n",
       "      <td>45</td>\n",
       "      <td>9.562500</td>\n",
       "      <td>9.312500</td>\n",
       "    </tr>\n",
       "    <tr>\n",
       "      <th>234</th>\n",
       "      <td>3978.0</td>\n",
       "      <td>177.000000</td>\n",
       "      <td>7</td>\n",
       "      <td>9.200000</td>\n",
       "      <td>9.400000</td>\n",
       "    </tr>\n",
       "    <tr>\n",
       "      <th>235</th>\n",
       "      <td>3980.0</td>\n",
       "      <td>86.400000</td>\n",
       "      <td>5</td>\n",
       "      <td>10.000000</td>\n",
       "      <td>9.400000</td>\n",
       "    </tr>\n",
       "  </tbody>\n",
       "</table>\n",
       "<p>226 rows × 5 columns</p>\n",
       "</div>"
      ],
      "text/plain": [
       "     zipcode  airbnb_price_mean  airbnb_record_count  \\\n",
       "3     3000.0         150.504307                 3367   \n",
       "4     3001.0         132.500000                    2   \n",
       "5     3002.0         200.979695                  197   \n",
       "6     3003.0         130.205993                  267   \n",
       "7     3004.0         158.271978                  728   \n",
       "..       ...                ...                  ...   \n",
       "231   3975.0          99.500000                    6   \n",
       "232   3976.0          55.000000                    2   \n",
       "233   3977.0          92.955556                   45   \n",
       "234   3978.0         177.000000                    7   \n",
       "235   3980.0          86.400000                    5   \n",
       "\n",
       "     review_scores_value_mean  review_scores_location_mean  \n",
       "3                    9.380022                     9.912808  \n",
       "4                    8.500000                     9.000000  \n",
       "5                    9.513699                     9.890411  \n",
       "6                    9.533654                     9.658654  \n",
       "7                    9.375899                     9.782374  \n",
       "..                        ...                          ...  \n",
       "231                  9.500000                     9.500000  \n",
       "232                 10.000000                     9.000000  \n",
       "233                  9.562500                     9.312500  \n",
       "234                  9.200000                     9.400000  \n",
       "235                 10.000000                     9.400000  \n",
       "\n",
       "[226 rows x 5 columns]"
      ]
     },
     "execution_count": 49,
     "metadata": {},
     "output_type": "execute_result"
    }
   ],
   "source": [
    "airbnb_price_by_zipcode_woo = airbnb_price_by_zipcode[(airbnb_price_by_zipcode.airbnb_record_count >= 2)].dropna()\n",
    "print(f\"Long: {len(airbnb_price_by_zipcode_woo)}\")\n",
    "airbnb_price_by_zipcode_woo"
   ]
  },
  {
   "cell_type": "code",
   "execution_count": 50,
   "id": "LnEtEoI8qIFs",
   "metadata": {
    "colab": {
     "base_uri": "https://localhost:8080/"
    },
    "executionInfo": {
     "elapsed": 482,
     "status": "ok",
     "timestamp": 1656110527443,
     "user": {
      "displayName": "Federico Bosack",
      "userId": "11160353378770070862"
     },
     "user_tz": 180
    },
    "id": "LnEtEoI8qIFs",
    "outputId": "89f4a4e5-5f14-454d-afdd-a7c27bc3e856"
   },
   "outputs": [
    {
     "name": "stdout",
     "output_type": "stream",
     "text": [
      "nulls values: 0\n"
     ]
    }
   ],
   "source": [
    "print(f\"nulls values: {airbnb_price_by_zipcode_woo.isnull().sum().sum()}\")"
   ]
  },
  {
   "cell_type": "markdown",
   "id": "OlCWJpWjrU_h",
   "metadata": {
    "id": "OlCWJpWjrU_h"
   },
   "source": [
    "Quitamos los registros que cuenten con valores nulos"
   ]
  },
  {
   "cell_type": "code",
   "execution_count": 51,
   "id": "Wy6otNL_rgIr",
   "metadata": {
    "colab": {
     "base_uri": "https://localhost:8080/"
    },
    "executionInfo": {
     "elapsed": 404,
     "status": "ok",
     "timestamp": 1656110529618,
     "user": {
      "displayName": "Federico Bosack",
      "userId": "11160353378770070862"
     },
     "user_tz": 180
    },
    "id": "Wy6otNL_rgIr",
    "outputId": "ba3ce6b9-5224-4631-c6f2-a5f79c3972c9"
   },
   "outputs": [
    {
     "name": "stdout",
     "output_type": "stream",
     "text": [
      "Long: 226\n"
     ]
    },
    {
     "data": {
      "text/plain": [
       "3000.0      5\n",
       "3003.0     17\n",
       "3011.0    144\n",
       "3012.0    211\n",
       "3013.0    147\n",
       "         ... \n",
       "3754.0     15\n",
       "3765.0      1\n",
       "3775.0      1\n",
       "3796.0      2\n",
       "3802.0      5\n",
       "Name: Postcode, Length: 170, dtype: int64"
      ]
     },
     "execution_count": 51,
     "metadata": {},
     "output_type": "execute_result"
    }
   ],
   "source": [
    "#airbnb_price_by_zipcode_woo = airbnb_price_by_zipcode_woo.dropna()\n",
    "print(f\"Long: {len(airbnb_price_by_zipcode_woo)}\")\n",
    "melb_df_ic_woo.Postcode.value_counts().sort_index(ascending=True)\n",
    "\n",
    "#HABRIA QUE VERIFICAR QUE TODOS LOS 'zipcode' DE AIRBNB  A LOS 'Postcode' DEL DATASET DE MELBOURNE"
   ]
  },
  {
   "cell_type": "markdown",
   "id": "2zE_3mTdrnbj",
   "metadata": {
    "id": "2zE_3mTdrnbj"
   },
   "source": [
    "Procedemos a combinar ambos conjuntos de datos a travez de la variable zipcode"
   ]
  },
  {
   "cell_type": "code",
   "execution_count": 55,
   "id": "QDsXkDvYrsOq",
   "metadata": {
    "colab": {
     "base_uri": "https://localhost:8080/",
     "height": 572
    },
    "executionInfo": {
     "elapsed": 404,
     "status": "ok",
     "timestamp": 1656110532576,
     "user": {
      "displayName": "Federico Bosack",
      "userId": "11160353378770070862"
     },
     "user_tz": 180
    },
    "id": "QDsXkDvYrsOq",
    "outputId": "6f358549-5fd8-4c04-b531-75de35149898"
   },
   "outputs": [
    {
     "name": "stdout",
     "output_type": "stream",
     "text": [
      "Index(['Price', 'Suburb', 'Distance', 'Regionname', 'Postcode', 'Landsize',\n",
      "       'BuildingArea', 'Rooms', 'Bathroom', 'Car', 'YearBuilt', 'Type',\n",
      "       'zipcode', 'airbnb_price_mean', 'airbnb_record_count',\n",
      "       'review_scores_value_mean', 'review_scores_location_mean'],\n",
      "      dtype='object')\n",
      "11116\n"
     ]
    },
    {
     "data": {
      "text/html": [
       "<div>\n",
       "<style scoped>\n",
       "    .dataframe tbody tr th:only-of-type {\n",
       "        vertical-align: middle;\n",
       "    }\n",
       "\n",
       "    .dataframe tbody tr th {\n",
       "        vertical-align: top;\n",
       "    }\n",
       "\n",
       "    .dataframe thead th {\n",
       "        text-align: right;\n",
       "    }\n",
       "</style>\n",
       "<table border=\"1\" class=\"dataframe\">\n",
       "  <thead>\n",
       "    <tr style=\"text-align: right;\">\n",
       "      <th></th>\n",
       "      <th>Price</th>\n",
       "      <th>Suburb</th>\n",
       "      <th>Distance</th>\n",
       "      <th>Regionname</th>\n",
       "      <th>Postcode</th>\n",
       "      <th>Landsize</th>\n",
       "      <th>BuildingArea</th>\n",
       "      <th>Rooms</th>\n",
       "      <th>Bathroom</th>\n",
       "      <th>Car</th>\n",
       "      <th>YearBuilt</th>\n",
       "      <th>Type</th>\n",
       "      <th>zipcode</th>\n",
       "      <th>airbnb_price_mean</th>\n",
       "      <th>airbnb_record_count</th>\n",
       "      <th>review_scores_value_mean</th>\n",
       "      <th>review_scores_location_mean</th>\n",
       "    </tr>\n",
       "  </thead>\n",
       "  <tbody>\n",
       "    <tr>\n",
       "      <th>0</th>\n",
       "      <td>1480000.0</td>\n",
       "      <td>Abbotsford</td>\n",
       "      <td>2.5</td>\n",
       "      <td>Northern Metropolitan</td>\n",
       "      <td>3067.0</td>\n",
       "      <td>202.0</td>\n",
       "      <td>NaN</td>\n",
       "      <td>2</td>\n",
       "      <td>1.0</td>\n",
       "      <td>1.0</td>\n",
       "      <td>NaN</td>\n",
       "      <td>h</td>\n",
       "      <td>3067.0</td>\n",
       "      <td>130.624031</td>\n",
       "      <td>258.0</td>\n",
       "      <td>9.572115</td>\n",
       "      <td>9.697115</td>\n",
       "    </tr>\n",
       "    <tr>\n",
       "      <th>1</th>\n",
       "      <td>1035000.0</td>\n",
       "      <td>Abbotsford</td>\n",
       "      <td>2.5</td>\n",
       "      <td>Northern Metropolitan</td>\n",
       "      <td>3067.0</td>\n",
       "      <td>156.0</td>\n",
       "      <td>79.0</td>\n",
       "      <td>2</td>\n",
       "      <td>1.0</td>\n",
       "      <td>0.0</td>\n",
       "      <td>1900.0</td>\n",
       "      <td>h</td>\n",
       "      <td>3067.0</td>\n",
       "      <td>130.624031</td>\n",
       "      <td>258.0</td>\n",
       "      <td>9.572115</td>\n",
       "      <td>9.697115</td>\n",
       "    </tr>\n",
       "    <tr>\n",
       "      <th>2</th>\n",
       "      <td>1465000.0</td>\n",
       "      <td>Abbotsford</td>\n",
       "      <td>2.5</td>\n",
       "      <td>Northern Metropolitan</td>\n",
       "      <td>3067.0</td>\n",
       "      <td>134.0</td>\n",
       "      <td>150.0</td>\n",
       "      <td>3</td>\n",
       "      <td>2.0</td>\n",
       "      <td>0.0</td>\n",
       "      <td>1900.0</td>\n",
       "      <td>h</td>\n",
       "      <td>3067.0</td>\n",
       "      <td>130.624031</td>\n",
       "      <td>258.0</td>\n",
       "      <td>9.572115</td>\n",
       "      <td>9.697115</td>\n",
       "    </tr>\n",
       "    <tr>\n",
       "      <th>3</th>\n",
       "      <td>850000.0</td>\n",
       "      <td>Abbotsford</td>\n",
       "      <td>2.5</td>\n",
       "      <td>Northern Metropolitan</td>\n",
       "      <td>3067.0</td>\n",
       "      <td>94.0</td>\n",
       "      <td>NaN</td>\n",
       "      <td>3</td>\n",
       "      <td>2.0</td>\n",
       "      <td>1.0</td>\n",
       "      <td>NaN</td>\n",
       "      <td>h</td>\n",
       "      <td>3067.0</td>\n",
       "      <td>130.624031</td>\n",
       "      <td>258.0</td>\n",
       "      <td>9.572115</td>\n",
       "      <td>9.697115</td>\n",
       "    </tr>\n",
       "    <tr>\n",
       "      <th>4</th>\n",
       "      <td>1600000.0</td>\n",
       "      <td>Abbotsford</td>\n",
       "      <td>2.5</td>\n",
       "      <td>Northern Metropolitan</td>\n",
       "      <td>3067.0</td>\n",
       "      <td>120.0</td>\n",
       "      <td>142.0</td>\n",
       "      <td>4</td>\n",
       "      <td>1.0</td>\n",
       "      <td>2.0</td>\n",
       "      <td>2014.0</td>\n",
       "      <td>h</td>\n",
       "      <td>3067.0</td>\n",
       "      <td>130.624031</td>\n",
       "      <td>258.0</td>\n",
       "      <td>9.572115</td>\n",
       "      <td>9.697115</td>\n",
       "    </tr>\n",
       "    <tr>\n",
       "      <th>...</th>\n",
       "      <td>...</td>\n",
       "      <td>...</td>\n",
       "      <td>...</td>\n",
       "      <td>...</td>\n",
       "      <td>...</td>\n",
       "      <td>...</td>\n",
       "      <td>...</td>\n",
       "      <td>...</td>\n",
       "      <td>...</td>\n",
       "      <td>...</td>\n",
       "      <td>...</td>\n",
       "      <td>...</td>\n",
       "      <td>...</td>\n",
       "      <td>...</td>\n",
       "      <td>...</td>\n",
       "      <td>...</td>\n",
       "      <td>...</td>\n",
       "    </tr>\n",
       "    <tr>\n",
       "      <th>11111</th>\n",
       "      <td>1245000.0</td>\n",
       "      <td>Wheelers Hill</td>\n",
       "      <td>16.7</td>\n",
       "      <td>South-Eastern Metropolitan</td>\n",
       "      <td>3150.0</td>\n",
       "      <td>652.0</td>\n",
       "      <td>NaN</td>\n",
       "      <td>4</td>\n",
       "      <td>2.0</td>\n",
       "      <td>2.0</td>\n",
       "      <td>1981.0</td>\n",
       "      <td>h</td>\n",
       "      <td>3150.0</td>\n",
       "      <td>124.026455</td>\n",
       "      <td>189.0</td>\n",
       "      <td>9.443609</td>\n",
       "      <td>9.466165</td>\n",
       "    </tr>\n",
       "    <tr>\n",
       "      <th>11112</th>\n",
       "      <td>1031000.0</td>\n",
       "      <td>Williamstown</td>\n",
       "      <td>6.8</td>\n",
       "      <td>Western Metropolitan</td>\n",
       "      <td>3016.0</td>\n",
       "      <td>333.0</td>\n",
       "      <td>133.0</td>\n",
       "      <td>3</td>\n",
       "      <td>2.0</td>\n",
       "      <td>2.0</td>\n",
       "      <td>1995.0</td>\n",
       "      <td>h</td>\n",
       "      <td>3016.0</td>\n",
       "      <td>191.094595</td>\n",
       "      <td>74.0</td>\n",
       "      <td>9.586957</td>\n",
       "      <td>9.717391</td>\n",
       "    </tr>\n",
       "    <tr>\n",
       "      <th>11113</th>\n",
       "      <td>1170000.0</td>\n",
       "      <td>Williamstown</td>\n",
       "      <td>6.8</td>\n",
       "      <td>Western Metropolitan</td>\n",
       "      <td>3016.0</td>\n",
       "      <td>436.0</td>\n",
       "      <td>NaN</td>\n",
       "      <td>3</td>\n",
       "      <td>2.0</td>\n",
       "      <td>4.0</td>\n",
       "      <td>1997.0</td>\n",
       "      <td>h</td>\n",
       "      <td>3016.0</td>\n",
       "      <td>191.094595</td>\n",
       "      <td>74.0</td>\n",
       "      <td>9.586957</td>\n",
       "      <td>9.717391</td>\n",
       "    </tr>\n",
       "    <tr>\n",
       "      <th>11114</th>\n",
       "      <td>2500000.0</td>\n",
       "      <td>Williamstown</td>\n",
       "      <td>6.8</td>\n",
       "      <td>Western Metropolitan</td>\n",
       "      <td>3016.0</td>\n",
       "      <td>866.0</td>\n",
       "      <td>157.0</td>\n",
       "      <td>4</td>\n",
       "      <td>1.0</td>\n",
       "      <td>5.0</td>\n",
       "      <td>1920.0</td>\n",
       "      <td>h</td>\n",
       "      <td>3016.0</td>\n",
       "      <td>191.094595</td>\n",
       "      <td>74.0</td>\n",
       "      <td>9.586957</td>\n",
       "      <td>9.717391</td>\n",
       "    </tr>\n",
       "    <tr>\n",
       "      <th>11115</th>\n",
       "      <td>1285000.0</td>\n",
       "      <td>Yarraville</td>\n",
       "      <td>6.3</td>\n",
       "      <td>Western Metropolitan</td>\n",
       "      <td>3013.0</td>\n",
       "      <td>362.0</td>\n",
       "      <td>112.0</td>\n",
       "      <td>4</td>\n",
       "      <td>1.0</td>\n",
       "      <td>1.0</td>\n",
       "      <td>1920.0</td>\n",
       "      <td>h</td>\n",
       "      <td>3013.0</td>\n",
       "      <td>135.609756</td>\n",
       "      <td>82.0</td>\n",
       "      <td>9.588235</td>\n",
       "      <td>9.485294</td>\n",
       "    </tr>\n",
       "  </tbody>\n",
       "</table>\n",
       "<p>11116 rows × 17 columns</p>\n",
       "</div>"
      ],
      "text/plain": [
       "           Price         Suburb  Distance                  Regionname  \\\n",
       "0      1480000.0     Abbotsford       2.5       Northern Metropolitan   \n",
       "1      1035000.0     Abbotsford       2.5       Northern Metropolitan   \n",
       "2      1465000.0     Abbotsford       2.5       Northern Metropolitan   \n",
       "3       850000.0     Abbotsford       2.5       Northern Metropolitan   \n",
       "4      1600000.0     Abbotsford       2.5       Northern Metropolitan   \n",
       "...          ...            ...       ...                         ...   \n",
       "11111  1245000.0  Wheelers Hill      16.7  South-Eastern Metropolitan   \n",
       "11112  1031000.0   Williamstown       6.8        Western Metropolitan   \n",
       "11113  1170000.0   Williamstown       6.8        Western Metropolitan   \n",
       "11114  2500000.0   Williamstown       6.8        Western Metropolitan   \n",
       "11115  1285000.0     Yarraville       6.3        Western Metropolitan   \n",
       "\n",
       "       Postcode  Landsize  BuildingArea  Rooms  Bathroom  Car  YearBuilt Type  \\\n",
       "0        3067.0     202.0           NaN      2       1.0  1.0        NaN    h   \n",
       "1        3067.0     156.0          79.0      2       1.0  0.0     1900.0    h   \n",
       "2        3067.0     134.0         150.0      3       2.0  0.0     1900.0    h   \n",
       "3        3067.0      94.0           NaN      3       2.0  1.0        NaN    h   \n",
       "4        3067.0     120.0         142.0      4       1.0  2.0     2014.0    h   \n",
       "...         ...       ...           ...    ...       ...  ...        ...  ...   \n",
       "11111    3150.0     652.0           NaN      4       2.0  2.0     1981.0    h   \n",
       "11112    3016.0     333.0         133.0      3       2.0  2.0     1995.0    h   \n",
       "11113    3016.0     436.0           NaN      3       2.0  4.0     1997.0    h   \n",
       "11114    3016.0     866.0         157.0      4       1.0  5.0     1920.0    h   \n",
       "11115    3013.0     362.0         112.0      4       1.0  1.0     1920.0    h   \n",
       "\n",
       "       zipcode  airbnb_price_mean  airbnb_record_count  \\\n",
       "0       3067.0         130.624031                258.0   \n",
       "1       3067.0         130.624031                258.0   \n",
       "2       3067.0         130.624031                258.0   \n",
       "3       3067.0         130.624031                258.0   \n",
       "4       3067.0         130.624031                258.0   \n",
       "...        ...                ...                  ...   \n",
       "11111   3150.0         124.026455                189.0   \n",
       "11112   3016.0         191.094595                 74.0   \n",
       "11113   3016.0         191.094595                 74.0   \n",
       "11114   3016.0         191.094595                 74.0   \n",
       "11115   3013.0         135.609756                 82.0   \n",
       "\n",
       "       review_scores_value_mean  review_scores_location_mean  \n",
       "0                      9.572115                     9.697115  \n",
       "1                      9.572115                     9.697115  \n",
       "2                      9.572115                     9.697115  \n",
       "3                      9.572115                     9.697115  \n",
       "4                      9.572115                     9.697115  \n",
       "...                         ...                          ...  \n",
       "11111                  9.443609                     9.466165  \n",
       "11112                  9.586957                     9.717391  \n",
       "11113                  9.586957                     9.717391  \n",
       "11114                  9.586957                     9.717391  \n",
       "11115                  9.588235                     9.485294  \n",
       "\n",
       "[11116 rows x 17 columns]"
      ]
     },
     "execution_count": 55,
     "metadata": {},
     "output_type": "execute_result"
    }
   ],
   "source": [
    "merged_sales_df = melb_df_ic_woo.merge(\n",
    "    airbnb_price_by_zipcode_woo, how='left',\n",
    "    left_on='Postcode', right_on='zipcode'\n",
    ")\n",
    "print(merged_sales_df.columns)\n",
    "print(len(merged_sales_df))\n",
    "merged_sales_df[:]"
   ]
  },
  {
   "cell_type": "code",
   "execution_count": 56,
   "id": "4Kdh-uoBR_Qc",
   "metadata": {
    "colab": {
     "base_uri": "https://localhost:8080/",
     "height": 778
    },
    "executionInfo": {
     "elapsed": 1572,
     "status": "ok",
     "timestamp": 1656110536363,
     "user": {
      "displayName": "Federico Bosack",
      "userId": "11160353378770070862"
     },
     "user_tz": 180
    },
    "id": "4Kdh-uoBR_Qc",
    "outputId": "80c816fb-62d2-44b9-8fdb-e510ee1ffa37"
   },
   "outputs": [
    {
     "data": {
      "image/png": "[encoded data removed]",
      "text/plain": [
       "<Figure size 1800x720 with 2 Axes>"
      ]
     },
     "metadata": {
      "needs_background": "light"
     },
     "output_type": "display_data"
    }
   ],
   "source": [
    "import missingno as msno\n",
    "msno.matrix(merged_sales_df);"
   ]
  },
  {
   "cell_type": "markdown",
   "id": "nKmhHcur0Fhr",
   "metadata": {
    "id": "nKmhHcur0Fhr"
   },
   "source": [
    "####3. Investigar al menos otras 2 variables que puedan servir para combinar los datos, y justificar si serían adecuadas o no. Pueden asumir que cuentan con la ayuda de anotadores expertos para encontrar equivalencias entre barrios o direcciones, o que cuentan con algoritmos para encontrar las n ubicaciones más cercanas a una propiedad a partir de sus coordenadas geográficas. **NO** es necesario que realicen la implementación."
   ]
  },
  {
   "cell_type": "markdown",
   "id": "Q7Vd1DMfJZKA",
   "metadata": {
    "id": "Q7Vd1DMfJZKA"
   },
   "source": [
    "Otras variables que pueden servir para combinar los datos son `'type'` y  `'property_type'`. En la columna `'type'` de **melb_df** hay solamente 3 tipos diferentes y categorizados por la primera letra en estos son: House (h), Unit (u) y Townhouse (t), mientras que en `'property_type'` de **airbnb_df** hay como 35 tipos diferentes entre los cuales se pueden encontrar House y Townhouse. Como Unit puede abarcar muchas propiedades, decidimos no tomarla en la combinación, para no proveer información errónea. Los datos de **airbnb_df** se pueden agrupar en estos dos conjuntos, House y Townhouse, y tomar las medias de los precios. Como se hizo anteriormente con `'zipcode'`. \n",
    "Creemos que sería adecuado, ya que al combinar los datos permite una mayor información en el caso en que alguien quiera invertir en comprar una casa para luego ponerla en alquiler por airbnb."
   ]
  },
  {
   "cell_type": "markdown",
   "id": "c5303f27-3b15-441b-b291-8caf1c734139",
   "metadata": {
    "id": "c5303f27-3b15-441b-b291-8caf1c734139"
   },
   "source": [
    "## Ejercicio 3:\n",
    "\n",
    "Crear y guardar un nuevo conjunto de datos con todas las transformaciones realizadas anteriormente."
   ]
  },
  {
   "cell_type": "code",
   "execution_count": 57,
   "id": "3tli9JfkuTt3",
   "metadata": {
    "colab": {
     "base_uri": "https://localhost:8080/",
     "height": 17
    },
    "executionInfo": {
     "elapsed": 454,
     "status": "ok",
     "timestamp": 1656110537232,
     "user": {
      "displayName": "Federico Bosack",
      "userId": "11160353378770070862"
     },
     "user_tz": 180
    },
    "id": "3tli9JfkuTt3",
    "outputId": "b22ee62f-9e56-4fc6-b89a-5ff341591738"
   },
   "outputs": [],
   "source": [
    "merged_sales_df.to_csv(\"merged_scores_df.csv\", index=None)\n",
    "#from google.colab import files\n",
    "#files.download('merged_scores_df.csv')"
   ]
  },
  {
   "cell_type": "markdown",
   "id": "abfd3eeb-d466-424b-b58e-d1364ac39206",
   "metadata": {
    "id": "abfd3eeb-d466-424b-b58e-d1364ac39206"
   },
   "source": [
    "## Ejercicios opcionales:\n",
    "\n",
    "1. Armar un script en python (archivo .py) [ETL](https://towardsdatascience.com/what-to-log-from-python-etl-pipelines-9e0cfe29950e) que corra los pasos de extraccion, transformacion y carga, armando una funcion para cada etapa del proceso y luego un main que corra todos los pasos requeridos.\n",
    "\n",
    "2. Armar un DAG en Apache Airflow que corra el ETL. (https://airflow.apache.org/docs/apache-airflow/stable/tutorial.html)"
   ]
  },
  {
   "cell_type": "code",
   "execution_count": null,
   "id": "5d210b95-836f-45ac-a52d-1a4dafdb447a",
   "metadata": {
    "executionInfo": {
     "elapsed": 30,
     "status": "aborted",
     "timestamp": 1656110518023,
     "user": {
      "displayName": "Federico Bosack",
      "userId": "11160353378770070862"
     },
     "user_tz": 180
    },
    "id": "5d210b95-836f-45ac-a52d-1a4dafdb447a"
   },
   "outputs": [],
   "source": [
    "#FALTA"
   ]
  }
 ],
 "metadata": {
  "colab": {
   "collapsed_sections": [],
   "name": "Entregable_parte_1_22.ipynb",
   "provenance": []
  },
  "kernelspec": {
   "display_name": "Python 3 (ipykernel)",
   "language": "python",
   "name": "python3"
  },
  "language_info": {
   "codemirror_mode": {
    "name": "ipython",
    "version": 3
   },
   "file_extension": ".py",
   "mimetype": "text/x-python",
   "name": "python",
   "nbconvert_exporter": "python",
   "pygments_lexer": "ipython3",
   "version": "3.9.1"
  },
  "vscode": {
   "interpreter": {
    "hash": "e47c0276e3cb14223fee73ba4e1fb3594506519dff1cca7da12778adf196866f"
   }
  }
 },
 "nbformat": 4,
 "nbformat_minor": 5
}
